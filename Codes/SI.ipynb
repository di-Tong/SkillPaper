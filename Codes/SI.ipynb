{
 "cells": [
  {
   "cell_type": "code",
   "execution_count": 1,
   "metadata": {},
   "outputs": [
    {
     "name": "stderr",
     "output_type": "stream",
     "text": [
      "C:\\Users\\ditong\\Anaconda3\\lib\\site-packages\\gensim\\similarities\\__init__.py:15: UserWarning: The gensim.similarities.levenshtein submodule is disabled, because the optional Levenshtein package <https://pypi.org/project/python-Levenshtein/> is unavailable. Install Levenhstein (e.g. `pip install python-Levenshtein`) to suppress this warning.\n",
      "  warnings.warn(msg)\n"
     ]
    }
   ],
   "source": [
    "from gensim.models.keyedvectors import KeyedVectors\n",
    "import numpy as np\n",
    "import pylab as plt\n",
    "from nltk.corpus import words\n",
    "import pandas as pd\n",
    "import sys\n",
    "from scipy import spatial, stats\n",
    "from collections import Counter, defaultdict\n",
    "from matplotlib.colors import ListedColormap\n",
    "from gensim.models import Word2Vec\n",
    "from sklearn.manifold import TSNE\n",
    "import matplotlib.cm as cm\n",
    "from numpy import dot\n",
    "from numpy.linalg import norm\n",
    "import operator\n",
    "from statistics import mean, stdev\n",
    "from scipy.stats import pearsonr, spearmanr  \n",
    "import math\n",
    "from sklearn.preprocessing import PolynomialFeatures \n",
    "from sklearn.linear_model import LinearRegression\n",
    "import seaborn as sns\n",
    "import statsmodels.api as sm\n",
    "import statsmodels.formula.api as smf\n",
    "from statsmodels.iolib.summary2 import summary_col\n",
    "import json\n",
    "import networkx as nx\n",
    "import copy\n",
    "import pickle\n",
    "import matplotlib.colors\n",
    "from stargazer.stargazer import Stargazer, LineLocation\n",
    "import time\n",
    "#from linearmodels.panel import PanelOLS\n",
    "\n",
    "# flush print\n",
    "def flushPrint(d):\n",
    "    sys.stdout.write('\\r')\n",
    "    #sys.stdout.write(str(d))\n",
    "    sys.stdout.write('%d' % d)\n",
    "    sys.stdout.flush()\n",
    "\n",
    "def OLSRegressFit(x,y):\n",
    "    xx = sm.add_constant(x, prepend=True)\n",
    "    res = sm.OLS(y,xx).fit()\n",
    "    constant, beta = res.params\n",
    "    r2 = res.rsquared\n",
    "    return [constant, beta, r2]\n",
    "\n",
    "# calculate CI using bootstrap\n",
    "def calculateCI2(data,method,n, k):\n",
    "    m=int(len(data)*k) #take 10% data\n",
    "    ms=[]\n",
    "    for j in range(n): #number of samples\n",
    "        if method=='mean':\n",
    "                ms.append(np.mean(np.random.choice(data,m)))\n",
    "        if method=='median':\n",
    "                ms.append(np.median(np.random.choice(data,m)))\n",
    "    a,b=[np.percentile(ms,2.5),np.percentile(ms,97.5)]\n",
    "    \n",
    "    return (b-a)/2"
   ]
  },
  {
   "cell_type": "markdown",
   "metadata": {},
   "source": [
    "### Data"
   ]
  },
  {
   "cell_type": "code",
   "execution_count": 193,
   "metadata": {},
   "outputs": [],
   "source": [
    "# all data, 200 dimensions, 300 window, skipgram, negative sampling 5, word occurence > 10\n",
    "model = Word2Vec.load(\"/Users/ditong/Dropbox (MIT)/skills/SkillPaper/IntermediateData/w2v_m10_s200_w300_sg1_n5.model\")"
   ]
  },
  {
   "cell_type": "code",
   "execution_count": 362,
   "metadata": {},
   "outputs": [],
   "source": [
    "# JOB YEAR NPOSTS Medianpay Mineducation\n",
    "jyn = defaultdict(lambda:defaultdict(lambda:0))\n",
    "yjn = defaultdict(lambda:defaultdict(lambda:0))\n",
    "jye = defaultdict(lambda:defaultdict(lambda:0))\n",
    "yje = defaultdict(lambda:defaultdict(lambda:0))\n",
    "jyp = defaultdict(lambda:defaultdict(lambda:0))\n",
    "yjp = defaultdict(lambda:defaultdict(lambda:0))\n",
    "with open('/Users/ditong/Dropbox (MIT)/skills/SkillPaper/IntermediateData/year_socName_Nposts_aveMedianPay_aveMinEdu.txt',\n",
    "          'r') as f:\n",
    "    for line in f:\n",
    "        line_lst = line[:-1].split('\\t')\n",
    "        year = int(line_lst[0])\n",
    "        job = line_lst[1]\n",
    "        num = int(line_lst[2])\n",
    "        edu = line_lst[3]\n",
    "        pay = line_lst[4]\n",
    "        if year != 2019:\n",
    "            jyn[job][year] = num\n",
    "            yjn[year][job] = num\n",
    "            if edu != 'nan' and edu != 'nan\\n': \n",
    "                if float(edu) > 0:\n",
    "                    jye[job][year] = float(edu)\n",
    "                    yje[year][job.lower()] = float(edu)\n",
    "            if pay != 'nan' and pay != 'nan\\n':\n",
    "                if float(pay) > 0:\n",
    "                    jyp[job][year] = float(pay)\n",
    "                    yjp[year][job] = float(pay)"
   ]
  },
  {
   "cell_type": "code",
   "execution_count": 363,
   "metadata": {},
   "outputs": [],
   "source": [
    "# soc - pay - education\n",
    "oe={}\n",
    "op={}\n",
    "with open('/Users/ditong/Dropbox (MIT)/skills/SkillPaper/IntermediateData/socName_aveMedianPay_aveMinEdu_socGroup.txt','r') as f:\n",
    "    for line in f:\n",
    "        line_lst = line[:-1].split('\\t')\n",
    "        job = line_lst[0]\n",
    "        op[job] = float(line_lst[1])\n",
    "        oe[job] = float(line_lst[2])"
   ]
  },
  {
   "cell_type": "code",
   "execution_count": 364,
   "metadata": {},
   "outputs": [],
   "source": [
    "# JOB-SKILL DATA\n",
    "# without filtering the skills\n",
    "yjas = defaultdict(lambda:defaultdict(lambda:defaultdict(lambda:0)))\n",
    "with open('/Users/ditong/Dropbox (MIT)/skills/SkillPaper/IntermediateData/occ_year_skill_freq.txt', 'r') as f:\n",
    "    for line in f:\n",
    "        line_lst = line.split(\"\\t\")\n",
    "        job = line_lst[0]\n",
    "        year = int(line_lst[1])\n",
    "        skills = line_lst[2:]\n",
    "        if year == 2010 or year==2018:\n",
    "            if len(skills) > 5:\n",
    "                for skill_tfidf in skills:\n",
    "                    skill = skill_tfidf.split('_')[0].lower()\n",
    "                    tfidf = float(skill_tfidf.split('_')[1])\n",
    "                    yjas[year][job][skill] = tfidf\n",
    "                    \n",
    "# job - top 5% defining skills\n",
    "jys = defaultdict(lambda:defaultdict(lambda:[]))\n",
    "syj = defaultdict(lambda:defaultdict(lambda:[]))\n",
    "for year in yjas:\n",
    "    for job in yjas[year]:\n",
    "        threshold = np.quantile(list(yjas[year][job].values()), [0.95])\n",
    "        #threshold = np.mean(list(yjas[year][job].values()))\n",
    "        for skill in yjas[year][job]:\n",
    "            if yjas[year][job][skill] > threshold:\n",
    "                jys[job][year].append(skill)\n",
    "                syj[skill][year].append(job)\n",
    "        if len(jys[job][year]) < 5:\n",
    "            #print(job, year)\n",
    "            del jys[job][year]\n",
    "            fulllist = syj[skill][year]\n",
    "            syj[skill][year] = [value for value in fulllist if value != job]\n",
    "            \n",
    "# job - SKILL NUMBER\n",
    "osn = {}\n",
    "for job in jys:\n",
    "    snlst = []\n",
    "    for yr in jys[job]:\n",
    "        if len(jys[job][yr]) != 0:\n",
    "            snlst.append(len(jys[job][yr]))\n",
    "    if snlst:\n",
    "        osn[job] = round(np.mean(snlst)) # np.log(round(np.mean(snlst)))\n",
    "osn = dict(sorted(osn.items(), key=operator.itemgetter(1),reverse=True))"
   ]
  },
  {
   "cell_type": "code",
   "execution_count": 261,
   "metadata": {},
   "outputs": [],
   "source": [
    "# job vector\n",
    "# 200 dimension Job-Year-Vector\n",
    "yjv = defaultdict(lambda:defaultdict(lambda:''))\n",
    "jyv = defaultdict(lambda:defaultdict(lambda:''))\n",
    "for j in jys:\n",
    "    for y in jys[j]:\n",
    "        jyv[j][y] = np.mean([model.wv[s] for s in jys[j][y] if s in model.wv],axis=0)\n",
    "        yjv[y][j] = np.mean([model.wv[s] for s in jys[j][y] if s in model.wv],axis=0)\n",
    "        #jyv[j][y] = np.sum([model.wv[s] for s in jys[j][y] if s in model.wv],axis=0)\n",
    "        \n",
    "# job stability from 2010 to 2018: dot product between 2 job vectors\n",
    "jtr = {}\n",
    "for j in jyv:\n",
    "    if 2010 in jyv[j] and 2018 in jyv[j]:\n",
    "        if j in jyn:\n",
    "            # retain jobs with more than 100 posts in both 2010 and 2018\n",
    "            if jyn[j][2010] > 100 and jyn[j][2018] > 100:\n",
    "                jtr[j] = 1- np.dot(jyv[j][2018], jyv[j][2010])/(np.linalg.norm(jyv[j][2018])* np.linalg.norm(jyv[j][2010]))\n",
    "\n",
    "jtr = dict(sorted(jtr.items(), key=operator.itemgetter(1)))"
   ]
  },
  {
   "cell_type": "markdown",
   "metadata": {},
   "source": [
    "### Extended Methods: Replication of Deming and Noray's (2020) Job Skill Change Measurement"
   ]
  },
  {
   "cell_type": "code",
   "execution_count": 57,
   "metadata": {},
   "outputs": [],
   "source": [
    "# read in saved data\n",
    "occ_y_skill_freq = defaultdict(lambda:defaultdict(lambda:defaultdict(lambda:0)))\n",
    "occ_y_sfreq = defaultdict(lambda:defaultdict(lambda:0))\n",
    "with open('/Users/ditong/Dropbox (MIT)/skills/SkillPaper/IntermediateData/occ_year_skill_freq_emp.txt', 'r') as f:\n",
    "    for line in f:\n",
    "        linelst = line[:-1].split(\"\\t\")\n",
    "        occ = linelst[0]\n",
    "        year = linelst[1]\n",
    "        sfreqs = linelst[2:]\n",
    "        for s in sfreqs:\n",
    "            sk = s.split(\"_\")[0]\n",
    "            freq = int(s.split(\"_\")[1])\n",
    "            occ_y_skill_freq[occ][year][sk] = freq\n",
    "            occ_y_sfreq[occ][year] += freq\n",
    "            \n",
    "occ_y_freq = defaultdict(lambda:defaultdict(lambda:0))            \n",
    "with open('/Users/ditong/Dropbox (MIT)/skills/SkillPaper/IntermediateData/occ_year_npost_emp.txt', 'r') as f:\n",
    "    for line in f:\n",
    "        linelst = line[:-1].split(\"\\t\")\n",
    "        occ = linelst[0]\n",
    "        year = linelst[1]\n",
    "        freq = int(linelst[2])\n",
    "        occ_y_freq[occ][year] = freq"
   ]
  },
  {
   "cell_type": "code",
   "execution_count": 62,
   "metadata": {},
   "outputs": [],
   "source": [
    "# calculate job skill change and save data\n",
    "# weights\n",
    "jw1 = {}\n",
    "for j in occ_y_sfreq:\n",
    "    if j in occ_y_freq:\n",
    "        if '2010' in occ_y_sfreq[j] and '2018' in occ_y_sfreq[j]:\n",
    "            jw1[j] = (occ_y_sfreq[j]['2010'] / occ_y_sfreq[j]['2018']) / (occ_y_freq[j]['2010']/occ_y_freq[j]['2018'])\n",
    "            if jw1[j] > 1:\n",
    "                jw1[j] = 1\n",
    "                \n",
    "jw2 = {}\n",
    "for j in occ_y_sfreq:\n",
    "    if j in occ_y_freq:\n",
    "        if '2007' in occ_y_sfreq[j] and '2019' in occ_y_sfreq[j]:\n",
    "            jw2[j] = (occ_y_sfreq[j]['2007'] / occ_y_sfreq[j]['2019']) / (occ_y_freq[j]['2007']/occ_y_freq[j]['2019'])\n",
    "            if jw2[j] > 1:\n",
    "                jw2[j] = 1\n",
    "                \n",
    "# skill probability\n",
    "jyspro = copy.deepcopy(occ_y_skill_freq)\n",
    "for j in jyspro:\n",
    "    for y in jyspro[j]:\n",
    "        for s in jyspro[j][y].keys():\n",
    "            jyspro[j][y][s] = jyspro[j][y][s]/occ_y_freq[j][y]\n",
    "            \n",
    "# job change\n",
    "jyc = defaultdict(lambda:defaultdict(lambda:0))\n",
    "occsc79=defaultdict(lambda:0)\n",
    "occsc80=defaultdict(lambda:0)\n",
    "for j in jyspro:\n",
    "    if '2007' in jyspro[j] and '2019' in jyspro[j]:\n",
    "        # get the union of skills of 2 years\n",
    "        alls = set(jyspro[j]['2007'].keys()).union(set(jyspro[j]['2019'].keys()))\n",
    "        # skill probability change\n",
    "        for s in alls:\n",
    "            jyc[j]['07-19'] += abs(jyspro[j]['2019'][s] - jyspro[j]['2007'][s])\n",
    "        jyc[j]['07-19'] = jyc[j]['07-19']*jw2[j]\n",
    "        occsc79[j] = jyc[j]['07-19']\n",
    "            \n",
    "    if '2010' in jyspro[j] and '2018' in jyspro[j]:\n",
    "        # get the union of skills of 2 years\n",
    "        alls = set(jyspro[j]['2010'].keys()).union(set(jyspro[j]['2018'].keys()))\n",
    "        # skill probability change\n",
    "        for s in alls:\n",
    "            jyc[j]['10-18'] += abs(jyspro[j]['2018'][s] - jyspro[j]['2010'][s])\n",
    "        jyc[j]['10-18'] = jyc[j]['10-18']*jw1[j]\n",
    "        occsc80[j] = jyc[j]['10-18']\n",
    "        \n",
    "# save \n",
    "df79 = pd.DataFrame()\n",
    "sorted79 =  dict(sorted(occsc79.items(), key=operator.itemgetter(1), reverse=True))\n",
    "df79['SOC'] = list(sorted79.keys())\n",
    "df79[\"SkillChange\"] = list(sorted79.values())\n",
    "df79.to_csv('/Users/ditong/Dropbox (MIT)/skills/SkillPaper/IntermediateData/0719Soc6SkillChange_emp.csv')\n",
    "\n",
    "df80 = pd.DataFrame()\n",
    "sorted80 =  dict(sorted(occsc80.items(), key=operator.itemgetter(1), reverse=True))\n",
    "df80['SOC'] = list(sorted80.keys())\n",
    "df80[\"SkillChange\"] = list(sorted80.values())\n",
    "df80.to_csv('/Users/ditong/Dropbox (MIT)/skills/SkillPaper/IntermediateData/1018Soc6SkillChange_emp.csv')"
   ]
  },
  {
   "cell_type": "code",
   "execution_count": 3,
   "metadata": {},
   "outputs": [
    {
     "name": "stdout",
     "output_type": "stream",
     "text": [
      "(0.8696114554674294, 2.0059318581748458e-88)\n"
     ]
    }
   ],
   "source": [
    "# data in Deming and Noray (2020) appendix\n",
    "OriData = pd.read_excel('/Users/ditong/Dropbox (MIT)/skills/SkillPaper/IntermediateData/QJE_SOC6Change.xlsx')\n",
    "SOCR = {}\n",
    "for i, j in zip(OriData[\"occupation_title\"], OriData[\"RATE\"]):\n",
    "    SOCR[str(i)] = j\n",
    "\n",
    "# replication\n",
    "ReplData = pd.read_csv('/Users/ditong/Dropbox (MIT)/skills/SkillPaper/IntermediateData/0719Soc6SkillChange_emp.csv')\n",
    "re = {}\n",
    "for i, j in zip(ReplData['SOC'], ReplData[\"SkillChange\"]):\n",
    "    re[str(i)] = j\n",
    "\n",
    "# calculate correlation\n",
    "#re = occsc79    \n",
    "repl = {}\n",
    "for j in SOCR:\n",
    "    if j in re:\n",
    "        repl[j] = (SOCR[j],re[j])\n",
    "\n",
    "x,y = zip(*list(repl.values()))\n",
    "print(pearsonr(x,y))\n",
    "# fig = plt.figure(figsize=(5,5))\n",
    "# ax1 = fig.add_subplot(111)\n",
    "# plt.scatter(x,y, label=\"r=0.87***\")\n",
    "# plt.title(\"Job Skill Change Replication, 2007-19\", fontsize=16)\n",
    "# plt.xlabel(\"Original Measure, 2007-19\", fontsize=16)\n",
    "# plt.ylabel(\"Replicated Measure, 2007-19\", fontsize=16)\n",
    "# plt.legend(fontsize=18)"
   ]
  },
  {
   "cell_type": "markdown",
   "metadata": {},
   "source": [
    "### Extended Methods: Cluster Approach to Measure Occupational Skill Change"
   ]
  },
  {
   "cell_type": "code",
   "execution_count": 66,
   "metadata": {},
   "outputs": [],
   "source": [
    "# skill--community\n",
    "partition = defaultdict(lambda:[])\n",
    "sp = {}\n",
    "with open('/Users/ditong/Dropbox (MIT)/skills/SkillPaper/IntermediateData/partition_0.0_0.0_6_0.51.txt','r') as f:\n",
    "    for line in f:\n",
    "        skill = line.split('\\t')[0]\n",
    "        group = int(line.split('\\t')[1])\n",
    "        partition[group].append(skill)\n",
    "        sp[skill] = group\n",
    "\n",
    "# community labels\n",
    "labels = ['business and managerial skills', 'engineering, technical, and manual skills', \n",
    "          'computer and programming skills', 'clerical and analytical skills', \n",
    "          'scientific and research skills', 'medical and health skills']"
   ]
  },
  {
   "cell_type": "code",
   "execution_count": 69,
   "metadata": {},
   "outputs": [],
   "source": [
    "# job - skill community - frequency\n",
    "jyscf = defaultdict(lambda:defaultdict(lambda:defaultdict(lambda:0)))\n",
    "for job in jys:\n",
    "    for year in jys[job]:\n",
    "        for s in jys[job][year]:\n",
    "            if s in sp:\n",
    "                jyscf[job][year][sp[s]] += 1\n",
    "        #yjscf[year][job] = dict(sorted(yjscf[year][job].items(), key=operator.itemgetter(1), reverse=True))\n",
    "\n",
    "# job - skill community - share change\n",
    "occ_scc = defaultdict(lambda:0)\n",
    "for occ in jyscf:\n",
    "    if 2010 in jyscf[occ] and 2018 in jyscf[occ]:\n",
    "        skills = set(jyscf[occ][2010].keys()).union(jyscf[occ][2018].keys())\n",
    "        for skill in skills:   \n",
    "            occ_scc[occ] += abs(jyscf[occ][2018][skill]/sum(jyscf[occ][2018].values()) - \n",
    "                          jyscf[occ][2010][skill]/sum(jyscf[occ][2010].values())) \n",
    "# sort the occupation by skill change\n",
    "sorted_occscc = dict(sorted(occ_scc.items(), key=operator.itemgetter(1), reverse=True))"
   ]
  },
  {
   "cell_type": "code",
   "execution_count": 70,
   "metadata": {},
   "outputs": [],
   "source": [
    "# skill cluster share change for two occupations\n",
    "# computer programmers\n",
    "# skill cluster freq for each year\n",
    "fil_pc10 = defaultdict(lambda:0)\n",
    "for k in jys[\"Computer Programmers\"][2010]:\n",
    "    if k in sp:\n",
    "        fil_pc10[sp[k]] += 1\n",
    "fil_pc18 = defaultdict(lambda:0)\n",
    "for k in jys[\"Computer Programmers\"][2018]:\n",
    "    if k in sp:\n",
    "        fil_pc18[sp[k]] += 1\n",
    "allcc = set(fil_pc10.keys()).union(fil_pc18.keys())\n",
    "# skill cluster share change\n",
    "sdiffCC = {}\n",
    "for k in allcc:\n",
    "    sdiffCC[k] = abs(fil_pc18[k]/sum(fil_pc18.values()) - fil_pc10[k]/sum(fil_pc10.values()))\n",
    "\n",
    "# Food Batchmakers\n",
    "fil_pb10 = defaultdict(lambda:0)\n",
    "for k in jys['Food Batchmakers'][2010]:\n",
    "    if k in sp:\n",
    "        fil_pb10[sp[k]] += 1\n",
    "fil_pb18 = defaultdict(lambda:0)\n",
    "for k in jys['Food Batchmakers'][2018]:\n",
    "    if k in sp:\n",
    "        fil_pb18[sp[k]] += 1\n",
    "allbc = set(fil_pb10.keys()).union(fil_pb18.keys())\n",
    "\n",
    "sdiffBC = {}\n",
    "for k in allbc:\n",
    "    sdiffBC[k] = abs(fil_pb18[k]/sum(fil_pb18.values()) - fil_pb10[k]/sum(fil_pb10.values()))"
   ]
  },
  {
   "cell_type": "code",
   "execution_count": 73,
   "metadata": {},
   "outputs": [],
   "source": [
    "# 200 dimension Job-Year-Vector\n",
    "jyv = defaultdict(lambda:defaultdict(lambda:''))\n",
    "for j in jys:\n",
    "    for y in jys[j]:\n",
    "        jyv[j][y] = np.mean([model.wv[s] for s in jys[j][y] if s in model.wv],axis=0)\n",
    "\n",
    "# job change from 2010 to 2018: 1 - dot product between 2 job vectors\n",
    "jtr = {}\n",
    "for j in jyv:\n",
    "    if 2010 in jyv[j] and 2018 in jyv[j]:\n",
    "        if j in jyn:\n",
    "            # retain jobs with more than 100 posts in both 2010 and 2018\n",
    "            if jyn[j][2010] > 100 and jyn[j][2018] > 100:\n",
    "                jtr[j] = 1- np.dot(jyv[j][2018], jyv[j][2010])/(np.linalg.norm(jyv[j][2018])* np.linalg.norm(jyv[j][2010]))\n",
    "\n",
    "jtr = dict(sorted(jtr.items(), key=operator.itemgetter(1)))"
   ]
  },
  {
   "cell_type": "code",
   "execution_count": 71,
   "metadata": {},
   "outputs": [
    {
     "data": {
      "text/plain": [
       "(0.19677965685672907, 0.3553921568627451)"
      ]
     },
     "execution_count": 71,
     "metadata": {},
     "output_type": "execute_result"
    }
   ],
   "source": [
    "occ_scc['Computer Programmers'], occ_scc[\"Food Batchmakers\"]"
   ]
  },
  {
   "cell_type": "code",
   "execution_count": 74,
   "metadata": {},
   "outputs": [
    {
     "name": "stdout",
     "output_type": "stream",
     "text": [
      "(0.7618382894447562, 7.380695063066697e-139)\n"
     ]
    },
    {
     "data": {
      "image/png": "[encoded data removed]",
      "text/plain": [
       "<Figure size 576x288 with 2 Axes>"
      ]
     },
     "metadata": {
      "needs_background": "light"
     },
     "output_type": "display_data"
    }
   ],
   "source": [
    "fig = plt.figure(figsize=(8,4))\n",
    "ax2 = fig.add_subplot(121)\n",
    "sb = sorted(sdiffBC.values(), reverse=True)\n",
    "plt.plot(sb, color=\"orange\")\n",
    "plt.fill_between(range(len(sb)),sb,0,color=\"orange\", label=\"Food Batchmaker: 0.355\")\n",
    "sc=sorted(sdiffCC.values(), reverse=True)\n",
    "plt.plot(sc, color=\"steelblue\")\n",
    "plt.fill_between(range(len(sc)),sc,0,color=\"steelblue\", label=\"Computer Programmer: 0.197\")\n",
    "plt.legend(fontsize=10)\n",
    "plt.ylabel(\"Skill Community Share Change\", fontsize=16)\n",
    "plt.xlabel(\"Core Skills (by Community) Rank\", fontsize=16)        \n",
    "\n",
    "\n",
    "ax2 = fig.add_subplot(122)\n",
    "scc_vec = {}\n",
    "for j in sorted_occscc:\n",
    "    if j in jtr:\n",
    "        scc_vec[j] = (sorted_occscc[j],jtr[j])\n",
    "x,y = zip(*list(scc_vec.values()))\n",
    "print(pearsonr(np.log(x),np.log(y)))\n",
    "plt.scatter(x,y, label=\"r=0.76***\", color=\"grey\")\n",
    "\n",
    "# x=np.array(x).reshape(-1, 1)\n",
    "# y=np.array(y).reshape(-1, 1)\n",
    "# poly = PolynomialFeatures(degree = 1) \n",
    "# X_poly = poly.fit_transform(x) \n",
    "# poly.fit(X_poly, y) \n",
    "# lin2 = LinearRegression() \n",
    "# lin2.fit(X_poly, y) \n",
    "# xnew = np.linspace(0,3,100).reshape(-1, 1)\n",
    "# plt.plot(xnew, lin2.predict(poly.fit_transform(xnew)), color = '#a9cbd2', linewidth=5)\n",
    "\n",
    "plt.xlabel(\"Skill Community Change\", fontsize=16)\n",
    "plt.ylabel(\"Skill Vector Change\", fontsize=16)\n",
    "plt.legend(loc=2, fontsize=14)\n",
    "\n",
    "plt.ylim(1/1000,1)\n",
    "plt.xlim(1/100,1.1)\n",
    "plt.yscale(\"log\")\n",
    "plt.xscale(\"log\")\n",
    "plt.tight_layout()\n",
    "plt.savefig('/Users/ditong/Dropbox (MIT)/skills/SkillPaper/Results/IndividualFigure/SI/SI_ClusterVector.pdf') "
   ]
  },
  {
   "cell_type": "markdown",
   "metadata": {},
   "source": [
    "### Extended Method: Identify Re-skilling Directions with Skill Atoms"
   ]
  },
  {
   "cell_type": "code",
   "execution_count": 330,
   "metadata": {},
   "outputs": [],
   "source": [
    "# all data, 200 dimensions, 300 window, skipgram, negative sampling 5, word occurence > 10\n",
    "model = Word2Vec.load(\"/Users/ditong/Dropbox (MIT)/skills/SkillPaper/IntermediateData/w2v_m10_s200_w300_sg1_n5.model\")"
   ]
  },
  {
   "cell_type": "code",
   "execution_count": 340,
   "metadata": {},
   "outputs": [],
   "source": [
    "infile = open('/Users/ditong/Dropbox (MIT)/skills/SkillPaper/IntermediateData/atom_model/200d_210comp5nonzeros_dictionary_nvdrsdf20','rb')\n",
    "dictionary=pickle.load(infile)\n",
    "infile.close()\n",
    "\n",
    "infile = open('/Users/ditong/Dropbox (MIT)/skills/SkillPaper/IntermediateData/atom_model/200d_210comp5nonzeros_aksvd_nvdrsdf20','rb')\n",
    "aksvd=pickle.load(infile)\n",
    "infile.close()\n",
    "\n",
    "infile = open('/Users/ditong/Dropbox (MIT)/skills/SkillPaper/IntermediateData/atom_model/200d_210comp5nonzeros_alpha_nvdrsdf20','rb')\n",
    "alpha=pickle.load(infile)\n",
    "infile.close()"
   ]
  },
  {
   "cell_type": "code",
   "execution_count": 343,
   "metadata": {},
   "outputs": [],
   "source": [
    "# job-year-array of weights\n",
    "allskills=list(model.wv.index_to_key)\n",
    "jyw=defaultdict(lambda:defaultdict(lambda:np.array([])))\n",
    "for job in jys:\n",
    "    if 2010 in jys[job] and 2018 in jys[job]:\n",
    "        aw = np.zeros(shape=(1,210))\n",
    "        for s in jys[job][2010]:\n",
    "            if s in allskills:\n",
    "                aw = aw + np.array(alpha[model.wv.key_to_index[s]])\n",
    "        jyw[job][2010] = aw[0] / sum(aw[0])\n",
    "        for s in jys[job][2018]:\n",
    "            if s in allskills:\n",
    "                aw = aw + np.array(alpha[model.wv.key_to_index[s]])\n",
    "        jyw[job][2018] = aw[0] / sum(aw[0])  "
   ]
  },
  {
   "cell_type": "code",
   "execution_count": 344,
   "metadata": {},
   "outputs": [],
   "source": [
    "# job-year-atom-weight\n",
    "jyaw = defaultdict(lambda:defaultdict(lambda:defaultdict(lambda:0)))\n",
    "yajw = defaultdict(lambda:defaultdict(lambda:defaultdict(lambda:0)))\n",
    "for job in jyw:\n",
    "    for year in jyw[job]:\n",
    "        order = np.argsort(jyw[job][year])[::-1]\n",
    "        for ind in order:\n",
    "            jyaw[job][year][ind] = jyw[job][year][ind]\n",
    "            yajw[year][ind][job] = jyw[job][year][ind]"
   ]
  },
  {
   "cell_type": "code",
   "execution_count": 345,
   "metadata": {},
   "outputs": [],
   "source": [
    "# job-atom weight change\n",
    "jawd = defaultdict(lambda:defaultdict(lambda:0))\n",
    "ajwd = defaultdict(lambda:defaultdict(lambda:0))\n",
    "for job in jyw:\n",
    "    diff = jyw[job][2018] - jyw[job][2010]\n",
    "    order = np.argsort(diff)[::-1]\n",
    "    for ind in order:\n",
    "        idiff = jyw[job][2018][ind] - jyw[job][2010][ind]\n",
    "        jawd[job][ind] = idiff\n",
    "        ajwd[ind][job] = idiff"
   ]
  },
  {
   "cell_type": "code",
   "execution_count": 346,
   "metadata": {},
   "outputs": [],
   "source": [
    "ad = {}\n",
    "for a in ajwd:\n",
    "    ad[a] = sum(ajwd[a].values())\n",
    "ad = dict(sorted(ad.items(), key=lambda item: item[1], reverse=True))"
   ]
  },
  {
   "cell_type": "code",
   "execution_count": 347,
   "metadata": {},
   "outputs": [],
   "source": [
    "# obstain 2D coordinates by embedding \n",
    "coordsTSNE = TSNE(n_components=2, random_state=0).fit_transform(dictionary)\n",
    "\n",
    "# skill-2D vector\n",
    "atv={}\n",
    "for i in range(210):\n",
    "    atv[i] = coordsTSNE[i]"
   ]
  },
  {
   "cell_type": "code",
   "execution_count": 348,
   "metadata": {},
   "outputs": [],
   "source": [
    "# read in 2d locations\n",
    "atv={}\n",
    "with open (\"/Users/ditong/Dropbox (MIT)/skills/Data/intermediate/atom_2dloc.txt\", 'r') as f:\n",
    "    for line in f:\n",
    "        line_lst=line.split(\"\\t\")\n",
    "        atv[int(line_lst[0])] = (float(line_lst[1]), float(line_lst[2]))"
   ]
  },
  {
   "cell_type": "code",
   "execution_count": 349,
   "metadata": {},
   "outputs": [],
   "source": [
    "# read in labels: machine/human\n",
    "atlabel = pd.read_csv(\"/Users/ditong/Dropbox (MIT)/skills/SkillPaper/IntermediateData/atom_labeling.csv\")\n",
    "cola = {}\n",
    "cola['cornflowerblue'] = 'machine'\n",
    "cola['orange'] = 'human'\n",
    "\n",
    "acol = {}\n",
    "for i, row in atlabel.iterrows():\n",
    "    if row['machine'] == 0: #or row['machine'] == 2:\n",
    "        acol[row['index']] = 'orange'\n",
    "    else:\n",
    "        acol[row['index']] = 'cornflowerblue'"
   ]
  },
  {
   "cell_type": "code",
   "execution_count": 350,
   "metadata": {},
   "outputs": [
    {
     "data": {
      "text/plain": [
       "(210, 210)"
      ]
     },
     "execution_count": 350,
     "metadata": {},
     "output_type": "execute_result"
    }
   ],
   "source": [
    "len(atv), len(acol)"
   ]
  },
  {
   "cell_type": "code",
   "execution_count": 351,
   "metadata": {},
   "outputs": [
    {
     "data": {
      "text/plain": [
       "<matplotlib.legend.Legend at 0x1834e283dc0>"
      ]
     },
     "execution_count": 351,
     "metadata": {},
     "output_type": "execute_result"
    },
    {
     "data": {
      "image/png": "[encoded data removed]",
      "text/plain": [
       "<Figure size 576x576 with 1 Axes>"
      ]
     },
     "metadata": {},
     "output_type": "display_data"
    }
   ],
   "source": [
    "# original 2d positions\n",
    "fig = plt.figure(figsize=(8, 8),facecolor='white')\n",
    "ax = fig.add_subplot(111)\n",
    "for at in atv:\n",
    "    x,y = atv[at]\n",
    "    plt.scatter(x,y,color=acol[at],marker='x')\n",
    "    plt.annotate(str(at), (x, y))\n",
    "            \n",
    "for col in cola:\n",
    "    plt.scatter([],[], color=col, label=cola[col])\n",
    "plt.legend(bbox_to_anchor=(1.0, 1.0), fontsize=18)"
   ]
  },
  {
   "cell_type": "code",
   "execution_count": 352,
   "metadata": {},
   "outputs": [
    {
     "data": {
      "text/plain": [
       "(-20.169127, 16.451687, 16.429686, -14.035293)"
      ]
     },
     "execution_count": 352,
     "metadata": {},
     "output_type": "execute_result"
    }
   ],
   "source": [
    "# get the boundaries of all locations\n",
    "xl=50\n",
    "xr=-50\n",
    "yu=-50\n",
    "yd=50\n",
    "for a in atv:\n",
    "    x,y=atv[a]\n",
    "    if x<xl:\n",
    "        xl=x\n",
    "    if x>xr:\n",
    "        xr=x\n",
    "    if y<yd:\n",
    "        yd=y\n",
    "    if y>yu:\n",
    "        yu=y\n",
    "\n",
    "xl,xr,yu,yd"
   ]
  },
  {
   "cell_type": "code",
   "execution_count": 353,
   "metadata": {},
   "outputs": [
    {
     "data": {
      "text/plain": [
       "(15, 14, 210)"
      ]
     },
     "execution_count": 353,
     "metadata": {},
     "output_type": "execute_result"
    }
   ],
   "source": [
    "# set up gridspace\n",
    "gridx=np.linspace(xl, xr, num=15)\n",
    "gridy=np.linspace(yd, yu, num=14)\n",
    "gridloc=[]\n",
    "for x in gridx:\n",
    "    for y in gridy:\n",
    "        gridloc.append((x,y))\n",
    "len(gridx), len(gridy), len(gridloc)"
   ]
  },
  {
   "cell_type": "code",
   "execution_count": 354,
   "metadata": {},
   "outputs": [],
   "source": [
    "# calculate the distance from each atom to each grid node\n",
    "agdis = defaultdict(lambda:defaultdict(lambda:0))\n",
    "for a in atv:\n",
    "    for loc in gridloc:\n",
    "        agdis[a][loc]=math.sqrt((loc[0]-atv[a][0])**2+(loc[1]-atv[a][1])**2)"
   ]
  },
  {
   "cell_type": "code",
   "execution_count": 355,
   "metadata": {},
   "outputs": [],
   "source": [
    "# for each grid node, assign nearest atom to it\n",
    "agdis2=copy.deepcopy(agdis)\n",
    "locadis={}\n",
    "aloc={}\n",
    "for loc in gridloc:\n",
    "    dis=10000\n",
    "    at=''\n",
    "    for a in agdis2:\n",
    "        if agdis2[a][loc] < dis:\n",
    "            dis = agdis2[a][loc]\n",
    "            at=a\n",
    "    locadis[loc]=(at, dis)\n",
    "    aloc[at]=loc\n",
    "    if at != '':\n",
    "        del(agdis2[at])"
   ]
  },
  {
   "cell_type": "code",
   "execution_count": 356,
   "metadata": {},
   "outputs": [
    {
     "data": {
      "image/png": "[encoded data removed]",
      "text/plain": [
       "<Figure size 288x288 with 1 Axes>"
      ]
     },
     "metadata": {},
     "output_type": "display_data"
    }
   ],
   "source": [
    "fig = plt.figure(figsize=(4, 4),facecolor='white')\n",
    "\n",
    "ax = fig.add_subplot(111)\n",
    "for x in gridx:\n",
    "    plt.axvline(x=x, color='lightgrey',alpha=0.1)\n",
    "for y in gridy:\n",
    "    plt.axhline(y=y, color='lightgrey',alpha=0.1)\n",
    "for loc in locadis:\n",
    "    if locadis[loc][0] != '':\n",
    "        plt.scatter(loc[0], loc[1], color=acol[locadis[loc][0]], s=50)\n",
    "#plt.title(\"Skill Atoms\",fontsize=14)\n",
    "ax.axes.get_xaxis().set_visible(False)\n",
    "ax.axes.get_yaxis().set_visible(False)\n",
    "#plt.savefig('/Users/ditong/Dropbox (MIT)/skills/SkillPaper/Results/IndividualFigure/Fig2/Fig2P1.pdf') "
   ]
  },
  {
   "cell_type": "code",
   "execution_count": 359,
   "metadata": {},
   "outputs": [
    {
     "data": {
      "image/png": "[encoded data removed]",
      "text/plain": [
       "<Figure size 288x288 with 1 Axes>"
      ]
     },
     "metadata": {},
     "output_type": "display_data"
    }
   ],
   "source": [
    "# rising machine atoms\n",
    "\n",
    "gi2={}\n",
    "gi2[121]=\"cloud computing\"\n",
    "gi2[48]=\"advanced manufacuturing\"\n",
    "gi2[18]='welding and bending'\n",
    "gi2[82]='big data processing'\n",
    "gi2[202]='web analytics'\n",
    "gi2[7]='health information system'\n",
    "gi2[15]='web security'\n",
    "\n",
    "fig = plt.figure(figsize=(4, 4),facecolor='white')\n",
    "\n",
    "ax = fig.add_subplot(111)\n",
    "k=1\n",
    "for x in gridx:\n",
    "    plt.axvline(x=x, color='lightgrey',alpha=0.1)\n",
    "for y in gridy:\n",
    "    plt.axhline(y=y, color='lightgrey',alpha=0.1)\n",
    "for loc in locadis:\n",
    "    at=locadis[loc][0]\n",
    "    if at != '':\n",
    "        alp=ad[at]\n",
    "        if alp>0 and acol[at]=='cornflowerblue':\n",
    "            plt.scatter(loc[0], loc[1], color=acol[at], alpha= min(alp*k,1), s=50)\n",
    "        if at in gi2 and acol[at]=='cornflowerblue':\n",
    "            plt.text(loc[0], loc[1], gi2[at], fontsize=10)\n",
    "#         elif acol[at]=='cornflowerblue':\n",
    "#             plt.text(loc[0], loc[1], str(at), fontsize=10)\n",
    "#plt.title(\"Rising Skill Atoms\",fontsize=14)\n",
    "ax.axes.get_xaxis().set_visible(False)\n",
    "ax.axes.get_yaxis().set_visible(False)\n",
    "\n",
    "#plt.savefig('/Users/ditong/Dropbox (MIT)/skills/SkillPaper/Results/IndividualFigure/Fig2/Fig2P3_v2.pdf')"
   ]
  },
  {
   "cell_type": "code",
   "execution_count": 360,
   "metadata": {},
   "outputs": [
    {
     "data": {
      "image/png": "[encoded data removed]",
      "text/plain": [
       "<Figure size 288x288 with 1 Axes>"
      ]
     },
     "metadata": {},
     "output_type": "display_data"
    }
   ],
   "source": [
    "# declining human atoms\n",
    "\n",
    "di={}\n",
    "di[73]='medical records'\n",
    "di[156]=\"massage\"\n",
    "di[89]='mortgage loan servicing'\n",
    "di[75]=\"repair and maintenance\"\n",
    "di[3]=\"language and translation\"\n",
    "di[5]=\"tutoring\"\n",
    "di[36]=\"stakeholder management\"\n",
    "di[113]=\"sales\"\n",
    "#di[13]=\"investment and assest\"\n",
    "#di[105]=\"hospitality industry knowledge\"\n",
    "\n",
    "fig = plt.figure(figsize=(4, 4),facecolor='white')\n",
    "k=1\n",
    "ax = fig.add_subplot(111)\n",
    "for x in gridx:\n",
    "    plt.axvline(x=x, color='lightgrey',alpha=0.1)\n",
    "for y in gridy:\n",
    "    plt.axhline(y=y, color='lightgrey',alpha=0.1)\n",
    "for loc in locadis:\n",
    "    at=locadis[loc][0]\n",
    "    if at != '':\n",
    "        alp=ad[at]\n",
    "        if alp<0 and acol[at]==\"orange\":\n",
    "            plt.scatter(loc[0], loc[1], color=acol[at], alpha= min(abs(alp*k),1),s=50)\n",
    "        if at in di and acol[at]==\"orange\":\n",
    "            plt.text(loc[0], loc[1], di[at], fontsize=10)\n",
    "#plt.title(\"Decling Skill Atoms\", fontsize=14)\n",
    "ax.axes.get_xaxis().set_visible(False)\n",
    "ax.axes.get_yaxis().set_visible(False)\n",
    "\n",
    "#plt.savefig('/Users/ditong/Dropbox (MIT)/skills/SkillPaper/Results/IndividualFigure/Fig2/Fig2P4_v2.pdf')"
   ]
  },
  {
   "cell_type": "markdown",
   "metadata": {},
   "source": [
    "### Extended Data: Representativeness of Job Ads Data Collected by Burning Glass Technologies"
   ]
  },
  {
   "cell_type": "code",
   "execution_count": 7,
   "metadata": {},
   "outputs": [],
   "source": [
    "# BLS Education\n",
    "df_2018e=pd.read_excel('/Users/ditong/Dropbox (MIT)/skills/SkillPaper/IntermediateData/education.xlsx', \n",
    "                      sheet_name=\"Assignment\", header=1)\n",
    "\n",
    "eduy = []\n",
    "for i in df_2018e['Typical education needed for entry']:\n",
    "    if pd.isnull(i) == True:\n",
    "        eduy.append('nan')\n",
    "    elif i == 'No formal educational credential':\n",
    "        eduy.append(0)\n",
    "    elif i =='High school diploma or equivalent':\n",
    "        eduy.append(12)  \n",
    "    elif i in ['High school diploma or equivalent','Some college, no degree','Postsecondary nondegree award']:\n",
    "        eduy.append(12)\n",
    "#     elif i in ['Some college, no degree','Postsecondary nondegree award']:\n",
    "#         eduy.append(13)\n",
    "#     elif i in [\"Associate's degree\",'Some college, no degree','Postsecondary nondegree award']:\n",
    "#         eduy.append(14)\n",
    "    elif i == \"Associate's degree\":\n",
    "        eduy.append(14)\n",
    "    elif i == \"Bachelor's degree\":\n",
    "        eduy.append(16)\n",
    "    elif i == \"Master's degree\":\n",
    "        eduy.append(18)\n",
    "    elif i == \"Doctoral or professional degree\":\n",
    "        eduy.append(21)\n",
    "df_2018e['eduy']=eduy"
   ]
  },
  {
   "cell_type": "code",
   "execution_count": 10,
   "metadata": {},
   "outputs": [],
   "source": [
    "# bls pay and employment\n",
    "df_2018=pd.read_excel('/Users/ditong/Dropbox (MIT)/skills/SkillPaper/IntermediateData/national_M2018_dl.xlsx')\n",
    "df_2010=pd.read_excel('/Users/ditong/Dropbox (MIT)/skills/SkillPaper/IntermediateData/national_M2010_dl.xls')\n",
    "\n",
    "bls_on18 = {}\n",
    "bls_op18 = {}\n",
    "for i, j, k in zip(df_2018['OCC_TITLE'], df_2018['TOT_EMP'], df_2018['A_MEDIAN']):\n",
    "    if i in yjn[2018] and j != '*'and j !='#':\n",
    "        bls_on18[i] = j\n",
    "    if i in yjp[2018] and k != '*' and k !='#':\n",
    "        bls_op18[i] = k\n",
    "        \n",
    "bls_on10 = {}\n",
    "bls_op10 = {}\n",
    "for i, j, k in zip(df_2010['OCC_TITLE'], df_2010['TOT_EMP'], df_2010['A_MEDIAN']):\n",
    "    if i in yjn[2010]and j != '*' and j !='#':\n",
    "        bls_on10[i] = j\n",
    "    if i in yjp[2010] and k != '*' and k!= '#':\n",
    "        bls_op10[i] = k"
   ]
  },
  {
   "cell_type": "code",
   "execution_count": 53,
   "metadata": {},
   "outputs": [
    {
     "name": "stdout",
     "output_type": "stream",
     "text": [
      "(0.803481793733344, 9.100595501674793e-179)\n",
      "(0.7573028144504227, 1.472688577128253e-145)\n",
      "(0.8665497008620799, 1.314713665703486e-234)\n",
      "(0.8291506407884586, 6.969904131567013e-194)\n",
      "682\n",
      "(0.9155349192602655, 3.7376760681076806e-271)\n"
     ]
    },
    {
     "name": "stderr",
     "output_type": "stream",
     "text": [
      "<ipython-input-53-cb5cdec8fd12>:51: MatplotlibDeprecationWarning: The 'basex' parameter of __init__() has been renamed 'base' since Matplotlib 3.3; support for the old name will be dropped two minor releases later.\n",
      "  plt.xscale('log', basex=2)\n",
      "<ipython-input-53-cb5cdec8fd12>:52: MatplotlibDeprecationWarning: The 'basey' parameter of __init__() has been renamed 'base' since Matplotlib 3.3; support for the old name will be dropped two minor releases later.\n",
      "  plt.yscale('log', basey=2)\n"
     ]
    },
    {
     "data": {
      "image/png": "[encoded data removed]",
      "text/plain": [
       "<Figure size 864x288 with 3 Axes>"
      ]
     },
     "metadata": {
      "needs_background": "light"
     },
     "output_type": "display_data"
    }
   ],
   "source": [
    "fig = plt.figure(figsize=(12,4))\n",
    "ax0 = fig.add_subplot(131)\n",
    "bls_bgon = {}\n",
    "for j in bls_on18:\n",
    "    bls_bgon[j] = (yjn[2018][j], bls_on18[j])\n",
    "x,y = zip(*list(bls_bgon.values()))\n",
    "plt.scatter(x,y,color=\"coral\", label='2018, r=0.80'+ '***')\n",
    "corr1=pearsonr(np.log(x),np.log(y))\n",
    "print(corr1)\n",
    "\n",
    "bls_bgon = {}\n",
    "for j in bls_on10:\n",
    "    bls_bgon[j] = (yjn[2010][j], bls_on10[j])\n",
    "x,y = zip(*list(bls_bgon.values()))\n",
    "plt.scatter(x,y,color=\"royalblue\", label='2010, r=0.76'+ '***')\n",
    "corr2=pearsonr(np.log(x),np.log(y))\n",
    "print(corr2)\n",
    "\n",
    "#plt.ylim(1,4000000)\n",
    "plt.xlim(1,400000)\n",
    "plt.xscale('log')\n",
    "plt.yscale('log')\n",
    "plt.ylabel('BLS occupation employment', fontsize=14)\n",
    "plt.xlabel('BG occupation demand',fontsize=14)\n",
    "plt.plot([1,10**6], [1,10**6], 'r-')\n",
    "plt.plot([1,10**6], [10,10**7], 'k-')\n",
    "plt.legend(fontsize=14, loc=4)\n",
    "\n",
    "ax0 = fig.add_subplot(132)\n",
    "bls_bgop = {}\n",
    "for j in bls_op18:\n",
    "    bls_bgop[j] = (yjp[2018][j], float(bls_op18[j]))\n",
    "x,y = zip(*list(bls_bgop.values()))\n",
    "plt.scatter(x,y,color=\"purple\", label='2018, r=0.87'+ '***')\n",
    "corr1=pearsonr(np.log(x), np.log(y))\n",
    "print(corr1)\n",
    "\n",
    "bls_bgop = {}\n",
    "for j in bls_op10:\n",
    "    bls_bgop[j] = (yjp[2010][j], float(bls_op10[j]))\n",
    "x1,y1 = zip(*list(bls_bgop.values()))\n",
    "plt.scatter(x1,y1,color=\"pink\", label='2010, r=0.83'+ '***')\n",
    "corr2=pearsonr(np.log(x1), np.log(y1))\n",
    "print(corr2)\n",
    "\n",
    "plt.ylabel('BLS occupation annual median pay',fontsize=14)\n",
    "plt.xlabel('BG occupation annual median pay',fontsize=14)\n",
    "plt.xlim(15000, 200000)\n",
    "plt.ylim(15000, 250000)\n",
    "plt.plot([1,10**6], [1,10**6], 'r-')\n",
    "plt.xscale('log', basex=2)\n",
    "plt.yscale('log', basey=2)\n",
    "plt.legend(fontsize=14, loc=4)\n",
    "\n",
    "\n",
    "ax0 = fig.add_subplot(133)\n",
    "bls_bgoe = {}\n",
    "for i, j in zip(df_2018e['2018 National Employment Matrix title and code'], \n",
    "               df_2018e['eduy']):\n",
    "    if i.lower() in yje[2018] and j != 'nan' and j > 0: #and j != 13:\n",
    "        bls_bgoe[i.lower()] = (yje[2018][i.lower()], j)\n",
    "print(len(bls_bgoe))\n",
    "x,y = zip(*list(bls_bgoe.values()))\n",
    "plt.scatter(x,y,color=\"orange\", label='2018, r=0.92'+ '***')\n",
    "plt.ylabel('BLS occupation entry education',fontsize=14)\n",
    "plt.xlabel('BG occupation entry education',fontsize=14)\n",
    "plt.legend(fontsize=14, loc=4)\n",
    "corr=pearsonr(x, y)\n",
    "print(corr)\n",
    "plt.tight_layout()\n",
    "\n",
    "#plt.savefig('/Users/ditong/Dropbox (MIT)/skills/SkillPaper/Results/IndividualFigure/SI/BGValidation.pdf') "
   ]
  },
  {
   "cell_type": "markdown",
   "metadata": {},
   "source": [
    "### Extended Results: Job Zone"
   ]
  },
  {
   "cell_type": "code",
   "execution_count": 234,
   "metadata": {},
   "outputs": [],
   "source": [
    "jz = pd.read_csv('/Users/ditong/Dropbox (MIT)/skills/SkillPaper/revision/NHB/data/All_Job_Zones.csv')\n",
    "onet_soc = pd.read_csv('/Users/ditong/Dropbox (MIT)/skills/SkillPaper/revision/NHB/data/2019_to_SOC_Crosswalk.csv')"
   ]
  },
  {
   "cell_type": "code",
   "execution_count": 235,
   "metadata": {},
   "outputs": [
    {
     "data": {
      "text/plain": [
       "(798, 923, 1016)"
      ]
     },
     "execution_count": 235,
     "metadata": {},
     "output_type": "execute_result"
    }
   ],
   "source": [
    "socz = {}\n",
    "jzdict = dict([(i,j) for i,j in zip(jz['Occupation'], jz['Job Zone'])])\n",
    "onetsocdict = dict([(i,j) for i,j in zip(onet_soc['O*NET-SOC 2019 Title'], onet_soc['2018 SOC Title'])]) \n",
    "allsocs = list(onetsocdict.values())\n",
    "for j in jzdict:\n",
    "    if j in onetsocdict:\n",
    "        socz[onetsocdict[j]] = jzdict[j]\n",
    "#     else:\n",
    "#         print(\"not match\")\n",
    "#         if j in allsocs:\n",
    "#             print(\"j\")\n",
    "len(socz), len(jzdict), len(onetsocdict)"
   ]
  },
  {
   "cell_type": "code",
   "execution_count": 236,
   "metadata": {},
   "outputs": [
    {
     "name": "stdout",
     "output_type": "stream",
     "text": [
      "1 22\n",
      "2 204\n",
      "3 145\n",
      "4 132\n",
      "5 99\n"
     ]
    }
   ],
   "source": [
    "# job zone and job skill change \n",
    "zi = defaultdict(lambda:[])\n",
    "for o in socz:\n",
    "    if o in jtr:\n",
    "        zi[socz[o]].append(jtr[o])\n",
    "\n",
    "for z in range(1,6):\n",
    "    print(z, len(zi[z]))\n",
    "zkeys = [1,2,3,4,5]\n",
    "zmeans = [np.mean(zi[key]) for key in zkeys]\n",
    "zstd = [calculateCI2(zi[key],'mean',50, 0.8) for key in zkeys]\n",
    "xz_pos = np.arange(len(zkeys))"
   ]
  },
  {
   "cell_type": "code",
   "execution_count": 237,
   "metadata": {},
   "outputs": [
    {
     "data": {
      "image/png": "[encoded data removed]",
      "text/plain": [
       "<Figure size 216x216 with 1 Axes>"
      ]
     },
     "metadata": {},
     "output_type": "display_data"
    }
   ],
   "source": [
    "# figure: job zone and job skill change\n",
    "fig = plt.figure(figsize=(3, 3),facecolor='white')\n",
    "\n",
    "f3_ax2 = fig.add_subplot(111)\n",
    "f3_ax2.bar(xz_pos, zmeans, yerr=zstd, width = 0.4, color = 'steelblue', align='center', alpha=0.5, ecolor='black', capsize=5)\n",
    "f3_ax2.set_ylabel('Skill Vector Change', color = 'steelblue', fontsize=14)\n",
    "f3_ax2.set_xlabel('Job Zone', fontsize=14)\n",
    "f3_ax2.set_xticks(xz_pos)\n",
    "f3_ax2.set_xticklabels(zkeys, size=10)\n",
    "f3_ax2.yaxis.set_tick_params(labelsize=10)\n",
    "#plt.xticks(rotation=30)\n",
    "#plt.ylim(0,0.08)\n",
    "plt.tight_layout()\n",
    "#plt.savefig('/Users/ditong/Dropbox (MIT)/skills/SkillPaper/Results/IndividualFigure/SI/JobZoneSKillChange.pdf')"
   ]
  },
  {
   "cell_type": "markdown",
   "metadata": {},
   "source": [
    "### Extended Results: Most Significant Skill Transition as Skill Change"
   ]
  },
  {
   "cell_type": "code",
   "execution_count": null,
   "metadata": {},
   "outputs": [],
   "source": [
    "def GetNearestSkill(jys, model):\n",
    "    \n",
    "    jsd = defaultdict(lambda:defaultdict(lambda:''))\n",
    "    n=0\n",
    "    for j in jys:\n",
    "        n+=1\n",
    "        flushPrint(n)\n",
    "        if 2010 in jys[j] and 2018 in jys[j]:\n",
    "            for sn in jys[j][2018]:\n",
    "                if sn in jys[j][2010]:\n",
    "                    jsd[j][sn] = (0, sn)\n",
    "                elif sn in model.wv:\n",
    "                    dis=10000\n",
    "                    ns=\"\"\n",
    "                    for so in jys[j][2010]:\n",
    "                        if so in model.wv:\n",
    "                            d=1-np.dot(model.wv[sn], model.wv[so])/(np.linalg.norm(model.wv[sn])* np.linalg.norm(model.wv[so]))\n",
    "                            if d <= dis:\n",
    "                                dis=d\n",
    "                                ns=so     \n",
    "                    if dis!=10000:\n",
    "                        jsd[j][sn] = (dis, ns)\n",
    "\n",
    "            jsd[j] = dict(sorted(jsd[j].items(), key=operator.itemgetter(1), reverse=True))\n",
    "    \n",
    "    return jsd\n",
    "\n",
    "# max distance with different percentile criteria\n",
    "def PickMaxDistance(perc, jsd):\n",
    "    jmc = dict()\n",
    "    for j in jsd:\n",
    "        ind = max(round(len(jsd[j])*perc)-1, 0)\n",
    "        sl = list(jsd[j].items())\n",
    "        jmc[j] = sl[ind][1][0]\n",
    "    jmc = dict(sorted(jmc.items(), key=operator.itemgetter(1), reverse=True))  \n",
    "    \n",
    "    return jmc\n",
    "\n",
    "# average of skill group of max distances defined by different percentile criteria\n",
    "def AvgMaxDistance(perc, jsd):\n",
    "    jmc = dict()\n",
    "    for j in jsd:\n",
    "        ind = max(round(len(jsd[j])*perc), 1)\n",
    "        sl = list(jsd[j].items())[:ind]\n",
    "        jmc[j] = np.mean([e[1][0] for e in sl])\n",
    "    jmc = dict(sorted(jmc.items(), key=operator.itemgetter(1), reverse=True)) \n",
    "    \n",
    "    return jmc"
   ]
  },
  {
   "cell_type": "code",
   "execution_count": null,
   "metadata": {},
   "outputs": [],
   "source": [
    "# key independent variable: skill number\n",
    "def JobNSkill(dictjys):\n",
    "    dictosn = {}\n",
    "    for job in dictjys:\n",
    "        snlst = []\n",
    "        for yr in dictjys[job]:\n",
    "            if len(dictjys[job][yr]) != 0:\n",
    "                snlst.append(len(dictjys[job][yr]))\n",
    "        if snlst:\n",
    "            dictosn[job] = round(np.mean(snlst)) # np.log(round(np.mean(snlst)))\n",
    "    dictosn = dict(sorted(dictosn.items(), key=operator.itemgetter(1),reverse=True))\n",
    "    \n",
    "    return dictosn\n",
    "# key depedent variable: job skill change\n",
    "def JobChange(dictjys, method, perc):\n",
    "    \n",
    "    if method == \"average\":\n",
    "        \n",
    "        dictjyv=defaultdict(lambda:defaultdict(lambda:''))\n",
    "        for j in dictjys:\n",
    "            for y in dictjys[j]:\n",
    "                dictjyv[j][y] = np.mean([model.wv[s] for s in dictjys[j][y] if s in model.wv], axis=0)\n",
    "\n",
    "        dictjtr = {}\n",
    "        for j in dictjyv:\n",
    "            if 2010 in dictjyv[j] and 2018 in dictjyv[j]:\n",
    "                if j in jyn:\n",
    "                    if jyn[j][2010] > 100 and jyn[j][2018] > 100:\n",
    "                        jtrrr = np.dot(dictjyv[j][2018], dictjyv[j][2010]\n",
    "                                      )/(np.linalg.norm(dictjyv[j][2018])* np.linalg.norm(dictjyv[j][2010]))\n",
    "                        if type(jtrrr) == np.float32:\n",
    "                            dictjtr[j] = 1 - jtrrr\n",
    "\n",
    "        dictjtr = dict(sorted(dictjtr.items(), key=operator.itemgetter(1)))\n",
    "    \n",
    "    if method == \"max\":\n",
    "        jsd=GetNearestSkill(dictjys, model)\n",
    "        dictjtr = PickMaxDistance(perc, jsd)\n",
    "    \n",
    "    if method == \"avgmax\":\n",
    "        jsd=GetNearestSkill(dictjys, model)\n",
    "        dictjtr = AvgMaxDistance(perc, jsd)\n",
    "    \n",
    "    return dictjtr"
   ]
  },
  {
   "cell_type": "code",
   "execution_count": 366,
   "metadata": {},
   "outputs": [],
   "source": [
    "def buildregdata(jtrwa):\n",
    "    regdf=pd.DataFrame(columns = ['Occupation','SkillChange', 'LogSkillN', 'Education', 'LogPay'])\n",
    "    for j in jtr:\n",
    "        if j in osn and j in oe and j in op:\n",
    "            regdf=regdf.append({'Occupation': j, 'SkillChange': jtrwa[j], 'LogSkillN': np.log(osn[j]),\n",
    "                    'Education': oe[j], 'LogPay': np.log(op[j])}, ignore_index = True)\n",
    "            \n",
    "    return regdf"
   ]
  },
  {
   "cell_type": "code",
   "execution_count": 367,
   "metadata": {},
   "outputs": [
    {
     "name": "stdout",
     "output_type": "stream",
     "text": [
      "831"
     ]
    }
   ],
   "source": [
    "jtrm0 = JobChange(jys, \"max\", 0)\n",
    "reg_df_max0 = buildregdata(jtrm0)\n",
    "\n",
    "jtrm5 = JobChange(jys, \"max\", 0.05)\n",
    "reg_df_max5 = buildregdata(jtrm5)\n",
    "\n",
    "jtrm10 = JobChange(jys, \"max\", 0.10)\n",
    "reg_df_max10 = buildregdata(jtrm10)"
   ]
  },
  {
   "cell_type": "code",
   "execution_count": 372,
   "metadata": {},
   "outputs": [
    {
     "data": {
      "text/html": [
       "Explaining Job Skill Change Variation with Skill Complexity, Different Measures of Change<br><table style=\"text-align:center\"><tr><td colspan=\"10\" style=\"border-bottom: 1px solid black\"></td></tr><tr><td style=\"text-align:left\"></td><td colspan=\"9\"><em>Dependent variable:SkillChange</em></td></tr><tr><td style=\"text-align:left\"></td><tr><td></td><td colspan=\"1\">Max</td><td colspan=\"1\">Max</td><td colspan=\"1\">Max</td><td colspan=\"1\">Rank 5\\% </td><td colspan=\"1\">Rank 5\\% </td><td colspan=\"1\">Rank 5\\% </td><td colspan=\"1\">Rank 10\\% </td><td colspan=\"1\">Rank 10\\% </td><td colspan=\"1\">Rank 10\\% </td></tr><tr><td colspan=\"10\" style=\"border-bottom: 1px solid black\"></td></tr><tr><td style=\"text-align:left\">Skill Complexity</td><td>-0.010<sup>***</sup></td><td></td><td></td><td>-0.053<sup>***</sup></td><td></td><td></td><td>-0.062<sup>***</sup></td><td></td><td></td></tr><tr><td style=\"text-align:left\"></td><td>(0.002)</td><td></td><td></td><td>(0.002)</td><td></td><td></td><td>(0.002)</td><td></td><td></td></tr><tr><td style=\"text-align:left\">Log Annual Pay</td><td></td><td>-0.021<sup>***</sup></td><td></td><td></td><td>-0.053<sup>***</sup></td><td></td><td></td><td>-0.069<sup>***</sup></td><td></td></tr><tr><td style=\"text-align:left\"></td><td></td><td>(0.006)</td><td></td><td></td><td>(0.007)</td><td></td><td></td><td>(0.007)</td><td></td></tr><tr><td style=\"text-align:left\">Education</td><td></td><td></td><td>-0.004<sup>***</sup></td><td></td><td></td><td>-0.009<sup>***</sup></td><td></td><td></td><td>-0.010<sup>***</sup></td></tr><tr><td style=\"text-align:left\"></td><td></td><td></td><td>(0.001)</td><td></td><td></td><td>(0.001)</td><td></td><td></td><td>(0.001)</td></tr><td colspan=\"10\" style=\"border-bottom: 1px solid black\"></td></tr><tr><td style=\"text-align: left\">Observations</td><td>721</td><td>721</td><td>721</td><td>721</td><td>721</td><td>721</td><td>721</td><td>721</td><td>721</td></tr><tr><td style=\"text-align: left\">R<sup>2</sup></td><td>0.025</td><td>0.019</td><td>0.025</td><td>0.486</td><td>0.081</td><td>0.072</td><td>0.536</td><td>0.113</td><td>0.086</td></tr><tr><td style=\"text-align: left\">Adjusted R<sup>2</sup></td><td>0.024</td><td>0.018</td><td>0.024</td><td>0.485</td><td>0.080</td><td>0.071</td><td>0.535</td><td>0.112</td><td>0.085</td></tr><tr><td style=\"text-align: left\">Residual Std. Error</td><td>0.057 (df=719)</td><td>0.057 (df=719)</td><td>0.057 (df=719)</td><td>0.050 (df=719)</td><td>0.067 (df=719)</td><td>0.068 (df=719)</td><td>0.053 (df=719)</td><td>0.073 (df=719)</td><td>0.074 (df=719)</td></tr><tr><td style=\"text-align: left\">F Statistic</td><td>18.775<sup>***</sup> (df=1; 719)</td><td>14.079<sup>***</sup> (df=1; 719)</td><td>18.379<sup>***</sup> (df=1; 719)</td><td>679.363<sup>***</sup> (df=1; 719)</td><td>63.626<sup>***</sup> (df=1; 719)</td><td>55.877<sup>***</sup> (df=1; 719)</td><td>829.453<sup>***</sup> (df=1; 719)</td><td>91.385<sup>***</sup> (df=1; 719)</td><td>67.906<sup>***</sup> (df=1; 719)</td></tr><tr><td colspan=\"10\" style=\"border-bottom: 1px solid black\"></td></tr><tr><td style=\"text-align: left\">Note:</td>\n",
       " <td colspan=\"9\" style=\"text-align: right\">\n",
       "  <sup>*</sup>p&lt;0.05;\n",
       "  <sup>**</sup>p&lt;0.01;\n",
       "  <sup>***</sup>p&lt;0.001\n",
       " </td></tr></table>"
      ],
      "text/plain": [
       "<stargazer.stargazer.Stargazer at 0x1834e133bb0>"
      ]
     },
     "execution_count": 372,
     "metadata": {},
     "output_type": "execute_result"
    }
   ],
   "source": [
    "mod1= smf.ols('SkillChange ~ LogSkillN', data=reg_df_max0)\n",
    "res1 = mod1.fit()\n",
    "\n",
    "mod2= smf.ols('SkillChange ~ LogPay', data=reg_df_max0)\n",
    "res2 = mod2.fit()\n",
    "\n",
    "mod3= smf.ols('SkillChange ~ Education', data=reg_df_max0)\n",
    "res3 = mod3.fit()\n",
    "\n",
    "mod4= smf.ols('SkillChange ~ LogSkillN', data=reg_df_max5)\n",
    "res4 = mod4.fit()\n",
    "\n",
    "mod5= smf.ols('SkillChange ~ LogPay', data=reg_df_max5)\n",
    "res5 = mod5.fit()\n",
    "\n",
    "mod6= smf.ols('SkillChange ~ Education', data=reg_df_max5)\n",
    "res6 = mod6.fit()\n",
    "\n",
    "mod7= smf.ols('SkillChange ~ LogSkillN', data=reg_df_max10)\n",
    "res7 = mod7.fit()\n",
    "\n",
    "mod8= smf.ols('SkillChange ~ LogPay', data=reg_df_max10)\n",
    "res8 = mod8.fit()\n",
    "\n",
    "mod9= smf.ols('SkillChange ~ Education', data=reg_df_max10)\n",
    "res9 = mod9.fit()\n",
    "\n",
    "stargazer = Stargazer([res1, res2, res3, res4, res5, res6, res7, res8, res9])\n",
    "\n",
    "stargazer.title('Explaining Job Skill Change Variation with Skill Complexity, Different Measures of Change')\n",
    "stargazer.custom_columns(['Max', 'Max','Max','Rank 5\\% ', 'Rank 5\\% ','Rank 5\\% ','Rank 10\\% ','Rank 10\\% ','Rank 10\\% '], [1, 1, 1,1,1,1,1,1,1])\n",
    "stargazer.show_model_numbers(False)\n",
    "stargazer.covariate_order(['LogSkillN',  'LogPay', 'Education'])\n",
    "\n",
    "stargazer.rename_covariates({'LogSkillN': 'Skill Complexity', 'LogPay': 'Log Annual Pay', \n",
    "    'Education': 'Education'})\n",
    "stargazer.significance_levels([0.05, 0.01, 0.001])\n",
    "#stargazer.add_custom_notes(['Log Emp. Concentr. refers to the natural log of HHI (employer concentration).'])\n",
    "stargazer"
   ]
  },
  {
   "cell_type": "code",
   "execution_count": 373,
   "metadata": {},
   "outputs": [
    {
     "name": "stdout",
     "output_type": "stream",
     "text": [
      "Explaining Job Skill Change Variation with Skill Complexity, Different Measures of Change<br><table style=\"text-align:center\"><tr><td colspan=\"10\" style=\"border-bottom: 1px solid black\"></td></tr><tr><td style=\"text-align:left\"></td><td colspan=\"9\"><em>Dependent variable:SkillChange</em></td></tr><tr><td style=\"text-align:left\"></td><tr><td></td><td colspan=\"1\">Max</td><td colspan=\"1\">Max</td><td colspan=\"1\">Max</td><td colspan=\"1\">Rank 5\\% </td><td colspan=\"1\">Rank 5\\% </td><td colspan=\"1\">Rank 5\\% </td><td colspan=\"1\">Rank 10\\% </td><td colspan=\"1\">Rank 10\\% </td><td colspan=\"1\">Rank 10\\% </td></tr><tr><td colspan=\"10\" style=\"border-bottom: 1px solid black\"></td></tr><tr><td style=\"text-align:left\">Skill Complexity</td><td>-0.010<sup>***</sup></td><td></td><td></td><td>-0.053<sup>***</sup></td><td></td><td></td><td>-0.062<sup>***</sup></td><td></td><td></td></tr><tr><td style=\"text-align:left\"></td><td>(0.002)</td><td></td><td></td><td>(0.002)</td><td></td><td></td><td>(0.002)</td><td></td><td></td></tr><tr><td style=\"text-align:left\">Log Annual Pay</td><td></td><td>-0.021<sup>***</sup></td><td></td><td></td><td>-0.053<sup>***</sup></td><td></td><td></td><td>-0.069<sup>***</sup></td><td></td></tr><tr><td style=\"text-align:left\"></td><td></td><td>(0.006)</td><td></td><td></td><td>(0.007)</td><td></td><td></td><td>(0.007)</td><td></td></tr><tr><td style=\"text-align:left\">Education</td><td></td><td></td><td>-0.004<sup>***</sup></td><td></td><td></td><td>-0.009<sup>***</sup></td><td></td><td></td><td>-0.010<sup>***</sup></td></tr><tr><td style=\"text-align:left\"></td><td></td><td></td><td>(0.001)</td><td></td><td></td><td>(0.001)</td><td></td><td></td><td>(0.001)</td></tr><td colspan=\"10\" style=\"border-bottom: 1px solid black\"></td></tr><tr><td style=\"text-align: left\">Observations</td><td>721</td><td>721</td><td>721</td><td>721</td><td>721</td><td>721</td><td>721</td><td>721</td><td>721</td></tr><tr><td style=\"text-align: left\">R<sup>2</sup></td><td>0.025</td><td>0.019</td><td>0.025</td><td>0.486</td><td>0.081</td><td>0.072</td><td>0.536</td><td>0.113</td><td>0.086</td></tr><tr><td style=\"text-align: left\">Adjusted R<sup>2</sup></td><td>0.024</td><td>0.018</td><td>0.024</td><td>0.485</td><td>0.080</td><td>0.071</td><td>0.535</td><td>0.112</td><td>0.085</td></tr><tr><td style=\"text-align: left\">Residual Std. Error</td><td>0.057 (df=719)</td><td>0.057 (df=719)</td><td>0.057 (df=719)</td><td>0.050 (df=719)</td><td>0.067 (df=719)</td><td>0.068 (df=719)</td><td>0.053 (df=719)</td><td>0.073 (df=719)</td><td>0.074 (df=719)</td></tr><tr><td style=\"text-align: left\">F Statistic</td><td>18.775<sup>***</sup> (df=1; 719)</td><td>14.079<sup>***</sup> (df=1; 719)</td><td>18.379<sup>***</sup> (df=1; 719)</td><td>679.363<sup>***</sup> (df=1; 719)</td><td>63.626<sup>***</sup> (df=1; 719)</td><td>55.877<sup>***</sup> (df=1; 719)</td><td>829.453<sup>***</sup> (df=1; 719)</td><td>91.385<sup>***</sup> (df=1; 719)</td><td>67.906<sup>***</sup> (df=1; 719)</td></tr><tr><td colspan=\"10\" style=\"border-bottom: 1px solid black\"></td></tr><tr><td style=\"text-align: left\">Note:</td>\n",
      " <td colspan=\"9\" style=\"text-align: right\">\n",
      "  <sup>*</sup>p&lt;0.05;\n",
      "  <sup>**</sup>p&lt;0.01;\n",
      "  <sup>***</sup>p&lt;0.001\n",
      " </td></tr></table>\n"
     ]
    }
   ],
   "source": [
    "print(stargazer.render_html())"
   ]
  },
  {
   "cell_type": "code",
   "execution_count": 238,
   "metadata": {},
   "outputs": [
    {
     "name": "stdout",
     "output_type": "stream",
     "text": [
      "781"
     ]
    }
   ],
   "source": [
    "# # use the same dataset as other regressions\n",
    "# lcllocjtrm0 = JobChange(lcllocjys, \"max\", 0)\n",
    "# lcslocjtrm0 = JobChange(lcslocjys, \"max\", 0)\n",
    "# scllocjtrm0 = JobChange(scllocjys, \"max\", 0)\n",
    "# scslocjtrm0 = JobChange(scslocjys, \"max\", 0)\n",
    "# reg_df_max0 = reg_dataframe(lcllocjtrm0, lcslocjtrm0, scllocjtrm0, scslocjtrm0)\n",
    "\n",
    "# lcllocjtrm5 = JobChange(lcllocjys, \"max\", 0.05)\n",
    "# lcslocjtrm5 = JobChange(lcslocjys, \"max\", 0.05)\n",
    "# scllocjtrm5 = JobChange(scllocjys, \"max\", 0.05)\n",
    "# scslocjtrm5 = JobChange(scslocjys, \"max\", 0.05)\n",
    "# reg_df_max5 = reg_dataframe(lcllocjtrm5, lcslocjtrm5, scllocjtrm5, scslocjtrm5)\n",
    "\n",
    "# lcllocjtrm10 = JobChange(lcllocjys, \"max\", 0.1)\n",
    "# lcslocjtrm10 = JobChange(lcslocjys, \"max\", 0.1)\n",
    "# scllocjtrm10 = JobChange(scllocjys, \"max\", 0.1)\n",
    "# scslocjtrm10 = JobChange(scslocjys, \"max\", 0.1)\n",
    "# reg_df_max10 = reg_dataframe(lcllocjtrm10, lcslocjtrm10, scllocjtrm10, scslocjtrm10)"
   ]
  },
  {
   "cell_type": "code",
   "execution_count": 239,
   "metadata": {},
   "outputs": [
    {
     "data": {
      "text/html": [
       "Explaining Job Skill Change Variation with Skill Complexity, Different Measures of Change<br><table style=\"text-align:center\"><tr><td colspan=\"4\" style=\"border-bottom: 1px solid black\"></td></tr><tr><td style=\"text-align:left\"></td><td colspan=\"3\"><em>Dependent variable:SkillChange</em></td></tr><tr><td style=\"text-align:left\"></td><tr><td></td><td colspan=\"1\">Max Skill Transition</td><td colspan=\"1\">Rank 5\\% Max Skill Transition</td><td colspan=\"1\">Rank 10\\% Max Skill Transition</td></tr><tr><td colspan=\"4\" style=\"border-bottom: 1px solid black\"></td></tr><tr><td style=\"text-align:left\">Skill Complexity</td><td>-0.015<sup>***</sup></td><td>-0.048<sup>***</sup></td><td>-0.056<sup>***</sup></td></tr><tr><td style=\"text-align:left\"></td><td>(0.002)</td><td>(0.002)</td><td>(0.002)</td></tr><tr><td style=\"text-align:left\">Log Annual Pay</td><td>-0.017<sup>*</sup></td><td>-0.014<sup>*</sup></td><td>-0.015<sup>*</sup></td></tr><tr><td style=\"text-align:left\"></td><td>(0.007)</td><td>(0.006)</td><td>(0.006)</td></tr><tr><td style=\"text-align:left\">Education</td><td>-0.004<sup>***</sup></td><td>-0.005<sup>***</sup></td><td>-0.006<sup>***</sup></td></tr><tr><td style=\"text-align:left\"></td><td>(0.001)</td><td>(0.001)</td><td>(0.001)</td></tr><td colspan=\"4\" style=\"border-bottom: 1px solid black\"></td></tr><tr><td style=\"text-align: left\">Observations</td><td>1,957</td><td>1,957</td><td>1,957</td></tr><tr><td style=\"text-align: left\">R<sup>2</sup></td><td>0.084</td><td>0.319</td><td>0.392</td></tr><tr><td style=\"text-align: left\">Adjusted R<sup>2</sup></td><td>0.082</td><td>0.318</td><td>0.391</td></tr><tr><td style=\"text-align: left\">Residual Std. Error</td><td>0.068 (df=1953)</td><td>0.062 (df=1953)</td><td>0.061 (df=1953)</td></tr><tr><td style=\"text-align: left\">F Statistic</td><td>59.417<sup>***</sup> (df=3; 1953)</td><td>304.779<sup>***</sup> (df=3; 1953)</td><td>419.479<sup>***</sup> (df=3; 1953)</td></tr><tr><td colspan=\"4\" style=\"border-bottom: 1px solid black\"></td></tr><tr><td style=\"text-align: left\">Note:</td>\n",
       " <td colspan=\"3\" style=\"text-align: right\">\n",
       "  <sup>*</sup>p&lt;0.05;\n",
       "  <sup>**</sup>p&lt;0.01;\n",
       "  <sup>***</sup>p&lt;0.001\n",
       " </td></tr></table>"
      ],
      "text/plain": [
       "<stargazer.stargazer.Stargazer at 0x17f43679520>"
      ]
     },
     "execution_count": 239,
     "metadata": {},
     "output_type": "execute_result"
    }
   ],
   "source": [
    "# mod5= smf.ols('SkillChange ~ LogSkillNAll + Education + LogPay', data=reg_df_max0)\n",
    "# res5 = mod5.fit()\n",
    "\n",
    "# mod6= smf.ols('SkillChange ~ LogSkillNAll + Education + LogPay', data=reg_df_max5)\n",
    "# res6 = mod6.fit()\n",
    "\n",
    "# mod7= smf.ols('SkillChange ~ LogSkillNAll + Education + LogPay', data=reg_df_max10)\n",
    "# res7 = mod7.fit()\n",
    "\n",
    "# stargazer = Stargazer([res5, res6, res7])\n",
    "\n",
    "# stargazer.title('Explaining Job Skill Change Variation with Skill Complexity, Different Measures of Change')\n",
    "# stargazer.custom_columns(['Max Skill Transition', 'Rank 5\\% Max Skill Transition', 'Rank 10\\% Max Skill Transition'], [1, 1, 1])\n",
    "# stargazer.show_model_numbers(False)\n",
    "# stargazer.covariate_order(['LogSkillNAll',  'LogPay', 'Education'])\n",
    "\n",
    "# stargazer.rename_covariates({'LogSkillNAll': 'Skill Complexity', 'LogPay': 'Log Annual Pay', \n",
    "#     'Education': 'Education'})\n",
    "# stargazer.significance_levels([0.05, 0.01, 0.001])\n",
    "# #stargazer.add_custom_notes(['Log Emp. Concentr. refers to the natural log of HHI (employer concentration).'])\n",
    "# stargazer"
   ]
  },
  {
   "cell_type": "code",
   "execution_count": 240,
   "metadata": {},
   "outputs": [
    {
     "name": "stdout",
     "output_type": "stream",
     "text": [
      "Explaining Job Skill Change Variation with Skill Complexity, Different Measures of Change<br><table style=\"text-align:center\"><tr><td colspan=\"4\" style=\"border-bottom: 1px solid black\"></td></tr><tr><td style=\"text-align:left\"></td><td colspan=\"3\"><em>Dependent variable:SkillChange</em></td></tr><tr><td style=\"text-align:left\"></td><tr><td></td><td colspan=\"1\">Max Skill Transition</td><td colspan=\"1\">Rank 5\\% Max Skill Transition</td><td colspan=\"1\">Rank 10\\% Max Skill Transition</td></tr><tr><td colspan=\"4\" style=\"border-bottom: 1px solid black\"></td></tr><tr><td style=\"text-align:left\">Skill Complexity</td><td>-0.015<sup>***</sup></td><td>-0.048<sup>***</sup></td><td>-0.056<sup>***</sup></td></tr><tr><td style=\"text-align:left\"></td><td>(0.002)</td><td>(0.002)</td><td>(0.002)</td></tr><tr><td style=\"text-align:left\">Log Annual Pay</td><td>-0.017<sup>*</sup></td><td>-0.014<sup>*</sup></td><td>-0.015<sup>*</sup></td></tr><tr><td style=\"text-align:left\"></td><td>(0.007)</td><td>(0.006)</td><td>(0.006)</td></tr><tr><td style=\"text-align:left\">Education</td><td>-0.004<sup>***</sup></td><td>-0.005<sup>***</sup></td><td>-0.006<sup>***</sup></td></tr><tr><td style=\"text-align:left\"></td><td>(0.001)</td><td>(0.001)</td><td>(0.001)</td></tr><td colspan=\"4\" style=\"border-bottom: 1px solid black\"></td></tr><tr><td style=\"text-align: left\">Observations</td><td>1,957</td><td>1,957</td><td>1,957</td></tr><tr><td style=\"text-align: left\">R<sup>2</sup></td><td>0.084</td><td>0.319</td><td>0.392</td></tr><tr><td style=\"text-align: left\">Adjusted R<sup>2</sup></td><td>0.082</td><td>0.318</td><td>0.391</td></tr><tr><td style=\"text-align: left\">Residual Std. Error</td><td>0.068 (df=1953)</td><td>0.062 (df=1953)</td><td>0.061 (df=1953)</td></tr><tr><td style=\"text-align: left\">F Statistic</td><td>59.417<sup>***</sup> (df=3; 1953)</td><td>304.779<sup>***</sup> (df=3; 1953)</td><td>419.479<sup>***</sup> (df=3; 1953)</td></tr><tr><td colspan=\"4\" style=\"border-bottom: 1px solid black\"></td></tr><tr><td style=\"text-align: left\">Note:</td>\n",
      " <td colspan=\"3\" style=\"text-align: right\">\n",
      "  <sup>*</sup>p&lt;0.05;\n",
      "  <sup>**</sup>p&lt;0.01;\n",
      "  <sup>***</sup>p&lt;0.001\n",
      " </td></tr></table>\n"
     ]
    }
   ],
   "source": [
    "print(stargazer.render_html())"
   ]
  },
  {
   "cell_type": "markdown",
   "metadata": {},
   "source": [
    "### Extended Results: Upskilling of Low-skilled Jobs towards High-skilled Jobs"
   ]
  },
  {
   "cell_type": "code",
   "execution_count": 194,
   "metadata": {},
   "outputs": [],
   "source": [
    "# match to nearest occupation in the other skill group\n",
    "def nearestjob(j1,j2,dis, jp, year):\n",
    "    \n",
    "    if j1 in jtr and j2 in jtr:\n",
    "        d=1-np.dot(jyv[j1][year], jyv[j2][year])/(np.linalg.norm(jyv[j1][year])* np.linalg.norm(jyv[j2][year]))\n",
    "        if d<dis:\n",
    "            dis=d\n",
    "            jp=j2\n",
    "            \n",
    "    return dis, jp"
   ]
  },
  {
   "cell_type": "code",
   "execution_count": 195,
   "metadata": {},
   "outputs": [],
   "source": [
    "# skill group\n",
    "def classifySkillGroup(os, jtr, cond):\n",
    "    sj = defaultdict(lambda:[])\n",
    "    for j in os:\n",
    "        if j in jtr:\n",
    "            if os[j]>=cond:\n",
    "                sj['high'].append(j)\n",
    "            else:\n",
    "                sj['low'].append(j)  \n",
    "    return sj"
   ]
  },
  {
   "cell_type": "code",
   "execution_count": 201,
   "metadata": {},
   "outputs": [],
   "source": [
    "def GetPairs(skillj):\n",
    "    pairs10 = defaultdict(lambda:0)\n",
    "    pairs18 = defaultdict(lambda:0)\n",
    "    compdict={'high':'low', 'low': 'high'}\n",
    "    for g in skillj:\n",
    "        for j1 in skillj[g]:\n",
    "            dis10=10000\n",
    "            jp10=''\n",
    "            dis18=10000\n",
    "            jp18=''\n",
    "            for j2 in skillj[compdict[g]]:\n",
    "                dis10, jp10 = nearestjob(j1,j2,dis10, jp10, 2010)\n",
    "                dis18, jp18 = nearestjob(j1,j2,dis18, jp18, 2018)\n",
    "            if dis10 != 10000:\n",
    "                pairs10[(j1,jp10)] = dis10\n",
    "            if dis18 != 10000:\n",
    "                pairs18[(j1,jp18)] = dis18   \n",
    "    print(len(pairs10), len(pairs18))\n",
    "    \n",
    "    return pairs10, pairs18"
   ]
  },
  {
   "cell_type": "code",
   "execution_count": 202,
   "metadata": {},
   "outputs": [
    {
     "name": "stdout",
     "output_type": "stream",
     "text": [
      "727 727\n"
     ]
    },
    {
     "data": {
      "text/plain": [
       "(0.0887652315824527,\n",
       " 0.0661466570963066,\n",
       " Ttest_relResult(statistic=20.497855744756972, pvalue=5.033764160911014e-74))"
      ]
     },
     "execution_count": 202,
     "metadata": {},
     "output_type": "execute_result"
    }
   ],
   "source": [
    "sj = classifySkillGroup(osn, jtr, np.median(list(osn.values())))\n",
    "spairs10, spairs18 = GetPairs(sj)\n",
    "np.mean(list(spairs10.values())), np.mean(list(spairs18.values())), stats.ttest_rel(list(spairs10.values()), list(spairs18.values()))"
   ]
  },
  {
   "cell_type": "code",
   "execution_count": 219,
   "metadata": {},
   "outputs": [
    {
     "name": "stdout",
     "output_type": "stream",
     "text": [
      "721 721\n"
     ]
    },
    {
     "data": {
      "text/plain": [
       "(0.08981245673479882,\n",
       " 0.07051716275750847,\n",
       " Ttest_relResult(statistic=15.812108779937885, pvalue=1.4588509542103245e-48))"
      ]
     },
     "execution_count": 219,
     "metadata": {},
     "output_type": "execute_result"
    }
   ],
   "source": [
    "cleaned_op = {}\n",
    "for o in op:\n",
    "    if not math.isnan(op[o]):\n",
    "        cleaned_op[o]=op[o]\n",
    "pj = classifySkillGroup(cleaned_op, jtr, np.median(list(cleaned_op.values())))\n",
    "ppairs10, ppairs18 = GetPairs(pj)\n",
    "np.mean(list(ppairs10.values())), np.mean(list(ppairs18.values())), stats.ttest_rel(list(ppairs10.values()), list(ppairs18.values()))"
   ]
  },
  {
   "cell_type": "code",
   "execution_count": 204,
   "metadata": {},
   "outputs": [
    {
     "name": "stdout",
     "output_type": "stream",
     "text": [
      "721 721\n"
     ]
    },
    {
     "data": {
      "text/plain": [
       "(0.1356854994320175,\n",
       " 0.11585051201583609,\n",
       " Ttest_relResult(statistic=14.373444578014215, pvalue=2.2703778334851705e-41))"
      ]
     },
     "execution_count": 204,
     "metadata": {},
     "output_type": "execute_result"
    }
   ],
   "source": [
    "ej = classifySkillGroup(oe, jtr, 16)\n",
    "epairs10, epairs18 = GetPairs(ej)\n",
    "np.mean(list(epairs10.values())), np.mean(list(epairs18.values())), stats.ttest_rel(list(epairs10.values()), list(epairs18.values()))"
   ]
  },
  {
   "cell_type": "code",
   "execution_count": 232,
   "metadata": {},
   "outputs": [
    {
     "data": {
      "image/png": "[encoded data removed]",
      "text/plain": [
       "<Figure size 648x216 with 3 Axes>"
      ]
     },
     "metadata": {},
     "output_type": "display_data"
    }
   ],
   "source": [
    "fig = plt.figure(figsize=(9, 3),facecolor='white')\n",
    "\n",
    "\n",
    "# skill number\n",
    "f1 = fig.add_subplot(131)\n",
    "ymeans = [np.mean(list(spairs10.values())), np.mean(list(spairs18.values()))]\n",
    "ystd = [calculateCI2(list(spairs10.values()),'mean',50, 0.8), calculateCI2(list(spairs18.values()),'mean',50, 0.8)]\n",
    "xy_pos = np.arange(len(ymeans))\n",
    "ykeys = ['2010', '2018']\n",
    "f1.bar(xy_pos[0], ymeans[0], yerr=ystd[0], color = 'gold', align='center', alpha=0.5, ecolor='black', capsize=5)\n",
    "f1.bar(xy_pos[1], ymeans[1], yerr=ystd[1], color = 'greenyellow', align='center', alpha=0.5, ecolor='black', capsize=5)\n",
    "f1.set_ylabel('skill vector distance', fontsize=14)\n",
    "f1.set_xlabel('year', fontsize=14)\n",
    "f1.set_xticks(xy_pos)\n",
    "f1.set_xticklabels([2010, 2018],size=14)\n",
    "f1.yaxis.set_tick_params(labelsize=14)\n",
    "plt.title(\"Complex vs. Simple Skill\")\n",
    "plt.ylim(0,0.15)\n",
    "plt.tight_layout()\n",
    "\n",
    "# pay\n",
    "f2 = fig.add_subplot(132)\n",
    "ymeans = [np.mean(list(ppairs10.values())), np.mean(list(ppairs18.values()))]\n",
    "ystd = [calculateCI2(list(ppairs10.values()),'mean',50, 0.8), calculateCI2(list(ppairs18.values()),'mean',50, 0.8)]\n",
    "xy_pos = np.arange(len(ymeans))\n",
    "ykeys = ['2010', '2018']\n",
    "f2.bar(xy_pos[0], ymeans[0], yerr=ystd[0], color = 'gold', align='center', alpha=0.5, ecolor='black', capsize=5)\n",
    "f2.bar(xy_pos[1], ymeans[1], yerr=ystd[1], color = 'greenyellow', align='center', alpha=0.5, ecolor='black', capsize=5)\n",
    "#f2.set_ylabel('skill vector distance', fontsize=14)\n",
    "f2.set_xlabel('year', fontsize=14)\n",
    "f2.set_xticks(xy_pos)\n",
    "f2.set_xticklabels([2010, 2018],size=14)\n",
    "f2.yaxis.set_tick_params(labelsize=14)\n",
    "plt.title(\"High vs. Low Pay\")\n",
    "plt.ylim(0,0.15)\n",
    "plt.tight_layout()\n",
    "\n",
    "# education\n",
    "f3 = fig.add_subplot(133)\n",
    "ymeans = [np.mean(list(epairs10.values())), np.mean(list(epairs18.values()))]\n",
    "ystd = [calculateCI2(list(epairs10.values()),'mean',50, 0.8), calculateCI2(list(epairs18.values()),'mean',50, 0.8)]\n",
    "xy_pos = np.arange(len(ymeans))\n",
    "ykeys = ['2010', '2018']\n",
    "f3.bar(xy_pos[0], ymeans[0], yerr=ystd[0], color = 'gold', align='center', alpha=0.5, ecolor='black', capsize=5)\n",
    "f3.bar(xy_pos[1], ymeans[1], yerr=ystd[1], color = 'greenyellow', align='center', alpha=0.5, ecolor='black', capsize=5)\n",
    "#f3.set_ylabel('skill vector distance', fontsize=14)\n",
    "f3.set_xlabel('year', fontsize=14)\n",
    "f3.set_xticks(xy_pos)\n",
    "f3.set_xticklabels([2010, 2018],size=14)\n",
    "f3.yaxis.set_tick_params(labelsize=14)\n",
    "plt.title(\"College vs. Non-college\")\n",
    "plt.ylim(0,0.15)\n",
    "plt.tight_layout()\n",
    "\n",
    "plt.savefig('/Users/ditong/Dropbox (MIT)/skills/SkillPaper/revision/NHB/results/SIfigtable/HighLowSkillGroupMoveCloser.png')"
   ]
  },
  {
   "cell_type": "markdown",
   "metadata": {},
   "source": [
    "### Extended Results: Unemployment and Skill Change"
   ]
  },
  {
   "cell_type": "code",
   "execution_count": 375,
   "metadata": {},
   "outputs": [],
   "source": [
    "# unemployment rate 2010-2018\n",
    "uer1018 = [9.6, 8.9, 8.1, 7.4, 6.2, 5.3, 4.9, 4.4]#, 3.9]\n",
    "uer1018 = [u/100 for u in uer1018] \n",
    "yuer = zip(list(range(2010, 2019)), uer1018)\n",
    "yuer = dict(yuer)"
   ]
  },
  {
   "cell_type": "code",
   "execution_count": 274,
   "metadata": {},
   "outputs": [],
   "source": [
    "# JOB-SKILL DATA\n",
    "# without filtering the skills\n",
    "allyjas = defaultdict(lambda:defaultdict(lambda:defaultdict(lambda:0)))\n",
    "with open('/Users/ditong/Dropbox (MIT)/skills/SkillPaper/IntermediateData/occ_year_skill_freq.txt', 'r') as f:\n",
    "    for line in f:\n",
    "        line_lst = line.split(\"\\t\")\n",
    "        job = line_lst[0]\n",
    "        year = int(line_lst[1])\n",
    "        skills = line_lst[2:]\n",
    "        if year >= 2010 or year<=2018:\n",
    "            if len(skills) > 5:\n",
    "                for skill_tfidf in skills:\n",
    "                    skill = skill_tfidf.split('_')[0].lower()\n",
    "                    tfidf = float(skill_tfidf.split('_')[1])\n",
    "                    allyjas[year][job][skill] = tfidf\n",
    "                    \n",
    "# job - top 5% defining skills\n",
    "alljys = defaultdict(lambda:defaultdict(lambda:[]))\n",
    "allsyj = defaultdict(lambda:defaultdict(lambda:[]))\n",
    "for year in allyjas:\n",
    "    for job in allyjas[year]:\n",
    "        threshold = np.quantile(list(allyjas[year][job].values()), [0.95])\n",
    "        #threshold = np.mean(list(yjas[year][job].values()))\n",
    "        for skill in allyjas[year][job]:\n",
    "            if allyjas[year][job][skill] > threshold:\n",
    "                alljys[job][year].append(skill)\n",
    "                allsyj[skill][year].append(job)\n",
    "        if len(alljys[job][year]) < 5:\n",
    "            #print(job, year)\n",
    "            del alljys[job][year]\n",
    "            fulllist = allsyj[skill][year]\n",
    "            allsyj[skill][year] = [value for value in fulllist if value != job]\n",
    "            \n",
    "# job vector\n",
    "# 200 dimension Job-Year-Vector\n",
    "allyjv = defaultdict(lambda:defaultdict(lambda:''))\n",
    "alljyv = defaultdict(lambda:defaultdict(lambda:''))\n",
    "for j in alljys:\n",
    "    for y in alljys[j]:\n",
    "        alljyv[j][y] = np.mean([model.wv[s] for s in alljys[j][y] if s in model.wv],axis=0)\n",
    "        allyjv[y][j] = np.mean([model.wv[s] for s in alljys[j][y] if s in model.wv],axis=0)\n",
    "        #jyv[j][y] = np.sum([model.wv[s] for s in jys[j][y] if s in model.wv],axis=0)"
   ]
  },
  {
   "cell_type": "code",
   "execution_count": 275,
   "metadata": {},
   "outputs": [
    {
     "data": {
      "text/plain": [
       "727"
      ]
     },
     "execution_count": 275,
     "metadata": {},
     "output_type": "execute_result"
    }
   ],
   "source": [
    "len(jtr)"
   ]
  },
  {
   "cell_type": "code",
   "execution_count": 277,
   "metadata": {},
   "outputs": [],
   "source": [
    "# job stability from 2010 to 2018: dot product between 2 job vectors\n",
    "yjtr = defaultdict(lambda:defaultdict(lambda:\"\"))\n",
    "yavgc = {}\n",
    "for y in range(2010, 2018):\n",
    "    for j in allyjv[y]:\n",
    "        if y+1 in alljyv[j] and j in jtr:\n",
    "            yjtr[y][j] = 1- np.dot(alljyv[j][y], alljyv[j][y+1])/(np.linalg.norm(alljyv[j][y])* np.linalg.norm(alljyv[j][y+1]))\n",
    "    yjtr[y] = dict(sorted(yjtr[y].items(), key=operator.itemgetter(1)))\n",
    "    yavgc[y] = np.mean(list(yjtr[y].values())) \n",
    "\n",
    "yjtr = dict(sorted(yjtr.items(), key=operator.itemgetter(0)))\n",
    "yavgc = dict(sorted(yavgc.items(), key=operator.itemgetter(0)))"
   ]
  },
  {
   "cell_type": "code",
   "execution_count": 294,
   "metadata": {},
   "outputs": [
    {
     "data": {
      "text/plain": [
       "{2010: 0.02766351270082906,\n",
       " 2011: 0.02484441602098349,\n",
       " 2012: 0.025479415067299668,\n",
       " 2013: 0.020749672816904898,\n",
       " 2014: 0.01940603728471465,\n",
       " 2015: 0.019610293968978336,\n",
       " 2016: 0.01792257761495501,\n",
       " 2017: 0.01794984940813529}"
      ]
     },
     "execution_count": 294,
     "metadata": {},
     "output_type": "execute_result"
    }
   ],
   "source": [
    "yavgc"
   ]
  },
  {
   "cell_type": "code",
   "execution_count": 377,
   "metadata": {},
   "outputs": [
    {
     "name": "stdout",
     "output_type": "stream",
     "text": [
      "(0.9498244720541461, 0.0003040377992264039)\n"
     ]
    }
   ],
   "source": [
    "print(pearsonr(uer1018, list(yavgc.values())))\n",
    "# plt.scatter(uer1018, list(yavgc.values()))\n",
    "# plt.xlabel(\"unemployment rate\")\n",
    "# plt.ylabel(\"average occupational skill change\")"
   ]
  },
  {
   "cell_type": "code",
   "execution_count": 307,
   "metadata": {},
   "outputs": [
    {
     "data": {
      "image/png": "[encoded data removed]",
      "text/plain": [
       "<Figure size 504x288 with 2 Axes>"
      ]
     },
     "metadata": {},
     "output_type": "display_data"
    }
   ],
   "source": [
    "# Create the first set of scatter plots (aligned with the left axes)\n",
    "#fig, ax1 = plt.subplots()\n",
    "fig, ax1 = plt.subplots(figsize=(7, 4),facecolor='white')\n",
    "x, y1 =zip(*yavgc.items())\n",
    "ax1.scatter(x, y1, color='steelblue')\n",
    "ax1.set_ylim(0.017, 0.029)\n",
    "ax1.tick_params(axis='y', labelcolor='steelblue', color='steelblue')\n",
    "\n",
    "\n",
    "# Create the second set of scatter plots (aligned with the right axes)\n",
    "ax2 = ax1.twinx()\n",
    "x, y2 =zip(*yuer.items())\n",
    "ax2.scatter(x, y2, color='orange')\n",
    "ax2.set_ylim(0.035, 0.105)\n",
    "ax2.tick_params(axis='y', labelcolor='orange', color='orange')\n",
    "\n",
    "# Customize the plots\n",
    "ax1.set_xlabel('year', fontsize=14)\n",
    "ax1.set_ylabel('skill change (v.s. the next year)', color='steelblue', fontsize=14)\n",
    "ax2.set_ylabel('unemployment rate', color='orange', fontsize=14)\n",
    "\n",
    "\n",
    "plt.savefig('/Users/ditong/Dropbox (MIT)/skills/SkillPaper/revision/NHB/results/SIfigtable/uerskillchange.png')\n",
    "\n",
    "plt.show()"
   ]
  },
  {
   "cell_type": "markdown",
   "metadata": {},
   "source": [
    "### Extended Results: Re-educational Cost Reflected by Occupational Skill Change"
   ]
  },
  {
   "cell_type": "code",
   "execution_count": 64,
   "metadata": {},
   "outputs": [],
   "source": [
    "SocSmSnEdudSvd = defaultdict(lambda:defaultdict(lambda:defaultdict(lambda:[])))\n",
    "SocSmSnEdudSvdAll = defaultdict(lambda:defaultdict(lambda:defaultdict(lambda:[])))\n",
    "with open('/Users/ditong/Dropbox (MIT)/skills/SkillPaper/revision/NHB/data/SocSnSaddEdudSvd_10perc821seed.txt', 'r') as f:\n",
    "    for line in f:\n",
    "        line_lst = line[:-1].split('\\t')\n",
    "        if float(line_lst[3])>0:\n",
    "            SocSmSnEdudSvd[line_lst[0]][int(line_lst[1])][int(line_lst[2])].append([float(k) for k in line_lst[3:]])\n",
    "        SocSmSnEdudSvdAll[line_lst[0]][int(line_lst[1])][int(line_lst[2])].append([float(k) for k in line_lst[3:]])"
   ]
  },
  {
   "cell_type": "code",
   "execution_count": 65,
   "metadata": {},
   "outputs": [
    {
     "data": {
      "text/plain": [
       "(448, 652)"
      ]
     },
     "execution_count": 65,
     "metadata": {},
     "output_type": "execute_result"
    }
   ],
   "source": [
    "len(SocSmSnEdudSvd), len(SocSmSnEdudSvdAll)"
   ]
  },
  {
   "cell_type": "markdown",
   "metadata": {},
   "source": [
    "#### Number of added skill distribution of occupation"
   ]
  },
  {
   "cell_type": "code",
   "execution_count": 66,
   "metadata": {},
   "outputs": [],
   "source": [
    "SocAddN = defaultdict(lambda:defaultdict(lambda:0))\n",
    "SocAddNlst = defaultdict(lambda:[])\n",
    "AddN=defaultdict(lambda:0)\n",
    "for occ in SocSmSnEdudSvd:\n",
    "    for m in SocSmSnEdudSvd[occ]:\n",
    "        for n in SocSmSnEdudSvd[occ][m]:\n",
    "            SocAddN[occ][n-m]+=len(SocSmSnEdudSvd[occ][m][n])\n",
    "            AddN[n-m]+=len(SocSmSnEdudSvd[occ][m][n])\n",
    "            SocAddNlst[occ]+=[n-m]*len(SocSmSnEdudSvd[occ][m][n])\n",
    "    SocAddN[occ] = dict(sorted(SocAddN[occ].items(), key=operator.itemgetter(1), reverse=True))\n",
    "AddN=dict(sorted(AddN.items(), key=operator.itemgetter(1), reverse=True))    "
   ]
  },
  {
   "cell_type": "code",
   "execution_count": 67,
   "metadata": {},
   "outputs": [
    {
     "data": {
      "text/plain": [
       "(0.0, 50.0)"
      ]
     },
     "execution_count": 67,
     "metadata": {},
     "output_type": "execute_result"
    },
    {
     "data": {
      "image/png": "[encoded data removed]",
      "text/plain": [
       "<Figure size 432x288 with 1 Axes>"
      ]
     },
     "metadata": {
      "needs_background": "light"
     },
     "output_type": "display_data"
    }
   ],
   "source": [
    "plt.bar(list(AddN.keys()), list(AddN.values()))\n",
    "plt.xlim(0, 50)"
   ]
  },
  {
   "cell_type": "code",
   "execution_count": 68,
   "metadata": {},
   "outputs": [
    {
     "data": {
      "text/plain": [
       "<Figure size 432x288 with 0 Axes>"
      ]
     },
     "metadata": {},
     "output_type": "display_data"
    }
   ],
   "source": [
    "# find occupations, get density plot peak for each occupation\n",
    "AddnSoc=defaultdict(lambda:defaultdict(lambda:0))\n",
    "socpeak={}\n",
    "for occ in SocAddNlst:\n",
    "    data = SocAddNlst[occ]\n",
    "    if len(set(data))==1:\n",
    "        an=data[0]\n",
    "    else:\n",
    "        plot=sns.kdeplot(data)\n",
    "        kde_data = plot.get_lines()[0].get_data()\n",
    "        kde_x, kde_y = kde_data\n",
    "        an=round(kde_x[np.argmax(kde_y)])\n",
    "        plt.clf()\n",
    "        if an not in SocAddN[occ]:\n",
    "            dis=10000\n",
    "            for n in SocAddN[occ]:\n",
    "                if abs(n-kde_x[np.argmax(kde_y)]) <= dis:\n",
    "                    dis = abs(n-kde_x[np.argmax(kde_y)])\n",
    "                    an=n \n",
    "            \n",
    "    socpeak[occ] = an\n",
    "    AddnSoc[an][occ] = SocAddN[occ][an]\n",
    "\n",
    "for addn in AddnSoc:\n",
    "    AddnSoc[addn] = dict(sorted(AddnSoc[addn].items(), key=operator.itemgetter(1), reverse=True))\n",
    "AddnSoc = dict(sorted(AddnSoc.items(), key=operator.itemgetter(0)))"
   ]
  },
  {
   "cell_type": "code",
   "execution_count": 99,
   "metadata": {},
   "outputs": [
    {
     "data": {
      "image/png": "[encoded data removed]",
      "text/plain": [
       "<Figure size 864x288 with 8 Axes>"
      ]
     },
     "metadata": {},
     "output_type": "display_data"
    }
   ],
   "source": [
    "# 4*2 figure\n",
    "occupations = ['Social Workers, All Other', 'Registered Nurses',\n",
    "         'Bookkeeping, Accounting, and Auditing Clerks','Education Administrators, Postsecondary',\n",
    "       'Sales Representatives, Wholesale and Manufacturing, Except Technical and Scientific Products',\n",
    "            'Financial Managers', 'Software Developers, Applications','Database Administrators']\n",
    "labels={'Preschool Teachers, Except Special Education': 'Preschool Teachers',\n",
    "        'Social Workers, All Other': 'Social Workers',\n",
    "        'Education Administrators, Postsecondary': 'Education Administrators',\n",
    "        'Bookkeeping, Accounting, and Auditing Clerks': 'Accounting Clerks',\n",
    "        'Software Developers, Applications':'Software Developers',\n",
    "       'Sales Representatives, Wholesale and Manufacturing, Except Technical and Scientific Products': 'Sales Representatives'}\n",
    "\n",
    "fig, axes = plt.subplots(nrows=2, ncols=4, figsize=(12,4))\n",
    "fig.patch.set_facecolor('white')\n",
    "fig.suptitle(\"Distribution of Number of Added Skill by Occupation\", fontsize=16)\n",
    "\n",
    "# Add x and y labels for the entire figure\n",
    "fig.text(0.5, 0.0000001, 'Added Skill Number', ha='center', fontsize=14)\n",
    "fig.text(0.000000001, 0.5, 'Probability / Density', va='center', rotation='vertical', fontsize=14)\n",
    "for i, occ in enumerate(occupations):\n",
    "    row, col = divmod(i, 4)\n",
    "    data = SocAddNlst[occ]\n",
    "    if occ in list(labels.keys()):\n",
    "        label =labels[occ]\n",
    "    else:\n",
    "        label=occ\n",
    "    ax = axes[row, col]\n",
    "    ax.set_title(label)\n",
    "    \n",
    "    # histogram\n",
    "    sns.histplot(data, bins=int(180/5), stat='probability', color='darkblue', edgecolor='black', \n",
    "                 alpha=0.5, ax=ax)\n",
    "    # Add KDE\n",
    "    plot=sns.kdeplot(data, color='darkblue', linewidth=4, label='KDE', ax=ax)\n",
    "    # Set the x and y lim and ticks\n",
    "    custom_xticks = list(range(0, 41, 5))\n",
    "    ax.set(xticks=custom_xticks)\n",
    "    ax.set_xlim(0, 40)\n",
    "    ax.set_ylim(0, 0.18)\n",
    "    ax.set_ylabel('')\n",
    "\n",
    "plt.tight_layout()\n",
    "plt.subplots_adjust(top=0.85)\n",
    "plt.savefig('/Users/ditong/Dropbox (MIT)/skills/SkillPaper/revision/NHB/results/SIfig/AddedSkillDistribution_10perc821seed.png')\n",
    "plt.show()\n"
   ]
  },
  {
   "cell_type": "markdown",
   "metadata": {},
   "source": [
    "#### Skill distance and education difference"
   ]
  },
  {
   "cell_type": "code",
   "execution_count": 71,
   "metadata": {},
   "outputs": [
    {
     "data": {
      "text/plain": [
       "(6585524, 448, 1257)"
      ]
     },
     "execution_count": 71,
     "metadata": {},
     "output_type": "execute_result"
    }
   ],
   "source": [
    "# data\n",
    "svdedud = []\n",
    "osvdedud = []\n",
    "socs=defaultdict(lambda:0)\n",
    "#select the peak with +-1 slide window for each occupation\n",
    "for occ in SocSmSnEdudSvdAll:\n",
    "    if occ in socpeak:\n",
    "        add=[socpeak[occ], socpeak[occ]-1, socpeak[occ]+1]\n",
    "        osvdedudlst=defaultdict(lambda:[])\n",
    "        for sm in SocSmSnEdudSvdAll[occ]:\n",
    "            for sn in SocSmSnEdudSvdAll[occ][sm]:\n",
    "                if sn-sm in add:\n",
    "                    for unit in SocSmSnEdudSvdAll[occ][sm][sn]:\n",
    "                        svdedud.append((unit[1], unit[0]))\n",
    "                        osvdedudlst[sn-sm].append((unit[1], unit[0]))\n",
    "                        socs[occ]+=1\n",
    "\n",
    "        for n in osvdedudlst:\n",
    "            osvdedud.append(tuple([sum(t) / len(osvdedudlst[n]) for t in zip(*osvdedudlst[n])]))\n",
    "# all instances\n",
    "len(svdedud), len(socs), len(osvdedud)"
   ]
  },
  {
   "cell_type": "code",
   "execution_count": 73,
   "metadata": {},
   "outputs": [],
   "source": [
    "with open('/Users/ditong/Dropbox (MIT)/skills/SkillPaper/revision/NHB/data/svdedud_10perc821seed.txt', 'w') as f:\n",
    "    for svd, edud in svdedud:\n",
    "        line=\"\\t\".join([str(svd), str(edud)])\n",
    "        f.write(line+'\\n')\n",
    "with open('/Users/ditong/Dropbox (MIT)/skills/SkillPaper/revision/NHB/data/osvdedud_10perc821seed.txt', 'w') as f:\n",
    "    for osvd, edud in osvdedud:\n",
    "        line=\"\\t\".join([str(osvd), str(edud)])\n",
    "        f.write(line+'\\n')"
   ]
  },
  {
   "cell_type": "code",
   "execution_count": 186,
   "metadata": {},
   "outputs": [],
   "source": [
    "osvdedud = []\n",
    "with open('/Users/ditong/Dropbox (MIT)/skills/SkillPaper/revision/NHB/data/osvdedud_10perc821seed.txt', 'r') as f:\n",
    "    for line in f:\n",
    "        linelst = line[:-1].split(\"\\t\")\n",
    "        osvdedud.append((float(linelst[0]), float(linelst[1])))\n",
    "svdedud = []\n",
    "with open('/Users/ditong/Dropbox (MIT)/skills/SkillPaper/revision/NHB/data/svdedud_10perc821seed.txt', 'r') as f:\n",
    "    for line in f:\n",
    "        linelst = line[:-1].split(\"\\t\")\n",
    "        svdedud.append((float(linelst[0]), float(linelst[1])))"
   ]
  },
  {
   "cell_type": "code",
   "execution_count": 187,
   "metadata": {},
   "outputs": [
    {
     "data": {
      "text/plain": [
       "(SpearmanrResult(correlation=0.0550634213908414, pvalue=0.0),\n",
       " (0.041796178792241186, 0.0))"
      ]
     },
     "execution_count": 187,
     "metadata": {},
     "output_type": "execute_result"
    }
   ],
   "source": [
    "# post level correlation\n",
    "x, y = zip(*svdedud)\n",
    "spearmanr(x, y), pearsonr(x, y)"
   ]
  },
  {
   "cell_type": "code",
   "execution_count": 227,
   "metadata": {},
   "outputs": [
    {
     "data": {
      "text/plain": [
       "(SpearmanrResult(correlation=0.13521232405663985, pvalue=1.5003825443311582e-06),\n",
       " (0.14572700957545776, 2.111788271143556e-07))"
      ]
     },
     "execution_count": 227,
     "metadata": {},
     "output_type": "execute_result"
    }
   ],
   "source": [
    "# occupation average level correlation\n",
    "# post level correlation\n",
    "x, y = zip(*osvdedud)\n",
    "spearmanr(x, y), pearsonr(x, y)"
   ]
  },
  {
   "cell_type": "code",
   "execution_count": 229,
   "metadata": {},
   "outputs": [
    {
     "data": {
      "text/plain": [
       "6585524"
      ]
     },
     "execution_count": 229,
     "metadata": {},
     "output_type": "execute_result"
    }
   ],
   "source": [
    "# put variables in a dataframe\n",
    "reg_df=pd.DataFrame(columns = [\"SkillDistance\", \"EduDifference\"])\n",
    "xs, ys = zip(*svdedud)\n",
    "reg_df[\"SkillDistance\"]=xs\n",
    "reg_df[\"EduDifference\"]=ys\n",
    "len(reg_df)"
   ]
  },
  {
   "cell_type": "code",
   "execution_count": 228,
   "metadata": {},
   "outputs": [
    {
     "data": {
      "text/plain": [
       "1257"
      ]
     },
     "execution_count": 228,
     "metadata": {},
     "output_type": "execute_result"
    }
   ],
   "source": [
    "oreg_df=pd.DataFrame(columns = [\"SkillDistance\", \"EduDifference\", \"ZSkillDistance\"])\n",
    "\n",
    "# post level z-score regression\n",
    "x, y = zip(*osvdedud)\n",
    "z_scores = np.array(x)\n",
    "z_scores = (z_scores - z_scores.mean()) / z_scores.std()\n",
    "\n",
    "oreg_df[\"SkillDistance\"]=x\n",
    "oreg_df[\"EduDifference\"]=y\n",
    "oreg_df[\"ZSkillDistance\"]=z_scores\n",
    "len(oreg_df)"
   ]
  },
  {
   "cell_type": "code",
   "execution_count": 230,
   "metadata": {},
   "outputs": [
    {
     "data": {
      "text/html": [
       "Predicting Education Year Difference with Skill Distance<br><table style=\"text-align:center\"><tr><td colspan=\"4\" style=\"border-bottom: 1px solid black\"></td></tr><tr><td style=\"text-align:left\"></td><td colspan=\"3\"><em>Dependent variable:EduDifference</em></td></tr><tr><td style=\"text-align:left\"></td><tr><td></td><td colspan=\"1\">Job Post Unit</td><td colspan=\"1\">Occupation Aggregated Unit</td><td colspan=\"1\">Occupation Aggregated Unit</td></tr><tr><td colspan=\"4\" style=\"border-bottom: 1px solid black\"></td></tr><tr><td style=\"text-align:left\">Skill Distance</td><td>0.741<sup>***</sup></td><td>1.839<sup>***</sup></td><td></td></tr><tr><td style=\"text-align:left\"></td><td>(0.007)</td><td>(0.352)</td><td></td></tr><tr><td style=\"text-align:left\">Skill Distance Z-score</td><td></td><td></td><td>0.172<sup>***</sup></td></tr><tr><td style=\"text-align:left\"></td><td></td><td></td><td>(0.033)</td></tr><td colspan=\"4\" style=\"border-bottom: 1px solid black\"></td></tr><tr><td style=\"text-align: left\">Observations</td><td>6,585,524</td><td>1,257</td><td>1,257</td></tr><tr><td style=\"text-align: left\">R<sup>2</sup></td><td>0.002</td><td>0.021</td><td>0.021</td></tr><tr><td style=\"text-align: left\">Adjusted R<sup>2</sup></td><td>0.002</td><td>0.020</td><td>0.020</td></tr><tr><td style=\"text-align: left\">Residual Std. Error</td><td>2.038 (df=6585522)</td><td>1.167 (df=1255)</td><td>1.167 (df=1255)</td></tr><tr><td style=\"text-align: left\">F Statistic</td><td>11524.516<sup>***</sup> (df=1; 6585522)</td><td>27.230<sup>***</sup> (df=1; 1255)</td><td>27.230<sup>***</sup> (df=1; 1255)</td></tr><tr><td colspan=\"4\" style=\"border-bottom: 1px solid black\"></td></tr><tr><td style=\"text-align: left\">Note:</td>\n",
       " <td colspan=\"3\" style=\"text-align: right\">\n",
       "  <sup>*</sup>p&lt;0.05;\n",
       "  <sup>**</sup>p&lt;0.01;\n",
       "  <sup>***</sup>p&lt;0.001\n",
       " </td></tr></table>"
      ],
      "text/plain": [
       "<stargazer.stargazer.Stargazer at 0x182ad6ea880>"
      ]
     },
     "execution_count": 230,
     "metadata": {},
     "output_type": "execute_result"
    }
   ],
   "source": [
    "resf1 =  smf.ols(\"EduDifference ~ SkillDistance\", data=reg_df).fit()\n",
    "resf2 =  smf.ols(\"EduDifference ~ SkillDistance\", data=oreg_df).fit()\n",
    "resf3 =  smf.ols(\"EduDifference ~ ZSkillDistance\", data=oreg_df).fit()\n",
    "\n",
    "stargazerf = Stargazer([resf1, resf2, resf3])\n",
    "\n",
    "stargazerf.title('Predicting Education Year Difference with Skill Distance')\n",
    "stargazerf.custom_columns(['Job Post Unit', 'Occupation Aggregated Unit', 'Occupation Aggregated Unit'], [1, 1, 1])\n",
    "stargazerf.show_model_numbers(False)\n",
    "stargazerf.covariate_order(['SkillDistance', 'ZSkillDistance'])\n",
    "stargazerf.rename_covariates({'SkillDistance': 'Skill Distance', 'ZSkillDistance': 'Skill Distance Z-score'})\n",
    "stargazerf.significance_levels([0.05, 0.01, 0.001])\n",
    "stargazerf"
   ]
  },
  {
   "cell_type": "code",
   "execution_count": 241,
   "metadata": {},
   "outputs": [
    {
     "name": "stdout",
     "output_type": "stream",
     "text": [
      "Predicting Education Year Difference with Skill Distance<br><table style=\"text-align:center\"><tr><td colspan=\"4\" style=\"border-bottom: 1px solid black\"></td></tr><tr><td style=\"text-align:left\"></td><td colspan=\"3\"><em>Dependent variable:EduDifference</em></td></tr><tr><td style=\"text-align:left\"></td><tr><td></td><td colspan=\"1\">Job Post Unit</td><td colspan=\"1\">Occupation Aggregated Unit</td><td colspan=\"1\">Occupation Aggregated Unit</td></tr><tr><td colspan=\"4\" style=\"border-bottom: 1px solid black\"></td></tr><tr><td style=\"text-align:left\">Skill Distance</td><td>0.741<sup>***</sup></td><td>1.839<sup>***</sup></td><td></td></tr><tr><td style=\"text-align:left\"></td><td>(0.007)</td><td>(0.352)</td><td></td></tr><tr><td style=\"text-align:left\">Skill Distance Z-score</td><td></td><td></td><td>0.172<sup>***</sup></td></tr><tr><td style=\"text-align:left\"></td><td></td><td></td><td>(0.033)</td></tr><td colspan=\"4\" style=\"border-bottom: 1px solid black\"></td></tr><tr><td style=\"text-align: left\">Observations</td><td>6,585,524</td><td>1,257</td><td>1,257</td></tr><tr><td style=\"text-align: left\">R<sup>2</sup></td><td>0.002</td><td>0.021</td><td>0.021</td></tr><tr><td style=\"text-align: left\">Adjusted R<sup>2</sup></td><td>0.002</td><td>0.020</td><td>0.020</td></tr><tr><td style=\"text-align: left\">Residual Std. Error</td><td>2.038 (df=6585522)</td><td>1.167 (df=1255)</td><td>1.167 (df=1255)</td></tr><tr><td style=\"text-align: left\">F Statistic</td><td>11524.516<sup>***</sup> (df=1; 6585522)</td><td>27.230<sup>***</sup> (df=1; 1255)</td><td>27.230<sup>***</sup> (df=1; 1255)</td></tr><tr><td colspan=\"4\" style=\"border-bottom: 1px solid black\"></td></tr><tr><td style=\"text-align: left\">Note:</td>\n",
      " <td colspan=\"3\" style=\"text-align: right\">\n",
      "  <sup>*</sup>p&lt;0.05;\n",
      "  <sup>**</sup>p&lt;0.01;\n",
      "  <sup>***</sup>p&lt;0.001\n",
      " </td></tr></table>\n"
     ]
    }
   ],
   "source": [
    "print(stargazerf.render_html())"
   ]
  },
  {
   "cell_type": "markdown",
   "metadata": {},
   "source": [
    "#### Numbers used in examples"
   ]
  },
  {
   "cell_type": "code",
   "execution_count": 84,
   "metadata": {},
   "outputs": [
    {
     "data": {
      "text/plain": [
       "-1.132695001448084"
      ]
     },
     "execution_count": 84,
     "metadata": {},
     "output_type": "execute_result"
    }
   ],
   "source": [
    "# z-score for the skill distance in the job pair example\n",
    "x, y = zip(*osvdedud)\n",
    "z_scores = np.array(x)\n",
    "(0.17 - z_scores.mean()) / z_scores.std()"
   ]
  },
  {
   "cell_type": "code",
   "execution_count": 91,
   "metadata": {},
   "outputs": [
    {
     "name": "stdout",
     "output_type": "stream",
     "text": [
      "0.031813181486705804 0.0483680062152289 0.05853625393553868 0.08899713143602118\n"
     ]
    }
   ],
   "source": [
    "# skill change of high and low education group\n",
    "hc = []\n",
    "lc = []\n",
    "for j in jtr:\n",
    "    if j in oe:\n",
    "        if oe[j]>=16:\n",
    "            hc.append(jtr[j])\n",
    "        else:\n",
    "            lc.append(jtr[j])\n",
    "# skill change, predicted educational cost\n",
    "print(np.mean(hc), np.mean(lc), np.mean(hc)*1.84, np.mean(lc)*1.84)"
   ]
  },
  {
   "cell_type": "code",
   "execution_count": 92,
   "metadata": {},
   "outputs": [
    {
     "name": "stdout",
     "output_type": "stream",
     "text": [
      "0.033671291974874645 0.0502329600805586 0.06195517723376935 0.09242864654822783\n"
     ]
    }
   ],
   "source": [
    "# high pay and low pay jobs' skill change\n",
    "hp=[]\n",
    "lp=[]\n",
    "plist = [x for x in list(op.values()) if math.isnan(x) == False]\n",
    "for j in jtr:\n",
    "    if j in op:\n",
    "        if op[j] >= np.quantile(plist, [0.75]):\n",
    "            hp.append(jtr[j])\n",
    "        elif op[j] < np.quantile(plist, [0.25]):\n",
    "            lp.append(jtr[j])\n",
    "print(np.mean(hp), np.mean(lp), np.mean(hp)*1.84, np.mean(lp)*1.84)"
   ]
  },
  {
   "cell_type": "code",
   "execution_count": 93,
   "metadata": {},
   "outputs": [
    {
     "data": {
      "text/plain": [
       "(246.6, 369.9)"
      ]
     },
     "execution_count": 93,
     "metadata": {},
     "output_type": "execute_result"
    }
   ],
   "source": [
    "# schooling cost from community college: https://educationdata.org/average-cost-of-community-college\n",
    "0.06*2055*2, 0.09*2055*2"
   ]
  },
  {
   "cell_type": "code",
   "execution_count": 94,
   "metadata": {},
   "outputs": [
    {
     "name": "stdout",
     "output_type": "stream",
     "text": [
      "0.08175450563430786 0.01701796054840088 0.15042829036712646 0.03131304740905762 618.2602734088897 128.6966248512268\n"
     ]
    }
   ],
   "source": [
    "# computer programmer and food batchmaker: skill change, predicted education change, predicted schooling cost\n",
    "print(jtr['Food Batchmakers'], jtr[\"Computer Programmers\"], jtr['Food Batchmakers']*1.84, jtr[\"Computer Programmers\"]*1.84, jtr['Food Batchmakers']*1.84*2055*2, jtr[\"Computer Programmers\"]*1.84*2055*2)"
   ]
  },
  {
   "cell_type": "markdown",
   "metadata": {},
   "source": [
    "### Extended Results: control for employer concentration"
   ]
  },
  {
   "cell_type": "code",
   "execution_count": 100,
   "metadata": {},
   "outputs": [],
   "source": [
    "# job-core skill\n",
    "def YearJobSkillFreq(filename):\n",
    "    dictyjas = defaultdict(lambda:defaultdict(lambda:defaultdict(lambda:0)))\n",
    "    with open('/Users/ditong/Dropbox (MIT)/skills/SkillPaper/revision/NHB/data/'+filename, 'r') as f:\n",
    "        for line in f:\n",
    "            line_lst = line.split(\"\\t\")\n",
    "            job = line_lst[0]\n",
    "            year = int(line_lst[1])\n",
    "            skills = line_lst[2:]\n",
    "            if year != 2019:\n",
    "                if len(skills) > 5:\n",
    "                    for skill_tfidf in skills:\n",
    "                        skill = skill_tfidf.split('_')[0].lower()\n",
    "                        tfidf = float(skill_tfidf.split('_')[1])\n",
    "                        dictyjas[year][job][skill] = tfidf\n",
    "                        \n",
    "    return dictyjas\n",
    "\n",
    "def JobYearDefSkill(dictyjas, quant):\n",
    "    dictjys = defaultdict(lambda:defaultdict(lambda:[]))\n",
    "    for year in dictyjas:\n",
    "        for job in dictyjas[year]:\n",
    "            threshold = np.quantile(list(dictyjas[year][job].values()), [quant])\n",
    "            for skill in dictyjas[year][job]:\n",
    "                if dictyjas[year][job][skill] > threshold:\n",
    "                    dictjys[job][year].append(skill)\n",
    "            if len(dictjys[job][year]) < 5:\n",
    "                del dictjys[job][year]\n",
    "\n",
    "    return dictjys\n",
    "\n",
    "lcllocyjas = YearJobSkillFreq('lclcz_occ_year_skill_freq.txt')\n",
    "lcllocjys = JobYearDefSkill(lcllocyjas, 0.95)\n",
    "\n",
    "lcslocyjas = YearJobSkillFreq('lcscz_occ_year_skill_freq.txt')\n",
    "lcslocjys = JobYearDefSkill(lcslocyjas, 0.95)\n",
    "\n",
    "scllocyjas = YearJobSkillFreq('sclcz_occ_year_skill_freq.txt')\n",
    "scllocjys = JobYearDefSkill(scllocyjas, 0.95)\n",
    "\n",
    "scslocyjas = YearJobSkillFreq('scscz_occ_year_skill_freq.txt')\n",
    "scslocjys = JobYearDefSkill(scslocyjas, 0.95)"
   ]
  },
  {
   "cell_type": "code",
   "execution_count": 101,
   "metadata": {},
   "outputs": [
    {
     "data": {
      "text/plain": [
       "(829, 822, 816, 781)"
      ]
     },
     "execution_count": 101,
     "metadata": {},
     "output_type": "execute_result"
    }
   ],
   "source": [
    "len(lcllocjys), len(lcslocjys), len(scllocjys), len(scslocjys)"
   ]
  },
  {
   "cell_type": "code",
   "execution_count": 102,
   "metadata": {},
   "outputs": [],
   "source": [
    "# key independent variable: skill number\n",
    "def JobNSkill(dictjys):\n",
    "    dictosn = {}\n",
    "    for job in dictjys:\n",
    "        snlst = []\n",
    "        for yr in dictjys[job]:\n",
    "            if len(dictjys[job][yr]) != 0:\n",
    "                snlst.append(len(dictjys[job][yr]))\n",
    "        if snlst:\n",
    "            dictosn[job] = round(np.mean(snlst)) # np.log(round(np.mean(snlst)))\n",
    "    dictosn = dict(sorted(dictosn.items(), key=operator.itemgetter(1),reverse=True))\n",
    "    \n",
    "    return dictosn\n",
    "\n",
    "lcllocosn = JobNSkill(lcllocjys)\n",
    "lcslocosn = JobNSkill(lcslocjys)\n",
    "scllocosn = JobNSkill(scllocjys)\n",
    "scslocosn = JobNSkill(scslocjys)"
   ]
  },
  {
   "cell_type": "code",
   "execution_count": 157,
   "metadata": {},
   "outputs": [],
   "source": [
    "# key depedent variable: job skill change\n",
    "def JobChange(dictjys, method, perc):\n",
    "    \n",
    "    if method == \"average\":\n",
    "        \n",
    "        dictjyv=defaultdict(lambda:defaultdict(lambda:''))\n",
    "        for j in dictjys:\n",
    "            for y in dictjys[j]:\n",
    "                dictjyv[j][y] = np.mean([model.wv[s] for s in dictjys[j][y] if s in model.wv], axis=0)\n",
    "\n",
    "        dictjtr = {}\n",
    "        for j in dictjyv:\n",
    "            if 2010 in dictjyv[j] and 2018 in dictjyv[j]:\n",
    "                if j in jyn:\n",
    "                    if jyn[j][2010] > 100 and jyn[j][2018] > 100:\n",
    "                        jtrrr = np.dot(dictjyv[j][2018], dictjyv[j][2010]\n",
    "                                      )/(np.linalg.norm(dictjyv[j][2018])* np.linalg.norm(dictjyv[j][2010]))\n",
    "                        if type(jtrrr) == np.float32:\n",
    "                            dictjtr[j] = 1 - jtrrr\n",
    "\n",
    "        dictjtr = dict(sorted(dictjtr.items(), key=operator.itemgetter(1)))\n",
    "    \n",
    "    if method == \"max\":\n",
    "        jsd=GetNearestSkill(dictjys, model)\n",
    "        dictjtr = PickMaxDistance(perc, jsd)\n",
    "    \n",
    "    if method == \"avgmax\":\n",
    "        jsd=GetNearestSkill(dictjys, model)\n",
    "        dictjtr = AvgMaxDistance(perc, jsd)\n",
    "    \n",
    "    return dictjtr"
   ]
  },
  {
   "cell_type": "code",
   "execution_count": null,
   "metadata": {},
   "outputs": [],
   "source": [
    "lcllocjtr = JobChange(lcllocjys, \"average\", None)\n",
    "lcslocjtr = JobChange(lcslocjys, \"average\", None)\n",
    "scllocjtr = JobChange(scllocjys, \"average\", None)\n",
    "scslocjtr = JobChange(scslocjys, \"average\", None)"
   ]
  },
  {
   "cell_type": "code",
   "execution_count": 104,
   "metadata": {},
   "outputs": [
    {
     "data": {
      "text/plain": [
       "329"
      ]
     },
     "execution_count": 104,
     "metadata": {},
     "output_type": "execute_result"
    }
   ],
   "source": [
    "# occupations that appear in all 4 datasets\n",
    "commonj=list(set(lcllocjtr.keys()).intersection(set(lcslocjtr)).intersection(set(scllocjtr)).intersection(set(scslocjtr)))\n",
    "len(commonj)"
   ]
  },
  {
   "cell_type": "code",
   "execution_count": 105,
   "metadata": {},
   "outputs": [],
   "source": [
    "# key control: employer concentration\n",
    "Lloc_OCCYEC=defaultdict(lambda:[])\n",
    "with open('/Users/ditong/Dropbox (MIT)/skills/SkillPaper/revision/NHB/data/LLOCyear_occ_empcon.txt', 'r') as f1:\n",
    "    for line in f1:\n",
    "        line_lst = line.split('\\t')\n",
    "        yr = int(line_lst[0])\n",
    "        occ = line_lst[1]\n",
    "        ec = float(line_lst[2])\n",
    "        if not np.isnan(ec):\n",
    "            Lloc_OCCYEC[occ].append(ec)\n",
    "            \n",
    "Lloc_OCCEC=defaultdict(lambda:0)\n",
    "for occ in Lloc_OCCYEC:\n",
    "    Lloc_OCCEC[occ] = np.mean(Lloc_OCCYEC[occ])\n",
    "\n",
    "Sloc_OCCYEC=defaultdict(lambda:[])\n",
    "with open('/Users/ditong/Dropbox (MIT)/skills/SkillPaper/revision/NHB/data/SLOCyear_occ_empcon.txt', 'r') as f1:\n",
    "    for line in f1:\n",
    "        line_lst = line.split('\\t')\n",
    "        yr = int(line_lst[0])\n",
    "        occ = line_lst[1]\n",
    "        ec = float(line_lst[2])\n",
    "        if not np.isnan(ec):\n",
    "            Sloc_OCCYEC[occ].append(ec)\n",
    "            \n",
    "Sloc_OCCEC=defaultdict(lambda:0)\n",
    "for occ in Sloc_OCCYEC:\n",
    "    Sloc_OCCEC[occ] = np.mean(Sloc_OCCYEC[occ])"
   ]
  },
  {
   "cell_type": "code",
   "execution_count": 106,
   "metadata": {},
   "outputs": [],
   "source": [
    "# put variables in a dataframe\n",
    "reg_df=pd.DataFrame(columns = ['Occupation', 'SkillChange', 'LogSkillN', 'LogSkillNAll', 'Education', 'LogPay', 'LargeEmployer',\n",
    "                'LargeMarket','EmployerConcentration', 'LargeEmployer_LogSkillN', 'LargeMarket_LogSkillN',\n",
    "                               'LargeEmployer_LogSkillNAll', 'LargeMarket_LogSkillNAll',\n",
    "                    'LargeEmployer_LogPay', 'LargeMarket_LogPay', 'LargeEmployer_Education', 'LargeMarket_Education'])\n",
    "\n",
    "for j in lcllocjtr:\n",
    "    if j in lcllocosn and j in oe and j in op and j in Lloc_OCCEC: #and j in commonj:\n",
    "        reg_df=reg_df.append({'Occupation': j, 'SkillChange': lcllocjtr[j], 'LogSkillN': np.log(lcllocosn[j]), \n",
    "    'LogSkillNAll': np.log(osn[j]), 'Education': oe[j], 'LogPay': np.log(op[j]), 'LargeEmployer': 1, 'LargeMarket': 1,\n",
    "    'EmployerConcentration': np.log(Lloc_OCCEC[j]), 'LargeEmployer_LogSkillN': 1*np.log(lcllocosn[j]), \n",
    "    'LargeMarket_LogSkillN': 1*np.log(lcllocosn[j]),'LargeEmployer_LogSkillNAll': 1*np.log(osn[j]), \n",
    "    'LargeMarket_LogSkillNAll': 1*np.log(osn[j]),'LargeEmployer_LogPay':1*np.log(op[j]), 'LargeMarket_LogPay': 1*np.log(op[j]), \n",
    "                'LargeEmployer_Education': 1*oe[j], 'LargeMarket_Education': 1*oe[j]}, ignore_index = True)\n",
    "\n",
    "for j in  lcslocjtr:\n",
    "    if j in lcslocosn and j in oe and j in op and j in Sloc_OCCEC: # and j in commonj:\n",
    "        reg_df=reg_df.append({'Occupation': j,'SkillChange':  lcslocjtr[j], 'LogSkillN': np.log(lcslocosn[j]), \n",
    "                              'LogSkillNAll': np.log(osn[j]),\n",
    "    'Education': oe[j], 'LogPay': np.log(op[j]), 'LargeEmployer': 1, 'LargeMarket': 0,'EmployerConcentration': np.log(Sloc_OCCEC[j]), \n",
    "                'LargeEmployer_LogSkillN': 1*np.log(lcslocosn[j]), 'LargeMarket_LogSkillN': 0*np.log(lcslocosn[j]),\n",
    "                'LargeEmployer_LogSkillNAll': 1*np.log(osn[j]), 'LargeMarket_LogSkillNAll': 0*np.log(osn[j]),\n",
    "                'LargeEmployer_LogPay':1*np.log(op[j]), 'LargeMarket_LogPay': 0*np.log(op[j]), \n",
    "                'LargeEmployer_Education': 1*oe[j], 'LargeMarket_Education': 0*oe[j]}, ignore_index = True)\n",
    "        \n",
    "for j in scllocjtr:\n",
    "    if j in scllocosn and j in oe and j in op and j in Lloc_OCCEC: # and j in commonj:\n",
    "        reg_df=reg_df.append({'Occupation': j, 'SkillChange':scllocjtr[j], 'LogSkillN': np.log(scllocosn[j]), \n",
    "                              'LogSkillNAll': np.log(osn[j]), \n",
    "    'Education': oe[j], 'LogPay': np.log(op[j]), 'LargeEmployer': 0, 'LargeMarket': 1,'EmployerConcentration': np.log(Lloc_OCCEC[j]), \n",
    "                'LargeEmployer_LogSkillN': 0*np.log(scllocosn[j]), 'LargeMarket_LogSkillN': 1*np.log(scllocosn[j]),\n",
    "                'LargeEmployer_LogSkillNAll': 0*np.log(osn[j]), 'LargeMarket_LogSkillNAll': 1*np.log(osn[j]),\n",
    "                'LargeEmployer_LogPay':0*np.log(op[j]), 'LargeMarket_LogPay': 1*np.log(op[j]), \n",
    "                'LargeEmployer_Education': 0*oe[j], 'LargeMarket_Education': 1*oe[j]}, ignore_index = True)\n",
    "        \n",
    "for j in scslocjtr:\n",
    "    if j in scslocosn and j in oe and j in op and j in Sloc_OCCEC: # and j in commonj:\n",
    "        reg_df=reg_df.append({'Occupation': j, 'SkillChange': scslocjtr[j], 'LogSkillN': np.log(scslocosn[j]), \n",
    "                              'LogSkillNAll': np.log(osn[j]),\n",
    "    'Education': oe[j], 'LogPay': np.log(op[j]), 'LargeEmployer': 0, 'LargeMarket': 0,'EmployerConcentration': np.log(Sloc_OCCEC[j]), \n",
    "                'LargeEmployer_LogSkillN': 0*np.log(scslocosn[j]), 'LargeMarket_LogSkillN': 0*np.log(scslocosn[j]),\n",
    "                'LargeEmployer_LogSkillNAll': 0*np.log(osn[j]), 'LargeMarket_LogSkillNAll': 0*np.log(osn[j]),\n",
    "                'LargeEmployer_LogPay':0*np.log(op[j]), 'LargeMarket_LogPay': 0*np.log(op[j]), \n",
    "                'LargeEmployer_Education': 0*oe[j], 'LargeMarket_Education': 0*oe[j]}, ignore_index = True)\n",
    "#reg_df = reg_df.set_index(['Occupation'])"
   ]
  },
  {
   "cell_type": "code",
   "execution_count": 107,
   "metadata": {},
   "outputs": [
    {
     "data": {
      "text/plain": [
       "(array([  2.,   6.,  44.,  64., 124., 155., 204., 231., 490., 632.]),\n",
       " array([-5.4836991 , -4.94185041, -4.40000171, -3.85815302, -3.31630432,\n",
       "        -2.77445563, -2.23260693, -1.69075823, -1.14890954, -0.60706084,\n",
       "        -0.06521215]),\n",
       " <BarContainer object of 10 artists>)"
      ]
     },
     "execution_count": 107,
     "metadata": {},
     "output_type": "execute_result"
    },
    {
     "data": {
      "image/png": "[encoded data removed]",
      "text/plain": [
       "<Figure size 432x288 with 1 Axes>"
      ]
     },
     "metadata": {
      "needs_background": "light"
     },
     "output_type": "display_data"
    }
   ],
   "source": [
    "plt.hist(reg_df['EmployerConcentration'])"
   ]
  },
  {
   "cell_type": "code",
   "execution_count": 111,
   "metadata": {},
   "outputs": [
    {
     "data": {
      "text/html": [
       "Explaining Job Skill Change Variation with Skill Complexity<br><table style=\"text-align:center\"><tr><td colspan=\"7\" style=\"border-bottom: 1px solid black\"></td></tr><tr><td style=\"text-align:left\"></td><td colspan=\"6\"><em>Dependent variable:SkillChange</em></td></tr><tr><td style=\"text-align:left\"></td><tr><td></td><td colspan=\"1\">Model 1</td><td colspan=\"1\">Model 2</td><td colspan=\"1\">Model 3</td><td colspan=\"1\">Model 4</td><td colspan=\"1\">Model 5</td><td colspan=\"1\">Model 6</td></tr><tr><td colspan=\"7\" style=\"border-bottom: 1px solid black\"></td></tr><tr><td style=\"text-align:left\">Skill Complexity</td><td>-0.048<sup>***</sup></td><td></td><td></td><td>-0.042<sup>***</sup></td><td></td><td></td></tr><tr><td style=\"text-align:left\"></td><td>(0.002)</td><td></td><td></td><td>(0.002)</td><td></td><td></td></tr><tr><td style=\"text-align:left\">Log Annual Pay</td><td></td><td>-0.030<sup>***</sup></td><td></td><td></td><td>-0.026<sup>***</sup></td><td></td></tr><tr><td style=\"text-align:left\"></td><td></td><td>(0.004)</td><td></td><td></td><td>(0.003)</td><td></td></tr><tr><td style=\"text-align:left\">Education</td><td></td><td></td><td>-0.005<sup>***</sup></td><td></td><td></td><td>-0.005<sup>***</sup></td></tr><tr><td style=\"text-align:left\"></td><td></td><td></td><td>(0.001)</td><td></td><td></td><td>(0.001)</td></tr><tr><td style=\"text-align:left\">Log Emp. Concentr.</td><td></td><td></td><td></td><td>0.009<sup>***</sup></td><td>0.024<sup>***</sup></td><td>0.024<sup>***</sup></td></tr><tr><td style=\"text-align:left\"></td><td></td><td></td><td></td><td>(0.001)</td><td>(0.001)</td><td>(0.001)</td></tr><td colspan=\"7\" style=\"border-bottom: 1px solid black\"></td></tr><tr><td style=\"text-align: left\">Observations</td><td>1,952</td><td>1,952</td><td>1,952</td><td>1,952</td><td>1,952</td><td>1,952</td></tr><tr><td style=\"text-align: left\">R<sup>2</sup></td><td>0.338</td><td>0.034</td><td>0.027</td><td>0.354</td><td>0.191</td><td>0.192</td></tr><tr><td style=\"text-align: left\">Adjusted R<sup>2</sup></td><td>0.338</td><td>0.033</td><td>0.026</td><td>0.353</td><td>0.191</td><td>0.191</td></tr><tr><td style=\"text-align: left\">Residual Std. Error</td><td>0.051 (df=1950)</td><td>0.061 (df=1950)</td><td>0.062 (df=1950)</td><td>0.050 (df=1949)</td><td>0.056 (df=1949)</td><td>0.056 (df=1949)</td></tr><tr><td style=\"text-align: left\">F Statistic</td><td>995.353<sup>***</sup> (df=1; 1950)</td><td>68.536<sup>***</sup> (df=1; 1950)</td><td>53.888<sup>***</sup> (df=1; 1950)</td><td>534.334<sup>***</sup> (df=2; 1949)</td><td>230.672<sup>***</sup> (df=2; 1949)</td><td>231.933<sup>***</sup> (df=2; 1949)</td></tr><tr><td colspan=\"7\" style=\"border-bottom: 1px solid black\"></td></tr><tr><td style=\"text-align: left\">Note:</td>\n",
       " <td colspan=\"6\" style=\"text-align: right\">\n",
       "  <sup>*</sup>p&lt;0.05;\n",
       "  <sup>**</sup>p&lt;0.01;\n",
       "  <sup>***</sup>p&lt;0.001\n",
       " </td></tr><tr><td></td><td colspan=\"6\" style=\"text-align: right\">Log Emp. Concentr. refers to the natural log of HHI (employer concentration).</td></tr></table>"
      ],
      "text/plain": [
       "<stargazer.stargazer.Stargazer at 0x17f7ddbeca0>"
      ]
     },
     "execution_count": 111,
     "metadata": {},
     "output_type": "execute_result"
    }
   ],
   "source": [
    "mod1 = smf.ols('SkillChange ~ LogSkillNAll', data=reg_df)\n",
    "res1 = mod1.fit()\n",
    "\n",
    "mod2= smf.ols('SkillChange ~ Education', data=reg_df)\n",
    "res2 = mod2.fit()\n",
    "\n",
    "mod3= smf.ols('SkillChange ~ LogPay', data=reg_df)\n",
    "res3 = mod3.fit()\n",
    "\n",
    "mod5= smf.ols('SkillChange ~ LogSkillNAll + EmployerConcentration', data=reg_df)\n",
    "res5 = mod5.fit()\n",
    "\n",
    "mod6= smf.ols('SkillChange ~ Education + EmployerConcentration', data=reg_df)\n",
    "res6 = mod6.fit()\n",
    "\n",
    "mod7= smf.ols('SkillChange ~ LogPay + EmployerConcentration', data=reg_df)\n",
    "res7 = mod7.fit()\n",
    "\n",
    "stargazer = Stargazer([res1, res3, res2, res5, res7, res6])\n",
    "\n",
    "stargazer.title('Explaining Job Skill Change Variation with Skill Complexity')\n",
    "stargazer.custom_columns(['Model 1', 'Model 2', 'Model 3', 'Model 4', 'Model 5', 'Model 6'], [1, 1, 1, 1, 1, 1])\n",
    "stargazer.show_model_numbers(False)\n",
    "stargazer.covariate_order(['LogSkillNAll', 'LogPay', 'Education', 'EmployerConcentration'])\n",
    "\n",
    "stargazer.rename_covariates({'LogSkillNAll': 'Skill Complexity', 'LogPay': 'Log Annual Pay', \n",
    "    'Education': 'Education', 'EmployerConcentration': 'Log Emp. Concentr.'})\n",
    "stargazer.significance_levels([0.05, 0.01, 0.001])\n",
    "stargazer.add_custom_notes(['Log Emp. Concentr. refers to the natural log of HHI (employer concentration).'])\n",
    "stargazer"
   ]
  },
  {
   "cell_type": "code",
   "execution_count": 112,
   "metadata": {},
   "outputs": [
    {
     "name": "stdout",
     "output_type": "stream",
     "text": [
      "\\begin{table}[!htbp] \\centering\n",
      "  \\caption{Explaining Job Skill Change Variation with Skill Complexity}\n",
      "\\begin{tabular}{@{\\extracolsep{5pt}}lcccccc}\n",
      "\\\\[-1.8ex]\\hline\n",
      "\\hline \\\\[-1.8ex]\n",
      "& \\multicolumn{6}{c}{\\textit{Dependent variable:}} \\\n",
      "\\cr \\cline{6-7}\n",
      "\\\\[-1.8ex] & \\multicolumn{1}{c}{Model 1} & \\multicolumn{1}{c}{Model 2} & \\multicolumn{1}{c}{Model 3} & \\multicolumn{1}{c}{Model 4} & \\multicolumn{1}{c}{Model 5} & \\multicolumn{1}{c}{Model 6}  \\\\\n",
      "\\hline \\\\[-1.8ex]\n",
      " Skill Complexity & -0.048$^{***}$ & & & -0.042$^{***}$ & & \\\\\n",
      "  & (0.002) & & & (0.002) & & \\\\\n",
      " Log Annual Pay & & -0.030$^{***}$ & & & -0.026$^{***}$ & \\\\\n",
      "  & & (0.004) & & & (0.003) & \\\\\n",
      " Education & & & -0.005$^{***}$ & & & -0.005$^{***}$ \\\\\n",
      "  & & & (0.001) & & & (0.001) \\\\\n",
      " Log Emp. Concentr. & & & & 0.009$^{***}$ & 0.024$^{***}$ & 0.024$^{***}$ \\\\\n",
      "  & & & & (0.001) & (0.001) & (0.001) \\\\\n",
      "\\hline \\\\[-1.8ex]\n",
      " Observations & 1,952 & 1,952 & 1,952 & 1,952 & 1,952 & 1,952 \\\\\n",
      " $R^2$ & 0.338 & 0.034 & 0.027 & 0.354 & 0.191 & 0.192 \\\\\n",
      " Adjusted $R^2$ & 0.338 & 0.033 & 0.026 & 0.353 & 0.191 & 0.191 \\\\\n",
      " Residual Std. Error & 0.051(df = 1950) & 0.061(df = 1950) & 0.062(df = 1950) & 0.050(df = 1949) & 0.056(df = 1949) & 0.056(df = 1949)  \\\\\n",
      " F Statistic & 995.353$^{***}$ (df = 1.0; 1950.0) & 68.536$^{***}$ (df = 1.0; 1950.0) & 53.888$^{***}$ (df = 1.0; 1950.0) & 534.334$^{***}$ (df = 2.0; 1949.0) & 230.672$^{***}$ (df = 2.0; 1949.0) & 231.933$^{***}$ (df = 2.0; 1949.0) \\\\\n",
      "\\hline\n",
      "\\hline \\\\[-1.8ex]\n",
      "\\textit{Note:} & \\multicolumn{6}{r}{$^{*}$p$<$0.05; $^{**}$p$<$0.01; $^{***}$p$<$0.001} \\\\\n",
      " & \\multicolumn{6}{r}\\textit{Log Emp. Concentr. refers to the natural log of HHI (employer concentration).} \\\\\n",
      "\\end{tabular}\n",
      "\\end{table}\n"
     ]
    }
   ],
   "source": [
    "print(stargazer.render_latex())"
   ]
  },
  {
   "cell_type": "code",
   "execution_count": 113,
   "metadata": {},
   "outputs": [
    {
     "name": "stdout",
     "output_type": "stream",
     "text": [
      "Explaining Job Skill Change Variation with Skill Complexity<br><table style=\"text-align:center\"><tr><td colspan=\"7\" style=\"border-bottom: 1px solid black\"></td></tr><tr><td style=\"text-align:left\"></td><td colspan=\"6\"><em>Dependent variable:SkillChange</em></td></tr><tr><td style=\"text-align:left\"></td><tr><td></td><td colspan=\"1\">Model 1</td><td colspan=\"1\">Model 2</td><td colspan=\"1\">Model 3</td><td colspan=\"1\">Model 4</td><td colspan=\"1\">Model 5</td><td colspan=\"1\">Model 6</td></tr><tr><td colspan=\"7\" style=\"border-bottom: 1px solid black\"></td></tr><tr><td style=\"text-align:left\">Skill Complexity</td><td>-0.048<sup>***</sup></td><td></td><td></td><td>-0.042<sup>***</sup></td><td></td><td></td></tr><tr><td style=\"text-align:left\"></td><td>(0.002)</td><td></td><td></td><td>(0.002)</td><td></td><td></td></tr><tr><td style=\"text-align:left\">Log Annual Pay</td><td></td><td>-0.030<sup>***</sup></td><td></td><td></td><td>-0.026<sup>***</sup></td><td></td></tr><tr><td style=\"text-align:left\"></td><td></td><td>(0.004)</td><td></td><td></td><td>(0.003)</td><td></td></tr><tr><td style=\"text-align:left\">Education</td><td></td><td></td><td>-0.005<sup>***</sup></td><td></td><td></td><td>-0.005<sup>***</sup></td></tr><tr><td style=\"text-align:left\"></td><td></td><td></td><td>(0.001)</td><td></td><td></td><td>(0.001)</td></tr><tr><td style=\"text-align:left\">Log Emp. Concentr.</td><td></td><td></td><td></td><td>0.009<sup>***</sup></td><td>0.024<sup>***</sup></td><td>0.024<sup>***</sup></td></tr><tr><td style=\"text-align:left\"></td><td></td><td></td><td></td><td>(0.001)</td><td>(0.001)</td><td>(0.001)</td></tr><td colspan=\"7\" style=\"border-bottom: 1px solid black\"></td></tr><tr><td style=\"text-align: left\">Observations</td><td>1,952</td><td>1,952</td><td>1,952</td><td>1,952</td><td>1,952</td><td>1,952</td></tr><tr><td style=\"text-align: left\">R<sup>2</sup></td><td>0.338</td><td>0.034</td><td>0.027</td><td>0.354</td><td>0.191</td><td>0.192</td></tr><tr><td style=\"text-align: left\">Adjusted R<sup>2</sup></td><td>0.338</td><td>0.033</td><td>0.026</td><td>0.353</td><td>0.191</td><td>0.191</td></tr><tr><td style=\"text-align: left\">Residual Std. Error</td><td>0.051 (df=1950)</td><td>0.061 (df=1950)</td><td>0.062 (df=1950)</td><td>0.050 (df=1949)</td><td>0.056 (df=1949)</td><td>0.056 (df=1949)</td></tr><tr><td style=\"text-align: left\">F Statistic</td><td>995.353<sup>***</sup> (df=1; 1950)</td><td>68.536<sup>***</sup> (df=1; 1950)</td><td>53.888<sup>***</sup> (df=1; 1950)</td><td>534.334<sup>***</sup> (df=2; 1949)</td><td>230.672<sup>***</sup> (df=2; 1949)</td><td>231.933<sup>***</sup> (df=2; 1949)</td></tr><tr><td colspan=\"7\" style=\"border-bottom: 1px solid black\"></td></tr><tr><td style=\"text-align: left\">Note:</td>\n",
      " <td colspan=\"6\" style=\"text-align: right\">\n",
      "  <sup>*</sup>p&lt;0.05;\n",
      "  <sup>**</sup>p&lt;0.01;\n",
      "  <sup>***</sup>p&lt;0.001\n",
      " </td></tr><tr><td></td><td colspan=\"6\" style=\"text-align: right\">Log Emp. Concentr. refers to the natural log of HHI (employer concentration).</td></tr></table>\n"
     ]
    }
   ],
   "source": [
    "print(stargazer.render_html())"
   ]
  },
  {
   "cell_type": "code",
   "execution_count": 138,
   "metadata": {},
   "outputs": [
    {
     "data": {
      "text/html": [
       "Explaining Job Skill Change Variation with Employer and Market size<br><table style=\"text-align:center\"><tr><td colspan=\"4\" style=\"border-bottom: 1px solid black\"></td></tr><tr><td style=\"text-align:left\"></td><td colspan=\"3\"><em>Dependent variable:SkillChange</em></td></tr><tr><td style=\"text-align:left\"></td><tr><td></td><td colspan=\"1\">Model 1</td><td colspan=\"1\">Model 2</td><td colspan=\"1\">Model 3</td></tr><tr><td colspan=\"4\" style=\"border-bottom: 1px solid black\"></td></tr><tr><td style=\"text-align:left\">Large Employer</td><td>-0.024<sup>***</sup></td><td></td><td>-0.027<sup>***</sup></td></tr><tr><td style=\"text-align:left\"></td><td>(0.002)</td><td></td><td>(0.002)</td></tr><tr><td style=\"text-align:left\">Large Market</td><td></td><td>-0.019<sup>***</sup></td><td>-0.046<sup>***</sup></td></tr><tr><td style=\"text-align:left\"></td><td></td><td>(0.002)</td><td>(0.004)</td></tr><tr><td style=\"text-align:left\">Log Emp. Concentr.</td><td></td><td></td><td>-0.016<sup>***</sup></td></tr><tr><td style=\"text-align:left\"></td><td></td><td></td><td>(0.002)</td></tr><tr><td style=\"text-align: left\">Occ. FE</td><td>Yes</td><td>Yes</td><td>Yes</td></tr><td colspan=\"4\" style=\"border-bottom: 1px solid black\"></td></tr><tr><td style=\"text-align: left\">Observations</td><td>1,952</td><td>1,952</td><td>1,952</td></tr><tr><td style=\"text-align: left\">R<sup>2</sup></td><td>0.730</td><td>0.719</td><td>0.763</td></tr><tr><td style=\"text-align: left\">Adjusted R<sup>2</sup></td><td>0.599</td><td>0.583</td><td>0.647</td></tr><tr><td style=\"text-align: left\">Residual Std. Error</td><td>0.040 (df=1313)</td><td>0.040 (df=1313)</td><td>0.037 (df=1311)</td></tr><tr><td style=\"text-align: left\">F Statistic</td><td>5.569<sup>***</sup> (df=638; 1313)</td><td>5.276<sup>***</sup> (df=638; 1313)</td><td>6.588<sup>***</sup> (df=640; 1311)</td></tr><tr><td colspan=\"4\" style=\"border-bottom: 1px solid black\"></td></tr><tr><td style=\"text-align: left\">Note:</td>\n",
       " <td colspan=\"3\" style=\"text-align: right\">\n",
       "  <sup>*</sup>p&lt;0.05;\n",
       "  <sup>**</sup>p&lt;0.01;\n",
       "  <sup>***</sup>p&lt;0.001\n",
       " </td></tr><tr><td></td><td colspan=\"3\" style=\"text-align: right\">Log Emp. Concentr. refers to the natural log of HHI (employer concentration).</td></tr></table>"
      ],
      "text/plain": [
       "<stargazer.stargazer.Stargazer at 0x17f78fcc4c0>"
      ]
     },
     "execution_count": 138,
     "metadata": {},
     "output_type": "execute_result"
    }
   ],
   "source": [
    "resf1 =  smf.ols(\"SkillChange ~ LargeEmployer + C(Occupation)\", data=reg_df).fit()\n",
    "resf2 =  smf.ols(\"SkillChange ~ LargeMarket + C(Occupation)\", data=reg_df).fit()\n",
    "resf3 =  smf.ols(\"SkillChange ~ LargeEmployer + LargeMarket + C(Occupation)+ EmployerConcentration\", data=reg_df).fit()\n",
    "\n",
    "stargazerf = Stargazer([resf1, resf2, resf3])\n",
    "\n",
    "stargazerf.title('Explaining Job Skill Change Variation with Employer and Market size')\n",
    "stargazerf.custom_columns(['Model 1', 'Model 2', 'Model 3'], [1, 1, 1])\n",
    "stargazerf.show_model_numbers(False)\n",
    "stargazerf.covariate_order(['LargeEmployer[T.1]', 'LargeMarket[T.1]','EmployerConcentration'])\n",
    "stargazerf.rename_covariates({'LargeEmployer[T.1]': 'Large Employer', 'LargeMarket[T.1]': 'Large Market', \n",
    "                             'EmployerConcentration': 'Log Emp. Concentr.'})\n",
    "stargazerf.significance_levels([0.05, 0.01, 0.001])\n",
    "stargazerf.add_line('Occ. FE', ['Yes', 'Yes', 'Yes'])\n",
    "stargazerf.add_custom_notes(['Log Emp. Concentr. refers to the natural log of HHI (employer concentration).'])\n",
    "stargazerf"
   ]
  },
  {
   "cell_type": "code",
   "execution_count": 139,
   "metadata": {},
   "outputs": [
    {
     "name": "stdout",
     "output_type": "stream",
     "text": [
      "\\begin{table}[!htbp] \\centering\n",
      "  \\caption{Explaining Job Skill Change Variation with Employer and Market size}\n",
      "\\begin{tabular}{@{\\extracolsep{5pt}}lccc}\n",
      "\\\\[-1.8ex]\\hline\n",
      "\\hline \\\\[-1.8ex]\n",
      "& \\multicolumn{3}{c}{\\textit{Dependent variable:}} \\\n",
      "\\cr \\cline{3-4}\n",
      "\\\\[-1.8ex] & \\multicolumn{1}{c}{Model 1} & \\multicolumn{1}{c}{Model 2} & \\multicolumn{1}{c}{Model 3}  \\\\\n",
      "\\hline \\\\[-1.8ex]\n",
      " Large Employer & -0.024$^{***}$ & & -0.027$^{***}$ \\\\\n",
      "  & (0.002) & & (0.002) \\\\\n",
      " Large Market & & -0.019$^{***}$ & -0.046$^{***}$ \\\\\n",
      "  & & (0.002) & (0.004) \\\\\n",
      " Log Emp. Concentr. & & & -0.016$^{***}$ \\\\\n",
      "  & & & (0.002) \\\\\n",
      " Occ. FE & Yes & Yes & Yes \\\\\n",
      "\\hline \\\\[-1.8ex]\n",
      " Observations & 1,952 & 1,952 & 1,952 \\\\\n",
      " $R^2$ & 0.730 & 0.719 & 0.763 \\\\\n",
      " Adjusted $R^2$ & 0.599 & 0.583 & 0.647 \\\\\n",
      " Residual Std. Error & 0.040(df = 1313) & 0.040(df = 1313) & 0.037(df = 1311)  \\\\\n",
      " F Statistic & 5.569$^{***}$ (df = 638.0; 1313.0) & 5.276$^{***}$ (df = 638.0; 1313.0) & 6.588$^{***}$ (df = 640.0; 1311.0) \\\\\n",
      "\\hline\n",
      "\\hline \\\\[-1.8ex]\n",
      "\\textit{Note:} & \\multicolumn{3}{r}{$^{*}$p$<$0.05; $^{**}$p$<$0.01; $^{***}$p$<$0.001} \\\\\n",
      " & \\multicolumn{3}{r}\\textit{Log Emp. Concentr. refers to the natural log of HHI (employer concentration).} \\\\\n",
      "\\end{tabular}\n",
      "\\end{table}\n"
     ]
    }
   ],
   "source": [
    "print(stargazerf.render_latex())"
   ]
  },
  {
   "cell_type": "code",
   "execution_count": 140,
   "metadata": {},
   "outputs": [
    {
     "name": "stdout",
     "output_type": "stream",
     "text": [
      "Explaining Job Skill Change Variation with Employer and Market size<br><table style=\"text-align:center\"><tr><td colspan=\"4\" style=\"border-bottom: 1px solid black\"></td></tr><tr><td style=\"text-align:left\"></td><td colspan=\"3\"><em>Dependent variable:SkillChange</em></td></tr><tr><td style=\"text-align:left\"></td><tr><td></td><td colspan=\"1\">Model 1</td><td colspan=\"1\">Model 2</td><td colspan=\"1\">Model 3</td></tr><tr><td colspan=\"4\" style=\"border-bottom: 1px solid black\"></td></tr><tr><td style=\"text-align:left\">Large Employer</td><td>-0.024<sup>***</sup></td><td></td><td>-0.027<sup>***</sup></td></tr><tr><td style=\"text-align:left\"></td><td>(0.002)</td><td></td><td>(0.002)</td></tr><tr><td style=\"text-align:left\">Large Market</td><td></td><td>-0.019<sup>***</sup></td><td>-0.046<sup>***</sup></td></tr><tr><td style=\"text-align:left\"></td><td></td><td>(0.002)</td><td>(0.004)</td></tr><tr><td style=\"text-align:left\">Log Emp. Concentr.</td><td></td><td></td><td>-0.016<sup>***</sup></td></tr><tr><td style=\"text-align:left\"></td><td></td><td></td><td>(0.002)</td></tr><tr><td style=\"text-align: left\">Occ. FE</td><td>Yes</td><td>Yes</td><td>Yes</td></tr><td colspan=\"4\" style=\"border-bottom: 1px solid black\"></td></tr><tr><td style=\"text-align: left\">Observations</td><td>1,952</td><td>1,952</td><td>1,952</td></tr><tr><td style=\"text-align: left\">R<sup>2</sup></td><td>0.730</td><td>0.719</td><td>0.763</td></tr><tr><td style=\"text-align: left\">Adjusted R<sup>2</sup></td><td>0.599</td><td>0.583</td><td>0.647</td></tr><tr><td style=\"text-align: left\">Residual Std. Error</td><td>0.040 (df=1313)</td><td>0.040 (df=1313)</td><td>0.037 (df=1311)</td></tr><tr><td style=\"text-align: left\">F Statistic</td><td>5.569<sup>***</sup> (df=638; 1313)</td><td>5.276<sup>***</sup> (df=638; 1313)</td><td>6.588<sup>***</sup> (df=640; 1311)</td></tr><tr><td colspan=\"4\" style=\"border-bottom: 1px solid black\"></td></tr><tr><td style=\"text-align: left\">Note:</td>\n",
      " <td colspan=\"3\" style=\"text-align: right\">\n",
      "  <sup>*</sup>p&lt;0.05;\n",
      "  <sup>**</sup>p&lt;0.01;\n",
      "  <sup>***</sup>p&lt;0.001\n",
      " </td></tr><tr><td></td><td colspan=\"3\" style=\"text-align: right\">Log Emp. Concentr. refers to the natural log of HHI (employer concentration).</td></tr></table>\n"
     ]
    }
   ],
   "source": [
    "print(stargazerf.render_html())"
   ]
  },
  {
   "cell_type": "markdown",
   "metadata": {},
   "source": [
    "### Extended Results: different job content scope with skill weights"
   ]
  },
  {
   "cell_type": "code",
   "execution_count": 117,
   "metadata": {},
   "outputs": [],
   "source": [
    "# weights for each skill for each job\n",
    "jysw=defaultdict(lambda:defaultdict(lambda:defaultdict(lambda:0)))\n",
    "for yr in yjas:\n",
    "    for j in yjas[yr]:\n",
    "        freqsum=np.sum(list(yjas[yr][j].values()))\n",
    "        for s in yjas[yr][j]:\n",
    "            jysw[j][yr][s] = yjas[yr][j][s] / freqsum        "
   ]
  },
  {
   "cell_type": "code",
   "execution_count": 118,
   "metadata": {},
   "outputs": [],
   "source": [
    "# 200 dimension Job-Year-Vector\n",
    "jyv_w = defaultdict(lambda:defaultdict(lambda:''))\n",
    "for j in jysw:\n",
    "    for y in jysw[j]:\n",
    "        jyv_w[j][y] = np.sum([model.wv[s]*jysw[j][y][s] for s in jysw[j][y].keys() if s in model.wv],axis=0)\n",
    "\n",
    "# job change from 2010 to 2018: 1 - dot product between 2 job vectors\n",
    "jtr_w = {}\n",
    "for j in jyv_w:\n",
    "    if 2010 in jyv_w[j] and 2018 in jyv_w[j]:\n",
    "        if j in jyn:\n",
    "            # retain jobs with more than 100 posts in both 2010 and 2018\n",
    "            if jyn[j][2010] > 100 and jyn[j][2018] > 100:\n",
    "                jtr_w[j] = 1- np.dot(jyv_w[j][2018], jyv_w[j][2010])/(\n",
    "                    np.linalg.norm(jyv_w[j][2018])* np.linalg.norm(jyv_w[j][2010]))\n",
    "\n",
    "jtr_w = dict(sorted(jtr_w.items(), key=operator.itemgetter(1)))"
   ]
  },
  {
   "cell_type": "code",
   "execution_count": 119,
   "metadata": {},
   "outputs": [],
   "source": [
    "def weighted_change_coreskill(dictyjas, quant):\n",
    "    \n",
    "    # filter the defining skills\n",
    "    jys2 = defaultdict(lambda:defaultdict(lambda:[]))\n",
    "    yjas2 = defaultdict(lambda:defaultdict(lambda:defaultdict(lambda:0)))\n",
    "    for year in dictyjas:\n",
    "        for job in dictyjas[year]:\n",
    "            threshold = np.quantile(list(dictyjas[year][job].values()), [quant])\n",
    "            for skill in yjas[year][job]:\n",
    "                if dictyjas[year][job][skill] >= threshold:\n",
    "                    jys2[job][year].append(skill)\n",
    "                    yjas2[year][job][skill]+= dictyjas[year][job][skill]\n",
    "            if len(jys2[job][year]) < 5:\n",
    "                #print(job, year)\n",
    "                del jys2[job][year]\n",
    "\n",
    "    jycsw = defaultdict(lambda:defaultdict(lambda:defaultdict(lambda:0)))\n",
    "    for yr in yjas2:\n",
    "        for j in yjas2[yr]:\n",
    "            freqsum=np.sum(list(yjas2[yr][j].values()))\n",
    "            for s in yjas2[yr][j]:\n",
    "                jycsw[j][yr][s] = yjas2[yr][j][s] / freqsum   \n",
    "                \n",
    "    # 200 dimension Job-Year-Vector\n",
    "    jyv_w2 = defaultdict(lambda:defaultdict(lambda:''))\n",
    "    for j in jycsw:\n",
    "        for y in jycsw[j]:\n",
    "            jyv_w2[j][y] = np.sum([model.wv[s]*jycsw[j][y][s] for s in jycsw[j][y].keys() if s in model.wv],axis=0)\n",
    "\n",
    "    # job change from 2010 to 2018: 1 - dot product between 2 job vectors\n",
    "    jtr_w2 = {}\n",
    "    for j in jyv_w2:\n",
    "        if 2010 in jyv_w2[j] and 2018 in jyv_w2[j]:\n",
    "            if j in jyn:\n",
    "                # retain jobs with more than 100 posts in both 2010 and 2018\n",
    "                if jyn[j][2010] > 100 and jyn[j][2018] > 100:\n",
    "                    jtr_w2[j] = 1- np.dot(jyv_w2[j][2018], jyv_w2[j][2010])/(\n",
    "                        np.linalg.norm(jyv_w2[j][2018])* np.linalg.norm(jyv_w2[j][2010]))\n",
    "\n",
    "    jtr_w2 = dict(sorted(jtr_w2.items(), key=operator.itemgetter(1)))\n",
    "    \n",
    "    return jtr_w2"
   ]
  },
  {
   "cell_type": "code",
   "execution_count": 120,
   "metadata": {},
   "outputs": [],
   "source": [
    "def reg_dataframe(lcllocjtrwa, lcslocjtrwa, scllocjtrwa, scslocjtrwa):\n",
    "    # put variables in a dataframe\n",
    "    reg_df2=pd.DataFrame(columns = ['Occupation','SkillChange', 'LogSkillN', 'LogSkillNAll', 'Education', 'LogPay', 'LargeEmployer', 'LargeMarket',\n",
    "                                  'EmployerConcentration', 'LargeEmployer_LogSkillN', 'LargeMarket_LogSkillN',\n",
    "                                   'LargeEmployer_LogSkillNAll', 'LargeMarket_LogSkillNAll',\n",
    "                        'LargeEmployer_LogPay', 'LargeMarket_LogPay', 'LargeEmployer_Education', 'LargeMarket_Education'])\n",
    "\n",
    "    for j in lcllocjtrwa:\n",
    "        if j in lcllocosn and j in oe and j in op and j in Lloc_OCCEC:\n",
    "            reg_df2=reg_df2.append({'Occupation': j, 'SkillChange': lcllocjtrwa[j], 'LogSkillN': np.log(lcllocosn[j]),\n",
    "                'LogSkillNAll': np.log(osn[j]),'Education': oe[j], 'LogPay': np.log(op[j]), 'LargeEmployer': 1, \n",
    "                                    'LargeMarket': 1,'EmployerConcentration': np.log(Lloc_OCCEC[j]), \n",
    "                    'LargeEmployer_LogSkillN': 1*np.log(lcllocosn[j]), 'LargeMarket_LogSkillN': 1*np.log(lcllocosn[j]),\n",
    "                    'LargeEmployer_LogSkillNAll': 1*np.log(osn[j]), 'LargeMarket_LogSkillNAll': 1*np.log(osn[j]),\n",
    "                    'LargeEmployer_LogPay':1*np.log(op[j]), 'LargeMarket_LogPay': 1*np.log(op[j]), \n",
    "                    'LargeEmployer_Education': 1*oe[j], 'LargeMarket_Education': 1*oe[j]}, ignore_index = True)\n",
    "\n",
    "    for j in  lcslocjtrwa:\n",
    "        if j in lcslocosn and j in oe and j in op and j in Sloc_OCCEC:\n",
    "            reg_df2=reg_df2.append({'Occupation': j, 'SkillChange':  lcslocjtrwa[j], 'LogSkillN': np.log(lcslocosn[j]), \n",
    "                                    'LogSkillNAll': np.log(osn[j]), 'Education': oe[j], 'LogPay': np.log(op[j]), \n",
    "                                    'LargeEmployer': 1, 'LargeMarket': 0,'EmployerConcentration': np.log(Sloc_OCCEC[j]), \n",
    "                    'LargeEmployer_LogSkillN': 1*np.log(lcslocosn[j]), 'LargeMarket_LogSkillN': 0*np.log(lcslocosn[j]),\n",
    "                    'LargeEmployer_LogSkillNAll': 1*np.log(osn[j]), 'LargeMarket_LogSkillNAll': 0*np.log(osn[j]),\n",
    "                    'LargeEmployer_LogPay':1*np.log(op[j]), 'LargeMarket_LogPay': 0*np.log(op[j]), \n",
    "                    'LargeEmployer_Education': 1*oe[j], 'LargeMarket_Education': 0*oe[j]}, ignore_index = True)\n",
    "\n",
    "    for j in scllocjtrwa:\n",
    "        if j in scllocosn and j in oe and j in op and j in Lloc_OCCEC:\n",
    "            reg_df2=reg_df2.append({'Occupation': j, 'SkillChange':scllocjtrwa[j], 'LogSkillN': np.log(scllocosn[j]), \n",
    "                                    'LogSkillNAll': np.log(osn[j]),  'Education': oe[j], 'LogPay': np.log(op[j]), \n",
    "                                    'LargeEmployer': 0, 'LargeMarket': 1,'EmployerConcentration': np.log(Lloc_OCCEC[j]), \n",
    "                    'LargeEmployer_LogSkillN': 0*np.log(scllocosn[j]), 'LargeMarket_LogSkillN': 1*np.log(scllocosn[j]),\n",
    "                    'LargeEmployer_LogSkillNAll': 0*np.log(osn[j]), 'LargeMarket_LogSkillNAll': 1*np.log(osn[j]),\n",
    "                    'LargeEmployer_LogPay':0*np.log(op[j]), 'LargeMarket_LogPay': 1*np.log(op[j]), \n",
    "                    'LargeEmployer_Education': 0*oe[j], 'LargeMarket_Education': 1*oe[j]}, ignore_index = True)\n",
    "\n",
    "    for j in scslocjtrwa:\n",
    "        if j in scslocosn and j in oe and j in op and j in Sloc_OCCEC:\n",
    "            reg_df2=reg_df2.append({'Occupation': j, 'SkillChange': scslocjtrwa[j], 'LogSkillN': np.log(scslocosn[j]), \n",
    "                                    'LogSkillNAll': np.log(osn[j]), 'Education': oe[j], 'LogPay': np.log(op[j]),\n",
    "                                    'LargeEmployer': 0, 'LargeMarket': 0,'EmployerConcentration': np.log(Sloc_OCCEC[j]), \n",
    "                    'LargeEmployer_LogSkillN': 0*np.log(scslocosn[j]), 'LargeMarket_LogSkillN': 0*np.log(scslocosn[j]),\n",
    "                    'LargeEmployer_LogSkillNAll': 0*np.log(osn[j]), 'LargeMarket_LogSkillNAll': 0*np.log(osn[j]),\n",
    "                    'LargeEmployer_LogPay':0*np.log(op[j]), 'LargeMarket_LogPay': 0*np.log(op[j]), \n",
    "                    'LargeEmployer_Education': 0*oe[j], 'LargeMarket_Education': 0*oe[j]}, ignore_index = True)\n",
    "            \n",
    "    return reg_df2"
   ]
  },
  {
   "cell_type": "code",
   "execution_count": 121,
   "metadata": {},
   "outputs": [],
   "source": [
    "lcllocjtrwa = weighted_change_coreskill(lcllocyjas, 0)\n",
    "lcslocjtrwa = weighted_change_coreskill(lcslocyjas, 0)\n",
    "scllocjtrwa = weighted_change_coreskill(scllocyjas, 0)\n",
    "scslocjtrwa = weighted_change_coreskill(scslocyjas, 0)\n",
    "reg_df_was = reg_dataframe(lcllocjtrwa, lcslocjtrwa, scllocjtrwa, scslocjtrwa)"
   ]
  },
  {
   "cell_type": "code",
   "execution_count": 122,
   "metadata": {},
   "outputs": [],
   "source": [
    "lcllocjtrw50 = weighted_change_coreskill(lcllocyjas, 0.5)\n",
    "lcslocjtrw50 = weighted_change_coreskill(lcslocyjas,  0.5)\n",
    "scllocjtrw50 = weighted_change_coreskill(scllocyjas,  0.5)\n",
    "scslocjtrw50 = weighted_change_coreskill(scslocyjas,  0.5)\n",
    "reg_df_w50 = reg_dataframe(lcllocjtrw50, lcslocjtrw50, scllocjtrw50, scslocjtrw50)"
   ]
  },
  {
   "cell_type": "code",
   "execution_count": 123,
   "metadata": {},
   "outputs": [],
   "source": [
    "lcllocjtrw75 = weighted_change_coreskill(lcllocyjas, 0.75)\n",
    "lcslocjtrw75 = weighted_change_coreskill(lcslocyjas,  0.75)\n",
    "scllocjtrw75 = weighted_change_coreskill(scllocyjas,  0.75)\n",
    "scslocjtrw75 = weighted_change_coreskill(scslocyjas,  0.75)\n",
    "reg_df_w75 = reg_dataframe(lcllocjtrw75, lcslocjtrw75, scllocjtrw75, scslocjtrw75)"
   ]
  },
  {
   "cell_type": "code",
   "execution_count": 130,
   "metadata": {},
   "outputs": [
    {
     "data": {
      "text/html": [
       "Explaining Job Skill Change Variation with Skill Complexity, Different Job Content Scope and Skill Weights<br><table style=\"text-align:center\"><tr><td colspan=\"4\" style=\"border-bottom: 1px solid black\"></td></tr><tr><td style=\"text-align:left\"></td><td colspan=\"3\"><em>Dependent variable:SkillChange</em></td></tr><tr><td style=\"text-align:left\"></td><tr><td></td><td colspan=\"1\">All Skills</td><td colspan=\"1\">Top 50\\% Skills</td><td colspan=\"1\">Top 75\\% Skills</td></tr><tr><td colspan=\"4\" style=\"border-bottom: 1px solid black\"></td></tr><tr><td style=\"text-align:left\">Skill Complexity</td><td>-0.023<sup>***</sup></td><td>-0.023<sup>***</sup></td><td>-0.024<sup>***</sup></td></tr><tr><td style=\"text-align:left\"></td><td>(0.001)</td><td>(0.001)</td><td>(0.001)</td></tr><tr><td style=\"text-align:left\">Log Emp. Concentr.</td><td>0.003<sup>**</sup></td><td>0.003<sup>**</sup></td><td>0.003<sup>**</sup></td></tr><tr><td style=\"text-align:left\"></td><td>(0.001)</td><td>(0.001)</td><td>(0.001)</td></tr><td colspan=\"4\" style=\"border-bottom: 1px solid black\"></td></tr><tr><td style=\"text-align: left\">Observations</td><td>2,551</td><td>2,551</td><td>2,551</td></tr><tr><td style=\"text-align: left\">R<sup>2</sup></td><td>0.218</td><td>0.218</td><td>0.223</td></tr><tr><td style=\"text-align: left\">Adjusted R<sup>2</sup></td><td>0.217</td><td>0.217</td><td>0.222</td></tr><tr><td style=\"text-align: left\">Residual Std. Error</td><td>0.042 (df=2548)</td><td>0.042 (df=2548)</td><td>0.043 (df=2548)</td></tr><tr><td style=\"text-align: left\">F Statistic</td><td>354.181<sup>***</sup> (df=2; 2548)</td><td>354.534<sup>***</sup> (df=2; 2548)</td><td>365.124<sup>***</sup> (df=2; 2548)</td></tr><tr><td colspan=\"4\" style=\"border-bottom: 1px solid black\"></td></tr><tr><td style=\"text-align: left\">Note:</td>\n",
       " <td colspan=\"3\" style=\"text-align: right\">\n",
       "  <sup>*</sup>p&lt;0.05;\n",
       "  <sup>**</sup>p&lt;0.01;\n",
       "  <sup>***</sup>p&lt;0.001\n",
       " </td></tr><tr><td></td><td colspan=\"3\" style=\"text-align: right\">Log Emp. Concentr. refers to the natural log of HHI (employer concentration).</td></tr></table>"
      ],
      "text/plain": [
       "<stargazer.stargazer.Stargazer at 0x17f7b21a100>"
      ]
     },
     "execution_count": 130,
     "metadata": {},
     "output_type": "execute_result"
    }
   ],
   "source": [
    "mod5= smf.ols('SkillChange ~ LogSkillNAll + EmployerConcentration', data=reg_df_was)\n",
    "res5 = mod5.fit()\n",
    "\n",
    "mod6= smf.ols('SkillChange ~ LogSkillNAll + EmployerConcentration', data=reg_df_w50)\n",
    "res6 = mod6.fit()\n",
    "\n",
    "mod7= smf.ols('SkillChange ~ LogSkillNAll + EmployerConcentration', data=reg_df_w75)\n",
    "res7 = mod7.fit()\n",
    "\n",
    "stargazer = Stargazer([res5, res6, res7])\n",
    "\n",
    "stargazer.title('Explaining Job Skill Change Variation with Skill Complexity, Different Job Content Scope and Skill Weights')\n",
    "stargazer.custom_columns(['All Skills', 'Top 50\\% Skills', 'Top 75\\% Skills'], [1, 1, 1])\n",
    "stargazer.show_model_numbers(False)\n",
    "stargazer.covariate_order(['LogSkillNAll', 'EmployerConcentration'])\n",
    "\n",
    "stargazer.rename_covariates({'LogSkillNAll': 'Skill Complexity', 'LogPay': 'Log Annual Pay', \n",
    "    'Education': 'Education', 'EmployerConcentration': 'Log Emp. Concentr.'})\n",
    "stargazer.significance_levels([0.05, 0.01, 0.001])\n",
    "stargazer.add_custom_notes(['Log Emp. Concentr. refers to the natural log of HHI (employer concentration).'])\n",
    "stargazer"
   ]
  },
  {
   "cell_type": "code",
   "execution_count": 131,
   "metadata": {},
   "outputs": [
    {
     "name": "stdout",
     "output_type": "stream",
     "text": [
      "\\begin{table}[!htbp] \\centering\n",
      "  \\caption{Explaining Job Skill Change Variation with Skill Complexity, Different Job Content Scope and Skill Weights}\n",
      "\\begin{tabular}{@{\\extracolsep{5pt}}lccc}\n",
      "\\\\[-1.8ex]\\hline\n",
      "\\hline \\\\[-1.8ex]\n",
      "& \\multicolumn{3}{c}{\\textit{Dependent variable:}} \\\n",
      "\\cr \\cline{3-4}\n",
      "\\\\[-1.8ex] & \\multicolumn{1}{c}{All Skills} & \\multicolumn{1}{c}{Top 50\\% Skills} & \\multicolumn{1}{c}{Top 75\\% Skills}  \\\\\n",
      "\\hline \\\\[-1.8ex]\n",
      " Skill Complexity & -0.023$^{***}$ & -0.023$^{***}$ & -0.024$^{***}$ \\\\\n",
      "  & (0.001) & (0.001) & (0.001) \\\\\n",
      " Log Emp. Concentr. & 0.003$^{**}$ & 0.003$^{**}$ & 0.003$^{**}$ \\\\\n",
      "  & (0.001) & (0.001) & (0.001) \\\\\n",
      "\\hline \\\\[-1.8ex]\n",
      " Observations & 2,551 & 2,551 & 2,551 \\\\\n",
      " $R^2$ & 0.218 & 0.218 & 0.223 \\\\\n",
      " Adjusted $R^2$ & 0.217 & 0.217 & 0.222 \\\\\n",
      " Residual Std. Error & 0.042(df = 2548) & 0.042(df = 2548) & 0.043(df = 2548)  \\\\\n",
      " F Statistic & 354.181$^{***}$ (df = 2.0; 2548.0) & 354.534$^{***}$ (df = 2.0; 2548.0) & 365.124$^{***}$ (df = 2.0; 2548.0) \\\\\n",
      "\\hline\n",
      "\\hline \\\\[-1.8ex]\n",
      "\\textit{Note:} & \\multicolumn{3}{r}{$^{*}$p$<$0.05; $^{**}$p$<$0.01; $^{***}$p$<$0.001} \\\\\n",
      " & \\multicolumn{3}{r}\\textit{Log Emp. Concentr. refers to the natural log of HHI (employer concentration).} \\\\\n",
      "\\end{tabular}\n",
      "\\end{table}\n"
     ]
    }
   ],
   "source": [
    "print(stargazer.render_latex())"
   ]
  },
  {
   "cell_type": "code",
   "execution_count": 132,
   "metadata": {},
   "outputs": [
    {
     "name": "stdout",
     "output_type": "stream",
     "text": [
      "Explaining Job Skill Change Variation with Skill Complexity, Different Job Content Scope and Skill Weights<br><table style=\"text-align:center\"><tr><td colspan=\"4\" style=\"border-bottom: 1px solid black\"></td></tr><tr><td style=\"text-align:left\"></td><td colspan=\"3\"><em>Dependent variable:SkillChange</em></td></tr><tr><td style=\"text-align:left\"></td><tr><td></td><td colspan=\"1\">All Skills</td><td colspan=\"1\">Top 50\\% Skills</td><td colspan=\"1\">Top 75\\% Skills</td></tr><tr><td colspan=\"4\" style=\"border-bottom: 1px solid black\"></td></tr><tr><td style=\"text-align:left\">Skill Complexity</td><td>-0.023<sup>***</sup></td><td>-0.023<sup>***</sup></td><td>-0.024<sup>***</sup></td></tr><tr><td style=\"text-align:left\"></td><td>(0.001)</td><td>(0.001)</td><td>(0.001)</td></tr><tr><td style=\"text-align:left\">Log Emp. Concentr.</td><td>0.003<sup>**</sup></td><td>0.003<sup>**</sup></td><td>0.003<sup>**</sup></td></tr><tr><td style=\"text-align:left\"></td><td>(0.001)</td><td>(0.001)</td><td>(0.001)</td></tr><td colspan=\"4\" style=\"border-bottom: 1px solid black\"></td></tr><tr><td style=\"text-align: left\">Observations</td><td>2,551</td><td>2,551</td><td>2,551</td></tr><tr><td style=\"text-align: left\">R<sup>2</sup></td><td>0.218</td><td>0.218</td><td>0.223</td></tr><tr><td style=\"text-align: left\">Adjusted R<sup>2</sup></td><td>0.217</td><td>0.217</td><td>0.222</td></tr><tr><td style=\"text-align: left\">Residual Std. Error</td><td>0.042 (df=2548)</td><td>0.042 (df=2548)</td><td>0.043 (df=2548)</td></tr><tr><td style=\"text-align: left\">F Statistic</td><td>354.181<sup>***</sup> (df=2; 2548)</td><td>354.534<sup>***</sup> (df=2; 2548)</td><td>365.124<sup>***</sup> (df=2; 2548)</td></tr><tr><td colspan=\"4\" style=\"border-bottom: 1px solid black\"></td></tr><tr><td style=\"text-align: left\">Note:</td>\n",
      " <td colspan=\"3\" style=\"text-align: right\">\n",
      "  <sup>*</sup>p&lt;0.05;\n",
      "  <sup>**</sup>p&lt;0.01;\n",
      "  <sup>***</sup>p&lt;0.001\n",
      " </td></tr><tr><td></td><td colspan=\"3\" style=\"text-align: right\">Log Emp. Concentr. refers to the natural log of HHI (employer concentration).</td></tr></table>\n"
     ]
    }
   ],
   "source": [
    "print(stargazer.render_html())"
   ]
  },
  {
   "cell_type": "code",
   "execution_count": 133,
   "metadata": {},
   "outputs": [
    {
     "data": {
      "text/html": [
       "Explaining Job Skill Change Variation with Organization and Local Market Size, Different Job Content Scope and Skill Weights<br><table style=\"text-align:center\"><tr><td colspan=\"4\" style=\"border-bottom: 1px solid black\"></td></tr><tr><td style=\"text-align:left\"></td><td colspan=\"3\"><em>Dependent variable:SkillChange</em></td></tr><tr><td style=\"text-align:left\"></td><tr><td></td><td colspan=\"1\">All Skills</td><td colspan=\"1\">Top 50\\% Skills</td><td colspan=\"1\">Top 75\\% Skills</td></tr><tr><td colspan=\"4\" style=\"border-bottom: 1px solid black\"></td></tr><tr><td style=\"text-align:left\">Large Employer</td><td>-0.006<sup>***</sup></td><td>-0.006<sup>***</sup></td><td>-0.005<sup>***</sup></td></tr><tr><td style=\"text-align:left\"></td><td>(0.001)</td><td>(0.001)</td><td>(0.001)</td></tr><tr><td style=\"text-align:left\">Large Market</td><td>-0.009<sup>***</sup></td><td>-0.009<sup>***</sup></td><td>-0.007<sup>**</sup></td></tr><tr><td style=\"text-align:left\"></td><td>(0.003)</td><td>(0.003)</td><td>(0.003)</td></tr><tr><td style=\"text-align:left\">Log Emp. Concentr.</td><td>-0.002<sup></sup></td><td>-0.002<sup></sup></td><td>-0.001<sup></sup></td></tr><tr><td style=\"text-align:left\"></td><td>(0.002)</td><td>(0.002)</td><td>(0.002)</td></tr><tr><td style=\"text-align: left\">Occ. FE</td><td>Yes</td><td>Yes</td><td>Yes</td></tr><td colspan=\"4\" style=\"border-bottom: 1px solid black\"></td></tr><tr><td style=\"text-align: left\">Observations</td><td>2,551</td><td>2,551</td><td>2,551</td></tr><tr><td style=\"text-align: left\">R<sup>2</sup></td><td>0.692</td><td>0.692</td><td>0.701</td></tr><tr><td style=\"text-align: left\">Adjusted R<sup>2</sup></td><td>0.568</td><td>0.569</td><td>0.581</td></tr><tr><td style=\"text-align: left\">Residual Std. Error</td><td>0.031 (df=1819)</td><td>0.031 (df=1819)</td><td>0.032 (df=1819)</td></tr><tr><td style=\"text-align: left\">F Statistic</td><td>5.593<sup>***</sup> (df=731; 1819)</td><td>5.599<sup>***</sup> (df=731; 1819)</td><td>5.846<sup>***</sup> (df=731; 1819)</td></tr><tr><td colspan=\"4\" style=\"border-bottom: 1px solid black\"></td></tr><tr><td style=\"text-align: left\">Note:</td>\n",
       " <td colspan=\"3\" style=\"text-align: right\">\n",
       "  <sup>*</sup>p&lt;0.05;\n",
       "  <sup>**</sup>p&lt;0.01;\n",
       "  <sup>***</sup>p&lt;0.001\n",
       " </td></tr><tr><td></td><td colspan=\"3\" style=\"text-align: right\">Log Emp. Concentr. refers to the natural log of HHI (employer concentration).</td></tr></table>"
      ],
      "text/plain": [
       "<stargazer.stargazer.Stargazer at 0x17f78ce4460>"
      ]
     },
     "execution_count": 133,
     "metadata": {},
     "output_type": "execute_result"
    }
   ],
   "source": [
    "resfrc1 =  smf.ols(\"SkillChange ~ LargeEmployer + LargeMarket + C(Occupation)+ EmployerConcentration\", \n",
    "                 data=reg_df_was).fit()\n",
    "resfrc2 =  smf.ols(\"SkillChange ~ LargeEmployer + LargeMarket + C(Occupation)+ EmployerConcentration\", \n",
    "                 data=reg_df_w50).fit()\n",
    "resfrc3 =  smf.ols(\"SkillChange ~ LargeEmployer + LargeMarket + C(Occupation)+ EmployerConcentration\", \n",
    "                 data=reg_df_w75).fit()\n",
    "\n",
    "stargazer_rc = Stargazer([resfrc1, resfrc2, resfrc3])\n",
    "\n",
    "stargazer_rc.title('Explaining Job Skill Change Variation with Organization and Local Market Size, Different Job Content Scope and Skill Weights')\n",
    "stargazer_rc.custom_columns(['All Skills', 'Top 50\\% Skills', 'Top 75\\% Skills'], [1, 1, 1])\n",
    "stargazer_rc.show_model_numbers(False)\n",
    "stargazer_rc.covariate_order(['LargeEmployer[T.1]', 'LargeMarket[T.1]', \n",
    "                            'EmployerConcentration'])\n",
    "stargazer_rc.rename_covariates({'LargeEmployer[T.1]': 'Large Employer', 'LargeMarket[T.1]': 'Large Market', \n",
    "   'EmployerConcentration': 'Log Emp. Concentr.'})\n",
    "stargazer_rc.significance_levels([0.05, 0.01, 0.001])\n",
    "stargazer_rc.add_line('Occ. FE', ['Yes', 'Yes', 'Yes'])\n",
    "stargazer_rc.add_custom_notes(['Log Emp. Concentr. refers to the natural log of HHI (employer concentration).'])\n",
    "stargazer_rc"
   ]
  },
  {
   "cell_type": "code",
   "execution_count": 134,
   "metadata": {},
   "outputs": [
    {
     "name": "stdout",
     "output_type": "stream",
     "text": [
      "\\begin{table}[!htbp] \\centering\n",
      "  \\caption{Explaining Job Skill Change Variation with Organization and Local Market Size, Different Job Content Scope and Skill Weights}\n",
      "\\begin{tabular}{@{\\extracolsep{5pt}}lccc}\n",
      "\\\\[-1.8ex]\\hline\n",
      "\\hline \\\\[-1.8ex]\n",
      "& \\multicolumn{3}{c}{\\textit{Dependent variable:}} \\\n",
      "\\cr \\cline{3-4}\n",
      "\\\\[-1.8ex] & \\multicolumn{1}{c}{All Skills} & \\multicolumn{1}{c}{Top 50\\% Skills} & \\multicolumn{1}{c}{Top 75\\% Skills}  \\\\\n",
      "\\hline \\\\[-1.8ex]\n",
      " Large Employer & -0.006$^{***}$ & -0.006$^{***}$ & -0.005$^{***}$ \\\\\n",
      "  & (0.001) & (0.001) & (0.001) \\\\\n",
      " Large Market & -0.009$^{***}$ & -0.009$^{***}$ & -0.007$^{**}$ \\\\\n",
      "  & (0.003) & (0.003) & (0.003) \\\\\n",
      " Log Emp. Concentr. & -0.002$^{}$ & -0.002$^{}$ & -0.001$^{}$ \\\\\n",
      "  & (0.002) & (0.002) & (0.002) \\\\\n",
      " Occ. FE & Yes & Yes & Yes \\\\\n",
      "\\hline \\\\[-1.8ex]\n",
      " Observations & 2,551 & 2,551 & 2,551 \\\\\n",
      " $R^2$ & 0.692 & 0.692 & 0.701 \\\\\n",
      " Adjusted $R^2$ & 0.568 & 0.569 & 0.581 \\\\\n",
      " Residual Std. Error & 0.031(df = 1819) & 0.031(df = 1819) & 0.032(df = 1819)  \\\\\n",
      " F Statistic & 5.593$^{***}$ (df = 731.0; 1819.0) & 5.599$^{***}$ (df = 731.0; 1819.0) & 5.846$^{***}$ (df = 731.0; 1819.0) \\\\\n",
      "\\hline\n",
      "\\hline \\\\[-1.8ex]\n",
      "\\textit{Note:} & \\multicolumn{3}{r}{$^{*}$p$<$0.05; $^{**}$p$<$0.01; $^{***}$p$<$0.001} \\\\\n",
      " & \\multicolumn{3}{r}\\textit{Log Emp. Concentr. refers to the natural log of HHI (employer concentration).} \\\\\n",
      "\\end{tabular}\n",
      "\\end{table}\n"
     ]
    }
   ],
   "source": [
    "print(stargazer_rc.render_latex())"
   ]
  },
  {
   "cell_type": "code",
   "execution_count": 136,
   "metadata": {},
   "outputs": [
    {
     "name": "stdout",
     "output_type": "stream",
     "text": [
      "Explaining Job Skill Change Variation with Organization and Local Market Size, Different Job Content Scope and Skill Weights<br><table style=\"text-align:center\"><tr><td colspan=\"4\" style=\"border-bottom: 1px solid black\"></td></tr><tr><td style=\"text-align:left\"></td><td colspan=\"3\"><em>Dependent variable:SkillChange</em></td></tr><tr><td style=\"text-align:left\"></td><tr><td></td><td colspan=\"1\">All Skills</td><td colspan=\"1\">Top 50\\% Skills</td><td colspan=\"1\">Top 75\\% Skills</td></tr><tr><td colspan=\"4\" style=\"border-bottom: 1px solid black\"></td></tr><tr><td style=\"text-align:left\">Large Employer</td><td>-0.006<sup>***</sup></td><td>-0.006<sup>***</sup></td><td>-0.005<sup>***</sup></td></tr><tr><td style=\"text-align:left\"></td><td>(0.001)</td><td>(0.001)</td><td>(0.001)</td></tr><tr><td style=\"text-align:left\">Large Market</td><td>-0.009<sup>***</sup></td><td>-0.009<sup>***</sup></td><td>-0.007<sup>**</sup></td></tr><tr><td style=\"text-align:left\"></td><td>(0.003)</td><td>(0.003)</td><td>(0.003)</td></tr><tr><td style=\"text-align:left\">Log Emp. Concentr.</td><td>-0.002<sup></sup></td><td>-0.002<sup></sup></td><td>-0.001<sup></sup></td></tr><tr><td style=\"text-align:left\"></td><td>(0.002)</td><td>(0.002)</td><td>(0.002)</td></tr><tr><td style=\"text-align: left\">Occ. FE</td><td>Yes</td><td>Yes</td><td>Yes</td></tr><td colspan=\"4\" style=\"border-bottom: 1px solid black\"></td></tr><tr><td style=\"text-align: left\">Observations</td><td>2,551</td><td>2,551</td><td>2,551</td></tr><tr><td style=\"text-align: left\">R<sup>2</sup></td><td>0.692</td><td>0.692</td><td>0.701</td></tr><tr><td style=\"text-align: left\">Adjusted R<sup>2</sup></td><td>0.568</td><td>0.569</td><td>0.581</td></tr><tr><td style=\"text-align: left\">Residual Std. Error</td><td>0.031 (df=1819)</td><td>0.031 (df=1819)</td><td>0.032 (df=1819)</td></tr><tr><td style=\"text-align: left\">F Statistic</td><td>5.593<sup>***</sup> (df=731; 1819)</td><td>5.599<sup>***</sup> (df=731; 1819)</td><td>5.846<sup>***</sup> (df=731; 1819)</td></tr><tr><td colspan=\"4\" style=\"border-bottom: 1px solid black\"></td></tr><tr><td style=\"text-align: left\">Note:</td>\n",
      " <td colspan=\"3\" style=\"text-align: right\">\n",
      "  <sup>*</sup>p&lt;0.05;\n",
      "  <sup>**</sup>p&lt;0.01;\n",
      "  <sup>***</sup>p&lt;0.001\n",
      " </td></tr><tr><td></td><td colspan=\"3\" style=\"text-align: right\">Log Emp. Concentr. refers to the natural log of HHI (employer concentration).</td></tr></table>\n"
     ]
    }
   ],
   "source": [
    "print(stargazer_rc.render_html())"
   ]
  },
  {
   "cell_type": "markdown",
   "metadata": {},
   "source": [
    "### Most Significant Skill Transition as Skill Change"
   ]
  },
  {
   "cell_type": "code",
   "execution_count": 181,
   "metadata": {},
   "outputs": [
    {
     "name": "stdout",
     "output_type": "stream",
     "text": [
      "781"
     ]
    }
   ],
   "source": [
    "lcllocjtrm0 = JobChange(lcllocjys, \"max\", 0)\n",
    "lcslocjtrm0 = JobChange(lcslocjys, \"max\", 0)\n",
    "scllocjtrm0 = JobChange(scllocjys, \"max\", 0)\n",
    "scslocjtrm0 = JobChange(scslocjys, \"max\", 0)\n",
    "reg_df_max0 = reg_dataframe(lcllocjtrm0, lcslocjtrm0, scllocjtrm0, scslocjtrm0)"
   ]
  },
  {
   "cell_type": "code",
   "execution_count": 177,
   "metadata": {},
   "outputs": [
    {
     "name": "stdout",
     "output_type": "stream",
     "text": [
      "781"
     ]
    }
   ],
   "source": [
    "lcllocjtrm5 = JobChange(lcllocjys, \"max\", 0.05)\n",
    "lcslocjtrm5 = JobChange(lcslocjys, \"max\", 0.05)\n",
    "scllocjtrm5 = JobChange(scllocjys, \"max\", 0.05)\n",
    "scslocjtrm5 = JobChange(scslocjys, \"max\", 0.05)\n",
    "reg_df_max5 = reg_dataframe(lcllocjtrm5, lcslocjtrm5, scllocjtrm5, scslocjtrm5)"
   ]
  },
  {
   "cell_type": "code",
   "execution_count": 178,
   "metadata": {},
   "outputs": [
    {
     "name": "stdout",
     "output_type": "stream",
     "text": [
      "781"
     ]
    }
   ],
   "source": [
    "lcllocjtrm10 = JobChange(lcllocjys, \"max\", 0.1)\n",
    "lcslocjtrm10 = JobChange(lcslocjys, \"max\", 0.1)\n",
    "scllocjtrm10 = JobChange(scllocjys, \"max\", 0.1)\n",
    "scslocjtrm10 = JobChange(scslocjys, \"max\", 0.1)\n",
    "reg_df_max10 = reg_dataframe(lcllocjtrm10, lcslocjtrm10, scllocjtrm10, scslocjtrm10)"
   ]
  },
  {
   "cell_type": "code",
   "execution_count": 184,
   "metadata": {},
   "outputs": [
    {
     "data": {
      "text/html": [
       "Explaining Job Skill Change Variation with Skill Complexity, Different Measures of Change<br><table style=\"text-align:center\"><tr><td colspan=\"4\" style=\"border-bottom: 1px solid black\"></td></tr><tr><td style=\"text-align:left\"></td><td colspan=\"3\"><em>Dependent variable:SkillChange</em></td></tr><tr><td style=\"text-align:left\"></td><tr><td></td><td colspan=\"1\">Max Skill Transition</td><td colspan=\"1\">Rank 5\\% Max Skill Transition</td><td colspan=\"1\">Rank 10\\% Max Skill Transition</td></tr><tr><td colspan=\"4\" style=\"border-bottom: 1px solid black\"></td></tr><tr><td style=\"text-align:left\">Skill Complexity</td><td>-0.015<sup>***</sup></td><td>-0.048<sup>***</sup></td><td>-0.056<sup>***</sup></td></tr><tr><td style=\"text-align:left\"></td><td>(0.002)</td><td>(0.002)</td><td>(0.002)</td></tr><tr><td style=\"text-align:left\">Log Annual Pay</td><td>-0.017<sup>*</sup></td><td>-0.014<sup>*</sup></td><td>-0.015<sup>*</sup></td></tr><tr><td style=\"text-align:left\"></td><td>(0.007)</td><td>(0.006)</td><td>(0.006)</td></tr><tr><td style=\"text-align:left\">Education</td><td>-0.004<sup>***</sup></td><td>-0.005<sup>***</sup></td><td>-0.006<sup>***</sup></td></tr><tr><td style=\"text-align:left\"></td><td>(0.001)</td><td>(0.001)</td><td>(0.001)</td></tr><td colspan=\"4\" style=\"border-bottom: 1px solid black\"></td></tr><tr><td style=\"text-align: left\">Observations</td><td>1,957</td><td>1,957</td><td>1,957</td></tr><tr><td style=\"text-align: left\">R<sup>2</sup></td><td>0.084</td><td>0.319</td><td>0.392</td></tr><tr><td style=\"text-align: left\">Adjusted R<sup>2</sup></td><td>0.082</td><td>0.318</td><td>0.391</td></tr><tr><td style=\"text-align: left\">Residual Std. Error</td><td>0.068 (df=1953)</td><td>0.062 (df=1953)</td><td>0.061 (df=1953)</td></tr><tr><td style=\"text-align: left\">F Statistic</td><td>59.417<sup>***</sup> (df=3; 1953)</td><td>304.779<sup>***</sup> (df=3; 1953)</td><td>419.479<sup>***</sup> (df=3; 1953)</td></tr><tr><td colspan=\"4\" style=\"border-bottom: 1px solid black\"></td></tr><tr><td style=\"text-align: left\">Note:</td>\n",
       " <td colspan=\"3\" style=\"text-align: right\">\n",
       "  <sup>*</sup>p&lt;0.05;\n",
       "  <sup>**</sup>p&lt;0.01;\n",
       "  <sup>***</sup>p&lt;0.001\n",
       " </td></tr></table>"
      ],
      "text/plain": [
       "<stargazer.stargazer.Stargazer at 0x17f71f54fd0>"
      ]
     },
     "execution_count": 184,
     "metadata": {},
     "output_type": "execute_result"
    }
   ],
   "source": [
    "mod5= smf.ols('SkillChange ~ LogSkillNAll + Education + LogPay', data=reg_df_max0)\n",
    "res5 = mod5.fit()\n",
    "\n",
    "mod6= smf.ols('SkillChange ~ LogSkillNAll + Education + LogPay', data=reg_df_max5)\n",
    "res6 = mod6.fit()\n",
    "\n",
    "mod7= smf.ols('SkillChange ~ LogSkillNAll + Education + LogPay', data=reg_df_max10)\n",
    "res7 = mod7.fit()\n",
    "\n",
    "stargazer = Stargazer([res5, res6, res7])\n",
    "\n",
    "stargazer.title('Explaining Job Skill Change Variation with Skill Complexity, Different Measures of Change')\n",
    "stargazer.custom_columns(['Max Skill Transition', 'Rank 5\\% Max Skill Transition', 'Rank 10\\% Max Skill Transition'], [1, 1, 1])\n",
    "stargazer.show_model_numbers(False)\n",
    "stargazer.covariate_order(['LogSkillNAll',  'LogPay', 'Education'])\n",
    "\n",
    "stargazer.rename_covariates({'LogSkillNAll': 'Skill Complexity', 'LogPay': 'Log Annual Pay', \n",
    "    'Education': 'Education'})\n",
    "stargazer.significance_levels([0.05, 0.01, 0.001])\n",
    "#stargazer.add_custom_notes(['Log Emp. Concentr. refers to the natural log of HHI (employer concentration).'])\n",
    "stargazer"
   ]
  },
  {
   "cell_type": "code",
   "execution_count": 185,
   "metadata": {},
   "outputs": [
    {
     "name": "stdout",
     "output_type": "stream",
     "text": [
      "Explaining Job Skill Change Variation with Skill Complexity, Different Measures of Change<br><table style=\"text-align:center\"><tr><td colspan=\"4\" style=\"border-bottom: 1px solid black\"></td></tr><tr><td style=\"text-align:left\"></td><td colspan=\"3\"><em>Dependent variable:SkillChange</em></td></tr><tr><td style=\"text-align:left\"></td><tr><td></td><td colspan=\"1\">Max Skill Transition</td><td colspan=\"1\">Rank 5\\% Max Skill Transition</td><td colspan=\"1\">Rank 10\\% Max Skill Transition</td></tr><tr><td colspan=\"4\" style=\"border-bottom: 1px solid black\"></td></tr><tr><td style=\"text-align:left\">Skill Complexity</td><td>-0.015<sup>***</sup></td><td>-0.048<sup>***</sup></td><td>-0.056<sup>***</sup></td></tr><tr><td style=\"text-align:left\"></td><td>(0.002)</td><td>(0.002)</td><td>(0.002)</td></tr><tr><td style=\"text-align:left\">Log Annual Pay</td><td>-0.017<sup>*</sup></td><td>-0.014<sup>*</sup></td><td>-0.015<sup>*</sup></td></tr><tr><td style=\"text-align:left\"></td><td>(0.007)</td><td>(0.006)</td><td>(0.006)</td></tr><tr><td style=\"text-align:left\">Education</td><td>-0.004<sup>***</sup></td><td>-0.005<sup>***</sup></td><td>-0.006<sup>***</sup></td></tr><tr><td style=\"text-align:left\"></td><td>(0.001)</td><td>(0.001)</td><td>(0.001)</td></tr><td colspan=\"4\" style=\"border-bottom: 1px solid black\"></td></tr><tr><td style=\"text-align: left\">Observations</td><td>1,957</td><td>1,957</td><td>1,957</td></tr><tr><td style=\"text-align: left\">R<sup>2</sup></td><td>0.084</td><td>0.319</td><td>0.392</td></tr><tr><td style=\"text-align: left\">Adjusted R<sup>2</sup></td><td>0.082</td><td>0.318</td><td>0.391</td></tr><tr><td style=\"text-align: left\">Residual Std. Error</td><td>0.068 (df=1953)</td><td>0.062 (df=1953)</td><td>0.061 (df=1953)</td></tr><tr><td style=\"text-align: left\">F Statistic</td><td>59.417<sup>***</sup> (df=3; 1953)</td><td>304.779<sup>***</sup> (df=3; 1953)</td><td>419.479<sup>***</sup> (df=3; 1953)</td></tr><tr><td colspan=\"4\" style=\"border-bottom: 1px solid black\"></td></tr><tr><td style=\"text-align: left\">Note:</td>\n",
      " <td colspan=\"3\" style=\"text-align: right\">\n",
      "  <sup>*</sup>p&lt;0.05;\n",
      "  <sup>**</sup>p&lt;0.01;\n",
      "  <sup>***</sup>p&lt;0.001\n",
      " </td></tr></table>\n"
     ]
    }
   ],
   "source": [
    "print(stargazer.render_html())"
   ]
  }
 ],
 "metadata": {
  "kernelspec": {
   "display_name": "Python 3",
   "language": "python",
   "name": "python3"
  },
  "language_info": {
   "codemirror_mode": {
    "name": "ipython",
    "version": 3
   },
   "file_extension": ".py",
   "mimetype": "text/x-python",
   "name": "python",
   "nbconvert_exporter": "python",
   "pygments_lexer": "ipython3",
   "version": "3.8.5"
  }
 },
 "nbformat": 4,
 "nbformat_minor": 4
}
