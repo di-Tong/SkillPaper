{
 "cells": [
  {
   "cell_type": "code",
   "execution_count": 1,
   "metadata": {},
   "outputs": [
    {
     "name": "stderr",
     "output_type": "stream",
     "text": [
      "C:\\Users\\ditong\\Anaconda3\\lib\\site-packages\\gensim\\similarities\\__init__.py:15: UserWarning: The gensim.similarities.levenshtein submodule is disabled, because the optional Levenshtein package <https://pypi.org/project/python-Levenshtein/> is unavailable. Install Levenhstein (e.g. `pip install python-Levenshtein`) to suppress this warning.\n",
      "  warnings.warn(msg)\n"
     ]
    }
   ],
   "source": [
    "from gensim.models.keyedvectors import KeyedVectors\n",
    "import numpy as np\n",
    "import pylab as plt\n",
    "from nltk.corpus import words\n",
    "import pandas as pd\n",
    "import sys\n",
    "from scipy import spatial, stats\n",
    "from collections import Counter, defaultdict\n",
    "from matplotlib.colors import ListedColormap\n",
    "from gensim.models import Word2Vec\n",
    "from sklearn.manifold import TSNE\n",
    "import matplotlib.cm as cm\n",
    "from numpy import dot\n",
    "from numpy.linalg import norm\n",
    "import operator\n",
    "from statistics import mean, stdev\n",
    "from scipy.stats import pearsonr \n",
    "import math\n",
    "from sklearn.preprocessing import PolynomialFeatures \n",
    "from sklearn.linear_model import LinearRegression\n",
    "import seaborn as sns\n",
    "import statsmodels.api as sm\n",
    "import statsmodels.formula.api as smf\n",
    "from statsmodels.iolib.summary2 import summary_col\n",
    "import json\n",
    "import networkx as nx\n",
    "import copy\n",
    "import pickle\n",
    "import matplotlib.colors\n",
    "from stargazer.stargazer import Stargazer, LineLocation\n",
    "import time\n",
    "#from linearmodels.panel import PanelOLS\n",
    "\n",
    "# flush print\n",
    "def flushPrint(d):\n",
    "    sys.stdout.write('\\r')\n",
    "    #sys.stdout.write(str(d))\n",
    "    sys.stdout.write('%d' % d)\n",
    "    sys.stdout.flush()\n",
    "\n",
    "def OLSRegressFit(x,y):\n",
    "    xx = sm.add_constant(x, prepend=True)\n",
    "    res = sm.OLS(y,xx).fit()\n",
    "    constant, beta = res.params\n",
    "    r2 = res.rsquared\n",
    "    return [constant, beta, r2]"
   ]
  },
  {
   "cell_type": "markdown",
   "metadata": {},
   "source": [
    "### Data"
   ]
  },
  {
   "cell_type": "code",
   "execution_count": 10,
   "metadata": {},
   "outputs": [],
   "source": [
    "# all data, 200 dimensions, 300 window, skipgram, negative sampling 5, word occurence > 10\n",
    "model = Word2Vec.load(\"/Users/ditong/Dropbox (MIT)/skills/SkillPaper/IntermediateData/w2v_m10_s200_w300_sg1_n5.model\")"
   ]
  },
  {
   "cell_type": "code",
   "execution_count": 11,
   "metadata": {},
   "outputs": [],
   "source": [
    "# JOB YEAR NPOSTS Medianpay Mineducation\n",
    "jyn = defaultdict(lambda:defaultdict(lambda:0))\n",
    "yjn = defaultdict(lambda:defaultdict(lambda:0))\n",
    "jye = defaultdict(lambda:defaultdict(lambda:0))\n",
    "yje = defaultdict(lambda:defaultdict(lambda:0))\n",
    "jyp = defaultdict(lambda:defaultdict(lambda:0))\n",
    "yjp = defaultdict(lambda:defaultdict(lambda:0))\n",
    "with open('/Users/ditong/Dropbox (MIT)/skills/SkillPaper/IntermediateData/year_socName_Nposts_aveMedianPay_aveMinEdu.txt',\n",
    "          'r') as f:\n",
    "    for line in f:\n",
    "        line_lst = line[:-1].split('\\t')\n",
    "        year = int(line_lst[0])\n",
    "        job = line_lst[1]\n",
    "        num = int(line_lst[2])\n",
    "        edu = line_lst[3]\n",
    "        pay = line_lst[4]\n",
    "        if year != 2019:\n",
    "            jyn[job][year] = num\n",
    "            yjn[year][job] = num\n",
    "            if edu != 'nan' and edu != 'nan\\n': \n",
    "                if float(edu) > 0:\n",
    "                    jye[job][year] = float(edu)\n",
    "                    yje[year][job.lower()] = float(edu)\n",
    "            if pay != 'nan' and pay != 'nan\\n':\n",
    "                if float(pay) > 0:\n",
    "                    jyp[job][year] = float(pay)\n",
    "                    yjp[year][job] = float(pay)"
   ]
  },
  {
   "cell_type": "code",
   "execution_count": 17,
   "metadata": {},
   "outputs": [],
   "source": [
    "# soc - pay - education\n",
    "oe={}\n",
    "op={}\n",
    "with open('/Users/ditong/Dropbox (MIT)/skills/SkillPaper/IntermediateData/socName_aveMedianPay_aveMinEdu_socGroup.txt','r') as f:\n",
    "    for line in f:\n",
    "        line_lst = line[:-1].split('\\t')\n",
    "        job = line_lst[0]\n",
    "        op[job] = float(line_lst[1])\n",
    "        oe[job] = float(line_lst[2])"
   ]
  },
  {
   "cell_type": "code",
   "execution_count": 18,
   "metadata": {},
   "outputs": [],
   "source": [
    "# JOB-SKILL DATA\n",
    "# without filtering the skills\n",
    "yjas = defaultdict(lambda:defaultdict(lambda:defaultdict(lambda:0)))\n",
    "with open('/Users/ditong/Dropbox (MIT)/skills/SkillPaper/IntermediateData/occ_year_skill_freq.txt', 'r') as f:\n",
    "    for line in f:\n",
    "        line_lst = line.split(\"\\t\")\n",
    "        job = line_lst[0]\n",
    "        year = int(line_lst[1])\n",
    "        skills = line_lst[2:]\n",
    "        if year == 2010 or year==2018:\n",
    "            if len(skills) > 5:\n",
    "                for skill_tfidf in skills:\n",
    "                    skill = skill_tfidf.split('_')[0].lower()\n",
    "                    tfidf = float(skill_tfidf.split('_')[1])\n",
    "                    yjas[year][job][skill] = tfidf\n",
    "                    \n",
    "# job - top 5% defining skills\n",
    "jys = defaultdict(lambda:defaultdict(lambda:[]))\n",
    "syj = defaultdict(lambda:defaultdict(lambda:[]))\n",
    "for year in yjas:\n",
    "    for job in yjas[year]:\n",
    "        threshold = np.quantile(list(yjas[year][job].values()), [0.95])\n",
    "        #threshold = np.mean(list(yjas[year][job].values()))\n",
    "        for skill in yjas[year][job]:\n",
    "            if yjas[year][job][skill] > threshold:\n",
    "                jys[job][year].append(skill)\n",
    "                syj[skill][year].append(job)\n",
    "        if len(jys[job][year]) < 5:\n",
    "            #print(job, year)\n",
    "            del jys[job][year]\n",
    "            fulllist = syj[skill][year]\n",
    "            syj[skill][year] = [value for value in fulllist if value != job]\n",
    "            \n",
    "# job - SKILL NUMBER\n",
    "osn = {}\n",
    "for job in jys:\n",
    "    snlst = []\n",
    "    for yr in jys[job]:\n",
    "        if len(jys[job][yr]) != 0:\n",
    "            snlst.append(len(jys[job][yr]))\n",
    "    if snlst:\n",
    "        osn[job] = round(np.mean(snlst)) # np.log(round(np.mean(snlst)))\n",
    "osn = dict(sorted(osn.items(), key=operator.itemgetter(1),reverse=True))"
   ]
  },
  {
   "cell_type": "markdown",
   "metadata": {},
   "source": [
    "### Extended Methods: Replication of Deming and Noray's (2020) Job Skill Change Measurement"
   ]
  },
  {
   "cell_type": "code",
   "execution_count": 57,
   "metadata": {},
   "outputs": [],
   "source": [
    "# read in saved data\n",
    "occ_y_skill_freq = defaultdict(lambda:defaultdict(lambda:defaultdict(lambda:0)))\n",
    "occ_y_sfreq = defaultdict(lambda:defaultdict(lambda:0))\n",
    "with open('/Users/ditong/Dropbox (MIT)/skills/SkillPaper/IntermediateData/occ_year_skill_freq_emp.txt', 'r') as f:\n",
    "    for line in f:\n",
    "        linelst = line[:-1].split(\"\\t\")\n",
    "        occ = linelst[0]\n",
    "        year = linelst[1]\n",
    "        sfreqs = linelst[2:]\n",
    "        for s in sfreqs:\n",
    "            sk = s.split(\"_\")[0]\n",
    "            freq = int(s.split(\"_\")[1])\n",
    "            occ_y_skill_freq[occ][year][sk] = freq\n",
    "            occ_y_sfreq[occ][year] += freq\n",
    "            \n",
    "occ_y_freq = defaultdict(lambda:defaultdict(lambda:0))            \n",
    "with open('/Users/ditong/Dropbox (MIT)/skills/SkillPaper/IntermediateData/occ_year_npost_emp.txt', 'r') as f:\n",
    "    for line in f:\n",
    "        linelst = line[:-1].split(\"\\t\")\n",
    "        occ = linelst[0]\n",
    "        year = linelst[1]\n",
    "        freq = int(linelst[2])\n",
    "        occ_y_freq[occ][year] = freq"
   ]
  },
  {
   "cell_type": "code",
   "execution_count": 62,
   "metadata": {},
   "outputs": [],
   "source": [
    "# calculate job skill change and save data\n",
    "# weights\n",
    "jw1 = {}\n",
    "for j in occ_y_sfreq:\n",
    "    if j in occ_y_freq:\n",
    "        if '2010' in occ_y_sfreq[j] and '2018' in occ_y_sfreq[j]:\n",
    "            jw1[j] = (occ_y_sfreq[j]['2010'] / occ_y_sfreq[j]['2018']) / (occ_y_freq[j]['2010']/occ_y_freq[j]['2018'])\n",
    "            if jw1[j] > 1:\n",
    "                jw1[j] = 1\n",
    "                \n",
    "jw2 = {}\n",
    "for j in occ_y_sfreq:\n",
    "    if j in occ_y_freq:\n",
    "        if '2007' in occ_y_sfreq[j] and '2019' in occ_y_sfreq[j]:\n",
    "            jw2[j] = (occ_y_sfreq[j]['2007'] / occ_y_sfreq[j]['2019']) / (occ_y_freq[j]['2007']/occ_y_freq[j]['2019'])\n",
    "            if jw2[j] > 1:\n",
    "                jw2[j] = 1\n",
    "                \n",
    "# skill probability\n",
    "jyspro = copy.deepcopy(occ_y_skill_freq)\n",
    "for j in jyspro:\n",
    "    for y in jyspro[j]:\n",
    "        for s in jyspro[j][y].keys():\n",
    "            jyspro[j][y][s] = jyspro[j][y][s]/occ_y_freq[j][y]\n",
    "            \n",
    "# job change\n",
    "jyc = defaultdict(lambda:defaultdict(lambda:0))\n",
    "occsc79=defaultdict(lambda:0)\n",
    "occsc80=defaultdict(lambda:0)\n",
    "for j in jyspro:\n",
    "    if '2007' in jyspro[j] and '2019' in jyspro[j]:\n",
    "        # get the union of skills of 2 years\n",
    "        alls = set(jyspro[j]['2007'].keys()).union(set(jyspro[j]['2019'].keys()))\n",
    "        # skill probability change\n",
    "        for s in alls:\n",
    "            jyc[j]['07-19'] += abs(jyspro[j]['2019'][s] - jyspro[j]['2007'][s])\n",
    "        jyc[j]['07-19'] = jyc[j]['07-19']*jw2[j]\n",
    "        occsc79[j] = jyc[j]['07-19']\n",
    "            \n",
    "    if '2010' in jyspro[j] and '2018' in jyspro[j]:\n",
    "        # get the union of skills of 2 years\n",
    "        alls = set(jyspro[j]['2010'].keys()).union(set(jyspro[j]['2018'].keys()))\n",
    "        # skill probability change\n",
    "        for s in alls:\n",
    "            jyc[j]['10-18'] += abs(jyspro[j]['2018'][s] - jyspro[j]['2010'][s])\n",
    "        jyc[j]['10-18'] = jyc[j]['10-18']*jw1[j]\n",
    "        occsc80[j] = jyc[j]['10-18']\n",
    "        \n",
    "# save \n",
    "df79 = pd.DataFrame()\n",
    "sorted79 =  dict(sorted(occsc79.items(), key=operator.itemgetter(1), reverse=True))\n",
    "df79['SOC'] = list(sorted79.keys())\n",
    "df79[\"SkillChange\"] = list(sorted79.values())\n",
    "df79.to_csv('/Users/ditong/Dropbox (MIT)/skills/SkillPaper/IntermediateData/0719Soc6SkillChange_emp.csv')\n",
    "\n",
    "df80 = pd.DataFrame()\n",
    "sorted80 =  dict(sorted(occsc80.items(), key=operator.itemgetter(1), reverse=True))\n",
    "df80['SOC'] = list(sorted80.keys())\n",
    "df80[\"SkillChange\"] = list(sorted80.values())\n",
    "df80.to_csv('/Users/ditong/Dropbox (MIT)/skills/SkillPaper/IntermediateData/1018Soc6SkillChange_emp.csv')"
   ]
  },
  {
   "cell_type": "code",
   "execution_count": 3,
   "metadata": {},
   "outputs": [
    {
     "name": "stdout",
     "output_type": "stream",
     "text": [
      "(0.8696114554674294, 2.0059318581748458e-88)\n"
     ]
    }
   ],
   "source": [
    "# data in Deming and Noray (2020) appendix\n",
    "OriData = pd.read_excel('/Users/ditong/Dropbox (MIT)/skills/SkillPaper/IntermediateData/QJE_SOC6Change.xlsx')\n",
    "SOCR = {}\n",
    "for i, j in zip(OriData[\"occupation_title\"], OriData[\"RATE\"]):\n",
    "    SOCR[str(i)] = j\n",
    "\n",
    "# replication\n",
    "ReplData = pd.read_csv('/Users/ditong/Dropbox (MIT)/skills/SkillPaper/IntermediateData/0719Soc6SkillChange_emp.csv')\n",
    "re = {}\n",
    "for i, j in zip(ReplData['SOC'], ReplData[\"SkillChange\"]):\n",
    "    re[str(i)] = j\n",
    "\n",
    "# calculate correlation\n",
    "#re = occsc79    \n",
    "repl = {}\n",
    "for j in SOCR:\n",
    "    if j in re:\n",
    "        repl[j] = (SOCR[j],re[j])\n",
    "\n",
    "x,y = zip(*list(repl.values()))\n",
    "print(pearsonr(x,y))\n",
    "# fig = plt.figure(figsize=(5,5))\n",
    "# ax1 = fig.add_subplot(111)\n",
    "# plt.scatter(x,y, label=\"r=0.87***\")\n",
    "# plt.title(\"Job Skill Change Replication, 2007-19\", fontsize=16)\n",
    "# plt.xlabel(\"Original Measure, 2007-19\", fontsize=16)\n",
    "# plt.ylabel(\"Replicated Measure, 2007-19\", fontsize=16)\n",
    "# plt.legend(fontsize=18)"
   ]
  },
  {
   "cell_type": "markdown",
   "metadata": {},
   "source": [
    "### Extended Methods: Cluster Approach to Measure Occupational Skill Change"
   ]
  },
  {
   "cell_type": "code",
   "execution_count": 66,
   "metadata": {},
   "outputs": [],
   "source": [
    "# skill--community\n",
    "partition = defaultdict(lambda:[])\n",
    "sp = {}\n",
    "with open('/Users/ditong/Dropbox (MIT)/skills/SkillPaper/IntermediateData/partition_0.0_0.0_6_0.51.txt','r') as f:\n",
    "    for line in f:\n",
    "        skill = line.split('\\t')[0]\n",
    "        group = int(line.split('\\t')[1])\n",
    "        partition[group].append(skill)\n",
    "        sp[skill] = group\n",
    "\n",
    "# community labels\n",
    "labels = ['business and managerial skills', 'engineering, technical, and manual skills', \n",
    "          'computer and programming skills', 'clerical and analytical skills', \n",
    "          'scientific and research skills', 'medical and health skills']"
   ]
  },
  {
   "cell_type": "code",
   "execution_count": 69,
   "metadata": {},
   "outputs": [],
   "source": [
    "# job - skill community - frequency\n",
    "jyscf = defaultdict(lambda:defaultdict(lambda:defaultdict(lambda:0)))\n",
    "for job in jys:\n",
    "    for year in jys[job]:\n",
    "        for s in jys[job][year]:\n",
    "            if s in sp:\n",
    "                jyscf[job][year][sp[s]] += 1\n",
    "        #yjscf[year][job] = dict(sorted(yjscf[year][job].items(), key=operator.itemgetter(1), reverse=True))\n",
    "\n",
    "# job - skill community - share change\n",
    "occ_scc = defaultdict(lambda:0)\n",
    "for occ in jyscf:\n",
    "    if 2010 in jyscf[occ] and 2018 in jyscf[occ]:\n",
    "        skills = set(jyscf[occ][2010].keys()).union(jyscf[occ][2018].keys())\n",
    "        for skill in skills:   \n",
    "            occ_scc[occ] += abs(jyscf[occ][2018][skill]/sum(jyscf[occ][2018].values()) - \n",
    "                          jyscf[occ][2010][skill]/sum(jyscf[occ][2010].values())) \n",
    "# sort the occupation by skill change\n",
    "sorted_occscc = dict(sorted(occ_scc.items(), key=operator.itemgetter(1), reverse=True))"
   ]
  },
  {
   "cell_type": "code",
   "execution_count": 70,
   "metadata": {},
   "outputs": [],
   "source": [
    "# skill cluster share change for two occupations\n",
    "# computer programmers\n",
    "# skill cluster freq for each year\n",
    "fil_pc10 = defaultdict(lambda:0)\n",
    "for k in jys[\"Computer Programmers\"][2010]:\n",
    "    if k in sp:\n",
    "        fil_pc10[sp[k]] += 1\n",
    "fil_pc18 = defaultdict(lambda:0)\n",
    "for k in jys[\"Computer Programmers\"][2018]:\n",
    "    if k in sp:\n",
    "        fil_pc18[sp[k]] += 1\n",
    "allcc = set(fil_pc10.keys()).union(fil_pc18.keys())\n",
    "# skill cluster share change\n",
    "sdiffCC = {}\n",
    "for k in allcc:\n",
    "    sdiffCC[k] = abs(fil_pc18[k]/sum(fil_pc18.values()) - fil_pc10[k]/sum(fil_pc10.values()))\n",
    "\n",
    "# Food Batchmakers\n",
    "fil_pb10 = defaultdict(lambda:0)\n",
    "for k in jys['Food Batchmakers'][2010]:\n",
    "    if k in sp:\n",
    "        fil_pb10[sp[k]] += 1\n",
    "fil_pb18 = defaultdict(lambda:0)\n",
    "for k in jys['Food Batchmakers'][2018]:\n",
    "    if k in sp:\n",
    "        fil_pb18[sp[k]] += 1\n",
    "allbc = set(fil_pb10.keys()).union(fil_pb18.keys())\n",
    "\n",
    "sdiffBC = {}\n",
    "for k in allbc:\n",
    "    sdiffBC[k] = abs(fil_pb18[k]/sum(fil_pb18.values()) - fil_pb10[k]/sum(fil_pb10.values()))"
   ]
  },
  {
   "cell_type": "code",
   "execution_count": 73,
   "metadata": {},
   "outputs": [],
   "source": [
    "# 200 dimension Job-Year-Vector\n",
    "jyv = defaultdict(lambda:defaultdict(lambda:''))\n",
    "for j in jys:\n",
    "    for y in jys[j]:\n",
    "        jyv[j][y] = np.mean([model.wv[s] for s in jys[j][y] if s in model.wv],axis=0)\n",
    "\n",
    "# job change from 2010 to 2018: 1 - dot product between 2 job vectors\n",
    "jtr = {}\n",
    "for j in jyv:\n",
    "    if 2010 in jyv[j] and 2018 in jyv[j]:\n",
    "        if j in jyn:\n",
    "            # retain jobs with more than 100 posts in both 2010 and 2018\n",
    "            if jyn[j][2010] > 100 and jyn[j][2018] > 100:\n",
    "                jtr[j] = 1- np.dot(jyv[j][2018], jyv[j][2010])/(np.linalg.norm(jyv[j][2018])* np.linalg.norm(jyv[j][2010]))\n",
    "\n",
    "jtr = dict(sorted(jtr.items(), key=operator.itemgetter(1)))"
   ]
  },
  {
   "cell_type": "code",
   "execution_count": 71,
   "metadata": {},
   "outputs": [
    {
     "data": {
      "text/plain": [
       "(0.19677965685672907, 0.3553921568627451)"
      ]
     },
     "execution_count": 71,
     "metadata": {},
     "output_type": "execute_result"
    }
   ],
   "source": [
    "occ_scc['Computer Programmers'], occ_scc[\"Food Batchmakers\"]"
   ]
  },
  {
   "cell_type": "code",
   "execution_count": 74,
   "metadata": {},
   "outputs": [
    {
     "name": "stdout",
     "output_type": "stream",
     "text": [
      "(0.7618382894447562, 7.380695063066697e-139)\n"
     ]
    },
    {
     "data": {
      "image/png": "[encoded data removed]",
      "text/plain": [
       "<Figure size 576x288 with 2 Axes>"
      ]
     },
     "metadata": {
      "needs_background": "light"
     },
     "output_type": "display_data"
    }
   ],
   "source": [
    "fig = plt.figure(figsize=(8,4))\n",
    "ax2 = fig.add_subplot(121)\n",
    "sb = sorted(sdiffBC.values(), reverse=True)\n",
    "plt.plot(sb, color=\"orange\")\n",
    "plt.fill_between(range(len(sb)),sb,0,color=\"orange\", label=\"Food Batchmaker: 0.355\")\n",
    "sc=sorted(sdiffCC.values(), reverse=True)\n",
    "plt.plot(sc, color=\"steelblue\")\n",
    "plt.fill_between(range(len(sc)),sc,0,color=\"steelblue\", label=\"Computer Programmer: 0.197\")\n",
    "plt.legend(fontsize=10)\n",
    "plt.ylabel(\"Skill Community Share Change\", fontsize=16)\n",
    "plt.xlabel(\"Core Skills (by Community) Rank\", fontsize=16)        \n",
    "\n",
    "\n",
    "ax2 = fig.add_subplot(122)\n",
    "scc_vec = {}\n",
    "for j in sorted_occscc:\n",
    "    if j in jtr:\n",
    "        scc_vec[j] = (sorted_occscc[j],jtr[j])\n",
    "x,y = zip(*list(scc_vec.values()))\n",
    "print(pearsonr(np.log(x),np.log(y)))\n",
    "plt.scatter(x,y, label=\"r=0.76***\", color=\"grey\")\n",
    "\n",
    "# x=np.array(x).reshape(-1, 1)\n",
    "# y=np.array(y).reshape(-1, 1)\n",
    "# poly = PolynomialFeatures(degree = 1) \n",
    "# X_poly = poly.fit_transform(x) \n",
    "# poly.fit(X_poly, y) \n",
    "# lin2 = LinearRegression() \n",
    "# lin2.fit(X_poly, y) \n",
    "# xnew = np.linspace(0,3,100).reshape(-1, 1)\n",
    "# plt.plot(xnew, lin2.predict(poly.fit_transform(xnew)), color = '#a9cbd2', linewidth=5)\n",
    "\n",
    "plt.xlabel(\"Skill Community Change\", fontsize=16)\n",
    "plt.ylabel(\"Skill Vector Change\", fontsize=16)\n",
    "plt.legend(loc=2, fontsize=14)\n",
    "\n",
    "plt.ylim(1/1000,1)\n",
    "plt.xlim(1/100,1.1)\n",
    "plt.yscale(\"log\")\n",
    "plt.xscale(\"log\")\n",
    "plt.tight_layout()\n",
    "plt.savefig('/Users/ditong/Dropbox (MIT)/skills/SkillPaper/Results/IndividualFigure/SI/SI_ClusterVector.pdf') "
   ]
  },
  {
   "cell_type": "markdown",
   "metadata": {},
   "source": [
    "### Extended Data: Representativeness of Job Ads Data Collected by Burning Glass Technologies"
   ]
  },
  {
   "cell_type": "code",
   "execution_count": 7,
   "metadata": {},
   "outputs": [],
   "source": [
    "# BLS Education\n",
    "df_2018e=pd.read_excel('/Users/ditong/Dropbox (MIT)/skills/SkillPaper/IntermediateData/education.xlsx', \n",
    "                      sheet_name=\"Assignment\", header=1)\n",
    "\n",
    "eduy = []\n",
    "for i in df_2018e['Typical education needed for entry']:\n",
    "    if pd.isnull(i) == True:\n",
    "        eduy.append('nan')\n",
    "    elif i == 'No formal educational credential':\n",
    "        eduy.append(0)\n",
    "    elif i =='High school diploma or equivalent':\n",
    "        eduy.append(12)  \n",
    "    elif i in ['High school diploma or equivalent','Some college, no degree','Postsecondary nondegree award']:\n",
    "        eduy.append(12)\n",
    "#     elif i in ['Some college, no degree','Postsecondary nondegree award']:\n",
    "#         eduy.append(13)\n",
    "#     elif i in [\"Associate's degree\",'Some college, no degree','Postsecondary nondegree award']:\n",
    "#         eduy.append(14)\n",
    "    elif i == \"Associate's degree\":\n",
    "        eduy.append(14)\n",
    "    elif i == \"Bachelor's degree\":\n",
    "        eduy.append(16)\n",
    "    elif i == \"Master's degree\":\n",
    "        eduy.append(18)\n",
    "    elif i == \"Doctoral or professional degree\":\n",
    "        eduy.append(21)\n",
    "df_2018e['eduy']=eduy"
   ]
  },
  {
   "cell_type": "code",
   "execution_count": 10,
   "metadata": {},
   "outputs": [],
   "source": [
    "# bls pay and employment\n",
    "df_2018=pd.read_excel('/Users/ditong/Dropbox (MIT)/skills/SkillPaper/IntermediateData/national_M2018_dl.xlsx')\n",
    "df_2010=pd.read_excel('/Users/ditong/Dropbox (MIT)/skills/SkillPaper/IntermediateData/national_M2010_dl.xls')\n",
    "\n",
    "bls_on18 = {}\n",
    "bls_op18 = {}\n",
    "for i, j, k in zip(df_2018['OCC_TITLE'], df_2018['TOT_EMP'], df_2018['A_MEDIAN']):\n",
    "    if i in yjn[2018] and j != '*'and j !='#':\n",
    "        bls_on18[i] = j\n",
    "    if i in yjp[2018] and k != '*' and k !='#':\n",
    "        bls_op18[i] = k\n",
    "        \n",
    "bls_on10 = {}\n",
    "bls_op10 = {}\n",
    "for i, j, k in zip(df_2010['OCC_TITLE'], df_2010['TOT_EMP'], df_2010['A_MEDIAN']):\n",
    "    if i in yjn[2010]and j != '*' and j !='#':\n",
    "        bls_on10[i] = j\n",
    "    if i in yjp[2010] and k != '*' and k!= '#':\n",
    "        bls_op10[i] = k"
   ]
  },
  {
   "cell_type": "code",
   "execution_count": 53,
   "metadata": {},
   "outputs": [
    {
     "name": "stdout",
     "output_type": "stream",
     "text": [
      "(0.803481793733344, 9.100595501674793e-179)\n",
      "(0.7573028144504227, 1.472688577128253e-145)\n",
      "(0.8665497008620799, 1.314713665703486e-234)\n",
      "(0.8291506407884586, 6.969904131567013e-194)\n",
      "682\n",
      "(0.9155349192602655, 3.7376760681076806e-271)\n"
     ]
    },
    {
     "name": "stderr",
     "output_type": "stream",
     "text": [
      "<ipython-input-53-cb5cdec8fd12>:51: MatplotlibDeprecationWarning: The 'basex' parameter of __init__() has been renamed 'base' since Matplotlib 3.3; support for the old name will be dropped two minor releases later.\n",
      "  plt.xscale('log', basex=2)\n",
      "<ipython-input-53-cb5cdec8fd12>:52: MatplotlibDeprecationWarning: The 'basey' parameter of __init__() has been renamed 'base' since Matplotlib 3.3; support for the old name will be dropped two minor releases later.\n",
      "  plt.yscale('log', basey=2)\n"
     ]
    },
    {
     "data": {
      "image/png": "[encoded data removed]",
      "text/plain": [
       "<Figure size 864x288 with 3 Axes>"
      ]
     },
     "metadata": {
      "needs_background": "light"
     },
     "output_type": "display_data"
    }
   ],
   "source": [
    "fig = plt.figure(figsize=(12,4))\n",
    "ax0 = fig.add_subplot(131)\n",
    "bls_bgon = {}\n",
    "for j in bls_on18:\n",
    "    bls_bgon[j] = (yjn[2018][j], bls_on18[j])\n",
    "x,y = zip(*list(bls_bgon.values()))\n",
    "plt.scatter(x,y,color=\"coral\", label='2018, r=0.80'+ '***')\n",
    "corr1=pearsonr(np.log(x),np.log(y))\n",
    "print(corr1)\n",
    "\n",
    "bls_bgon = {}\n",
    "for j in bls_on10:\n",
    "    bls_bgon[j] = (yjn[2010][j], bls_on10[j])\n",
    "x,y = zip(*list(bls_bgon.values()))\n",
    "plt.scatter(x,y,color=\"royalblue\", label='2010, r=0.76'+ '***')\n",
    "corr2=pearsonr(np.log(x),np.log(y))\n",
    "print(corr2)\n",
    "\n",
    "#plt.ylim(1,4000000)\n",
    "plt.xlim(1,400000)\n",
    "plt.xscale('log')\n",
    "plt.yscale('log')\n",
    "plt.ylabel('BLS occupation employment', fontsize=14)\n",
    "plt.xlabel('BG occupation demand',fontsize=14)\n",
    "plt.plot([1,10**6], [1,10**6], 'r-')\n",
    "plt.plot([1,10**6], [10,10**7], 'k-')\n",
    "plt.legend(fontsize=14, loc=4)\n",
    "\n",
    "ax0 = fig.add_subplot(132)\n",
    "bls_bgop = {}\n",
    "for j in bls_op18:\n",
    "    bls_bgop[j] = (yjp[2018][j], float(bls_op18[j]))\n",
    "x,y = zip(*list(bls_bgop.values()))\n",
    "plt.scatter(x,y,color=\"purple\", label='2018, r=0.87'+ '***')\n",
    "corr1=pearsonr(np.log(x), np.log(y))\n",
    "print(corr1)\n",
    "\n",
    "bls_bgop = {}\n",
    "for j in bls_op10:\n",
    "    bls_bgop[j] = (yjp[2010][j], float(bls_op10[j]))\n",
    "x1,y1 = zip(*list(bls_bgop.values()))\n",
    "plt.scatter(x1,y1,color=\"pink\", label='2010, r=0.83'+ '***')\n",
    "corr2=pearsonr(np.log(x1), np.log(y1))\n",
    "print(corr2)\n",
    "\n",
    "plt.ylabel('BLS occupation annual median pay',fontsize=14)\n",
    "plt.xlabel('BG occupation annual median pay',fontsize=14)\n",
    "plt.xlim(15000, 200000)\n",
    "plt.ylim(15000, 250000)\n",
    "plt.plot([1,10**6], [1,10**6], 'r-')\n",
    "plt.xscale('log', basex=2)\n",
    "plt.yscale('log', basey=2)\n",
    "plt.legend(fontsize=14, loc=4)\n",
    "\n",
    "\n",
    "ax0 = fig.add_subplot(133)\n",
    "bls_bgoe = {}\n",
    "for i, j in zip(df_2018e['2018 National Employment Matrix title and code'], \n",
    "               df_2018e['eduy']):\n",
    "    if i.lower() in yje[2018] and j != 'nan' and j > 0: #and j != 13:\n",
    "        bls_bgoe[i.lower()] = (yje[2018][i.lower()], j)\n",
    "print(len(bls_bgoe))\n",
    "x,y = zip(*list(bls_bgoe.values()))\n",
    "plt.scatter(x,y,color=\"orange\", label='2018, r=0.92'+ '***')\n",
    "plt.ylabel('BLS occupation entry education',fontsize=14)\n",
    "plt.xlabel('BG occupation entry education',fontsize=14)\n",
    "plt.legend(fontsize=14, loc=4)\n",
    "corr=pearsonr(x, y)\n",
    "print(corr)\n",
    "plt.tight_layout()\n",
    "\n",
    "#plt.savefig('/Users/ditong/Dropbox (MIT)/skills/SkillPaper/Results/IndividualFigure/SI/BGValidation.pdf') "
   ]
  },
  {
   "cell_type": "markdown",
   "metadata": {},
   "source": [
    "## Robustness Checks"
   ]
  },
  {
   "cell_type": "markdown",
   "metadata": {},
   "source": [
    "### 1. Regression: control for employer concentration"
   ]
  },
  {
   "cell_type": "code",
   "execution_count": 5,
   "metadata": {},
   "outputs": [],
   "source": [
    "# job-core skill\n",
    "def YearJobSkillFreq(filename):\n",
    "    dictyjas = defaultdict(lambda:defaultdict(lambda:defaultdict(lambda:0)))\n",
    "    with open('/Users/ditong/Dropbox (MIT)/skills/SkillPaper/IntermediateData/'+filename, 'r') as f:\n",
    "        for line in f:\n",
    "            line_lst = line.split(\"\\t\")\n",
    "            job = line_lst[0]\n",
    "            year = int(line_lst[1])\n",
    "            skills = line_lst[2:]\n",
    "            if year != 2019:\n",
    "                if len(skills) > 5:\n",
    "                    for skill_tfidf in skills:\n",
    "                        skill = skill_tfidf.split('_')[0].lower()\n",
    "                        tfidf = float(skill_tfidf.split('_')[1])\n",
    "                        dictyjas[year][job][skill] = tfidf\n",
    "                        \n",
    "    return dictyjas\n",
    "\n",
    "def JobYearDefSkill(dictyjas, quant):\n",
    "    dictjys = defaultdict(lambda:defaultdict(lambda:[]))\n",
    "    for year in dictyjas:\n",
    "        for job in dictyjas[year]:\n",
    "            threshold = np.quantile(list(dictyjas[year][job].values()), [quant])\n",
    "            for skill in dictyjas[year][job]:\n",
    "                if dictyjas[year][job][skill] > threshold:\n",
    "                    dictjys[job][year].append(skill)\n",
    "            if len(dictjys[job][year]) < 5:\n",
    "                del dictjys[job][year]\n",
    "\n",
    "    return dictjys\n",
    "\n",
    "lcllocyjas = YearJobSkillFreq('lclloc_occ_year_skill_freq.txt')\n",
    "lcllocjys = JobYearDefSkill(lcllocyjas, 0.95)\n",
    "\n",
    "lcslocyjas = YearJobSkillFreq('lcsloc_occ_year_skill_freq.txt')\n",
    "lcslocjys = JobYearDefSkill(lcslocyjas, 0.95)\n",
    "\n",
    "scllocyjas = YearJobSkillFreq('sclloc_occ_year_skill_freq.txt')\n",
    "scllocjys = JobYearDefSkill(scllocyjas, 0.95)\n",
    "\n",
    "scslocyjas = YearJobSkillFreq('scsloc_occ_year_skill_freq.txt')\n",
    "scslocjys = JobYearDefSkill(scslocyjas, 0.95)"
   ]
  },
  {
   "cell_type": "code",
   "execution_count": 6,
   "metadata": {},
   "outputs": [
    {
     "data": {
      "text/plain": [
       "(830, 817, 816, 750)"
      ]
     },
     "execution_count": 6,
     "metadata": {},
     "output_type": "execute_result"
    }
   ],
   "source": [
    "len(lcllocjys), len(lcslocjys), len(scllocjys), len(scslocjys)"
   ]
  },
  {
   "cell_type": "code",
   "execution_count": 7,
   "metadata": {},
   "outputs": [],
   "source": [
    "# key independent variable: skill number\n",
    "def JobNSkill(dictjys):\n",
    "    dictosn = {}\n",
    "    for job in dictjys:\n",
    "        snlst = []\n",
    "        for yr in dictjys[job]:\n",
    "            if len(dictjys[job][yr]) != 0:\n",
    "                snlst.append(len(dictjys[job][yr]))\n",
    "        if snlst:\n",
    "            dictosn[job] = round(np.mean(snlst)) # np.log(round(np.mean(snlst)))\n",
    "    dictosn = dict(sorted(dictosn.items(), key=operator.itemgetter(1),reverse=True))\n",
    "    \n",
    "    return dictosn\n",
    "\n",
    "lcllocosn = JobNSkill(lcllocjys)\n",
    "lcslocosn = JobNSkill(lcslocjys)\n",
    "scllocosn = JobNSkill(scllocjys)\n",
    "scslocosn = JobNSkill(scslocjys)"
   ]
  },
  {
   "cell_type": "code",
   "execution_count": 12,
   "metadata": {},
   "outputs": [],
   "source": [
    "# key depedent variable: job skill change\n",
    "\n",
    "def JobChange(dictjys):\n",
    "    \n",
    "    dictjyv=defaultdict(lambda:defaultdict(lambda:''))\n",
    "    for j in dictjys:\n",
    "        for y in dictjys[j]:\n",
    "            dictjyv[j][y] = np.mean([model.wv[s] for s in dictjys[j][y] if s in model.wv], axis=0) \n",
    "    \n",
    "    dictjtr = {}\n",
    "    for j in dictjyv:\n",
    "        if 2010 in dictjyv[j] and 2018 in dictjyv[j]:\n",
    "            if j in jyn:\n",
    "                if jyn[j][2010] > 100 and jyn[j][2018] > 100:\n",
    "                    jtrrr = np.dot(dictjyv[j][2018], dictjyv[j][2010]\n",
    "                                  )/(np.linalg.norm(dictjyv[j][2018])* np.linalg.norm(dictjyv[j][2010]))\n",
    "                    if type(jtrrr) == np.float32:\n",
    "                        dictjtr[j] = 1 - jtrrr\n",
    "\n",
    "    dictjtr = dict(sorted(dictjtr.items(), key=operator.itemgetter(1)))\n",
    "    \n",
    "    return dictjtr\n",
    "\n",
    "lcllocjtr = JobChange(lcllocjys)\n",
    "lcslocjtr = JobChange(lcslocjys)\n",
    "scllocjtr = JobChange(scllocjys)\n",
    "scslocjtr = JobChange(scslocjys)"
   ]
  },
  {
   "cell_type": "code",
   "execution_count": 13,
   "metadata": {},
   "outputs": [],
   "source": [
    "# occupations that appear in all 4 datasets\n",
    "commonj=list(set(lcllocjtr.keys()).intersection(set(lcslocjtr)).intersection(set(scllocjtr)).intersection(set(scslocjtr)))"
   ]
  },
  {
   "cell_type": "code",
   "execution_count": 15,
   "metadata": {},
   "outputs": [],
   "source": [
    "# key control: employer concentration\n",
    "Lloc_OCCYEC=defaultdict(lambda:[])\n",
    "with open('/Users/ditong/Dropbox (MIT)/skills/SkillPaper/IntermediateData/LLOCyear_occ_empcon.txt', 'r') as f1:\n",
    "    for line in f1:\n",
    "        line_lst = line.split('\\t')\n",
    "        yr = int(line_lst[0])\n",
    "        occ = line_lst[1]\n",
    "        ec = float(line_lst[2])\n",
    "        if not np.isnan(ec):\n",
    "            Lloc_OCCYEC[occ].append(ec)\n",
    "            \n",
    "Lloc_OCCEC=defaultdict(lambda:0)\n",
    "for occ in Lloc_OCCYEC:\n",
    "    Lloc_OCCEC[occ] = np.mean(Lloc_OCCYEC[occ])\n",
    "\n",
    "Sloc_OCCYEC=defaultdict(lambda:[])\n",
    "with open('/Users/ditong/Dropbox (MIT)/skills/SkillPaper/IntermediateData/SLOCyear_occ_empcon.txt', 'r') as f1:\n",
    "    for line in f1:\n",
    "        line_lst = line.split('\\t')\n",
    "        yr = int(line_lst[0])\n",
    "        occ = line_lst[1]\n",
    "        ec = float(line_lst[2])\n",
    "        if not np.isnan(ec):\n",
    "            Sloc_OCCYEC[occ].append(ec)\n",
    "            \n",
    "Sloc_OCCEC=defaultdict(lambda:0)\n",
    "for occ in Sloc_OCCYEC:\n",
    "    Sloc_OCCEC[occ] = np.mean(Sloc_OCCYEC[occ])"
   ]
  },
  {
   "cell_type": "code",
   "execution_count": 19,
   "metadata": {},
   "outputs": [],
   "source": [
    "# put variables in a dataframe\n",
    "reg_df=pd.DataFrame(columns = ['Occupation', 'SkillChange', 'LogSkillN', 'LogSkillNAll', 'Education', 'LogPay', 'LargeEmployer',\n",
    "                'LargeMarket','EmployerConcentration', 'LargeEmployer_LogSkillN', 'LargeMarket_LogSkillN',\n",
    "                               'LargeEmployer_LogSkillNAll', 'LargeMarket_LogSkillNAll',\n",
    "                    'LargeEmployer_LogPay', 'LargeMarket_LogPay', 'LargeEmployer_Education', 'LargeMarket_Education'])\n",
    "\n",
    "for j in lcllocjtr:\n",
    "    if j in lcllocosn and j in oe and j in op and j in Lloc_OCCEC: #and j in commonj:\n",
    "        reg_df=reg_df.append({'Occupation': j, 'SkillChange': lcllocjtr[j], 'LogSkillN': np.log(lcllocosn[j]), \n",
    "    'LogSkillNAll': np.log(osn[j]), 'Education': oe[j], 'LogPay': np.log(op[j]), 'LargeEmployer': 1, 'LargeMarket': 1,\n",
    "    'EmployerConcentration': Lloc_OCCEC[j]**2, 'LargeEmployer_LogSkillN': 1*np.log(lcllocosn[j]), \n",
    "    'LargeMarket_LogSkillN': 1*np.log(lcllocosn[j]),'LargeEmployer_LogSkillNAll': 1*np.log(osn[j]), \n",
    "    'LargeMarket_LogSkillNAll': 1*np.log(osn[j]),'LargeEmployer_LogPay':1*np.log(op[j]), 'LargeMarket_LogPay': 1*np.log(op[j]), \n",
    "                'LargeEmployer_Education': 1*oe[j], 'LargeMarket_Education': 1*oe[j]}, ignore_index = True)\n",
    "\n",
    "for j in  lcslocjtr:\n",
    "    if j in lcslocosn and j in oe and j in op and j in Sloc_OCCEC: # and j in commonj:\n",
    "        reg_df=reg_df.append({'Occupation': j,'SkillChange':  lcslocjtr[j], 'LogSkillN': np.log(lcslocosn[j]), \n",
    "                              'LogSkillNAll': np.log(osn[j]),\n",
    "    'Education': oe[j], 'LogPay': np.log(op[j]), 'LargeEmployer': 1, 'LargeMarket': 0,'EmployerConcentration': Sloc_OCCEC[j]**2, \n",
    "                'LargeEmployer_LogSkillN': 1*np.log(lcslocosn[j]), 'LargeMarket_LogSkillN': 0*np.log(lcslocosn[j]),\n",
    "                'LargeEmployer_LogSkillNAll': 1*np.log(osn[j]), 'LargeMarket_LogSkillNAll': 0*np.log(osn[j]),\n",
    "                'LargeEmployer_LogPay':1*np.log(op[j]), 'LargeMarket_LogPay': 0*np.log(op[j]), \n",
    "                'LargeEmployer_Education': 1*oe[j], 'LargeMarket_Education': 0*oe[j]}, ignore_index = True)\n",
    "        \n",
    "for j in scllocjtr:\n",
    "    if j in scllocosn and j in oe and j in op and j in Lloc_OCCEC: # and j in commonj:\n",
    "        reg_df=reg_df.append({'Occupation': j, 'SkillChange':scllocjtr[j], 'LogSkillN': np.log(scllocosn[j]), \n",
    "                              'LogSkillNAll': np.log(osn[j]), \n",
    "    'Education': oe[j], 'LogPay': np.log(op[j]), 'LargeEmployer': 0, 'LargeMarket': 1,'EmployerConcentration': Lloc_OCCEC[j]**2, \n",
    "                'LargeEmployer_LogSkillN': 0*np.log(scllocosn[j]), 'LargeMarket_LogSkillN': 1*np.log(scllocosn[j]),\n",
    "                'LargeEmployer_LogSkillNAll': 0*np.log(osn[j]), 'LargeMarket_LogSkillNAll': 1*np.log(osn[j]),\n",
    "                'LargeEmployer_LogPay':0*np.log(op[j]), 'LargeMarket_LogPay': 1*np.log(op[j]), \n",
    "                'LargeEmployer_Education': 0*oe[j], 'LargeMarket_Education': 1*oe[j]}, ignore_index = True)\n",
    "        \n",
    "for j in scslocjtr:\n",
    "    if j in scslocosn and j in oe and j in op and j in Sloc_OCCEC: # and j in commonj:\n",
    "        reg_df=reg_df.append({'Occupation': j, 'SkillChange': scslocjtr[j], 'LogSkillN': np.log(scslocosn[j]), \n",
    "                              'LogSkillNAll': np.log(osn[j]),\n",
    "    'Education': oe[j], 'LogPay': np.log(op[j]), 'LargeEmployer': 0, 'LargeMarket': 0,'EmployerConcentration': Sloc_OCCEC[j]**2, \n",
    "                'LargeEmployer_LogSkillN': 0*np.log(scslocosn[j]), 'LargeMarket_LogSkillN': 0*np.log(scslocosn[j]),\n",
    "                'LargeEmployer_LogSkillNAll': 0*np.log(osn[j]), 'LargeMarket_LogSkillNAll': 0*np.log(osn[j]),\n",
    "                'LargeEmployer_LogPay':0*np.log(op[j]), 'LargeMarket_LogPay': 0*np.log(op[j]), \n",
    "                'LargeEmployer_Education': 0*oe[j], 'LargeMarket_Education': 0*oe[j]}, ignore_index = True)\n",
    "#reg_df = reg_df.set_index(['Occupation'])"
   ]
  },
  {
   "cell_type": "code",
   "execution_count": 20,
   "metadata": {},
   "outputs": [
    {
     "data": {
      "text/plain": [
       "(array([ 52.,  74., 120., 151., 187., 217., 239., 242., 339., 203.]),\n",
       " array([0.00869879, 0.10580225, 0.20290571, 0.30000916, 0.39711262,\n",
       "        0.49421608, 0.59131954, 0.68842299, 0.78552645, 0.88262991,\n",
       "        0.97973337]),\n",
       " <BarContainer object of 10 artists>)"
      ]
     },
     "execution_count": 20,
     "metadata": {},
     "output_type": "execute_result"
    },
    {
     "data": {
      "image/png": "[encoded data removed]",
      "text/plain": [
       "<Figure size 432x288 with 1 Axes>"
      ]
     },
     "metadata": {
      "needs_background": "light"
     },
     "output_type": "display_data"
    }
   ],
   "source": [
    "plt.hist(reg_df['EmployerConcentration'])"
   ]
  },
  {
   "cell_type": "code",
   "execution_count": 21,
   "metadata": {},
   "outputs": [
    {
     "data": {
      "text/html": [
       "Explaining Job Skill Change Variation with Skill Complexity<br><table style=\"text-align:center\"><tr><td colspan=\"7\" style=\"border-bottom: 1px solid black\"></td></tr><tr><td style=\"text-align:left\"></td><td colspan=\"6\"><em>Dependent variable:SkillChange</em></td></tr><tr><td style=\"text-align:left\"></td><tr><td></td><td colspan=\"1\">Model 1</td><td colspan=\"1\">Model 2</td><td colspan=\"1\">Model 3</td><td colspan=\"1\">Model 4</td><td colspan=\"1\">Model 5</td><td colspan=\"1\">Model 6</td></tr><tr><td colspan=\"7\" style=\"border-bottom: 1px solid black\"></td></tr><tr><td style=\"text-align:left\">Skill Complexity</td><td>-0.043<sup>***</sup></td><td></td><td></td><td>-0.034<sup>***</sup></td><td></td><td></td></tr><tr><td style=\"text-align:left\"></td><td>(0.002)</td><td></td><td></td><td>(0.002)</td><td></td><td></td></tr><tr><td style=\"text-align:left\">Log Annual Pay</td><td></td><td>-0.025<sup>***</sup></td><td></td><td></td><td>-0.023<sup>***</sup></td><td></td></tr><tr><td style=\"text-align:left\"></td><td></td><td>(0.004)</td><td></td><td></td><td>(0.003)</td><td></td></tr><tr><td style=\"text-align:left\">Education</td><td></td><td></td><td>-0.004<sup>***</sup></td><td></td><td></td><td>-0.004<sup>***</sup></td></tr><tr><td style=\"text-align:left\"></td><td></td><td></td><td>(0.001)</td><td></td><td></td><td>(0.001)</td></tr><tr><td style=\"text-align:left\">Sq. Emp. Concentr.</td><td></td><td></td><td></td><td>0.070<sup>***</sup></td><td>0.109<sup>***</sup></td><td>0.111<sup>***</sup></td></tr><tr><td style=\"text-align:left\"></td><td></td><td></td><td></td><td>(0.005)</td><td>(0.006)</td><td>(0.006)</td></tr><td colspan=\"7\" style=\"border-bottom: 1px solid black\"></td></tr><tr><td style=\"text-align: left\">Observations</td><td>1,824</td><td>1,824</td><td>1,824</td><td>1,824</td><td>1,824</td><td>1,824</td></tr><tr><td style=\"text-align: left\">R<sup>2</sup></td><td>0.263</td><td>0.023</td><td>0.019</td><td>0.324</td><td>0.196</td><td>0.197</td></tr><tr><td style=\"text-align: left\">Adjusted R<sup>2</sup></td><td>0.262</td><td>0.023</td><td>0.018</td><td>0.323</td><td>0.195</td><td>0.196</td></tr><tr><td style=\"text-align: left\">Residual Std. Error</td><td>0.054 (df=1822)</td><td>0.062 (df=1822)</td><td>0.062 (df=1822)</td><td>0.052 (df=1821)</td><td>0.056 (df=1821)</td><td>0.056 (df=1821)</td></tr><tr><td style=\"text-align: left\">F Statistic</td><td>649.854<sup>***</sup> (df=1; 1822)</td><td>43.328<sup>***</sup> (df=1; 1822)</td><td>35.102<sup>***</sup> (df=1; 1822)</td><td>435.946<sup>***</sup> (df=2; 1821)</td><td>221.279<sup>***</sup> (df=2; 1821)</td><td>223.380<sup>***</sup> (df=2; 1821)</td></tr><tr><td colspan=\"7\" style=\"border-bottom: 1px solid black\"></td></tr><tr><td style=\"text-align: left\">Note:</td>\n",
       " <td colspan=\"6\" style=\"text-align: right\">\n",
       "  <sup>*</sup>p&lt;0.05;\n",
       "  <sup>**</sup>p&lt;0.01;\n",
       "  <sup>***</sup>p&lt;0.001\n",
       " </td></tr></table>"
      ],
      "text/plain": [
       "<stargazer.stargazer.Stargazer at 0x1ff96d6af70>"
      ]
     },
     "execution_count": 21,
     "metadata": {},
     "output_type": "execute_result"
    }
   ],
   "source": [
    "mod1 = smf.ols('SkillChange ~ LogSkillNAll', data=reg_df)\n",
    "res1 = mod1.fit()\n",
    "\n",
    "mod2= smf.ols('SkillChange ~ Education', data=reg_df)\n",
    "res2 = mod2.fit()\n",
    "\n",
    "mod3= smf.ols('SkillChange ~ LogPay', data=reg_df)\n",
    "res3 = mod3.fit()\n",
    "\n",
    "mod5= smf.ols('SkillChange ~ LogSkillNAll + EmployerConcentration', data=reg_df)\n",
    "res5 = mod5.fit()\n",
    "\n",
    "mod6= smf.ols('SkillChange ~ Education + EmployerConcentration', data=reg_df)\n",
    "res6 = mod6.fit()\n",
    "\n",
    "mod7= smf.ols('SkillChange ~ LogPay + EmployerConcentration', data=reg_df)\n",
    "res7 = mod7.fit()\n",
    "\n",
    "stargazer = Stargazer([res1, res3, res2, res5, res7, res6])\n",
    "\n",
    "stargazer.title('Explaining Job Skill Change Variation with Skill Complexity')\n",
    "stargazer.custom_columns(['Model 1', 'Model 2', 'Model 3', 'Model 4', 'Model 5', 'Model 6'], [1, 1, 1, 1, 1, 1])\n",
    "stargazer.show_model_numbers(False)\n",
    "stargazer.covariate_order(['LogSkillNAll', 'LogPay', 'Education', 'EmployerConcentration'])\n",
    "\n",
    "stargazer.rename_covariates({'LogSkillNAll': 'Skill Complexity', 'LogPay': 'Log Annual Pay', \n",
    "    'Education': 'Education', 'EmployerConcentration': 'Sq. Emp. Concentr.'})\n",
    "stargazer.significance_levels([0.05, 0.01, 0.001])\n",
    "stargazer"
   ]
  },
  {
   "cell_type": "code",
   "execution_count": 22,
   "metadata": {},
   "outputs": [
    {
     "name": "stdout",
     "output_type": "stream",
     "text": [
      "\\begin{table}[!htbp] \\centering\n",
      "  \\caption{Explaining Job Skill Change Variation with Skill Complexity}\n",
      "\\begin{tabular}{@{\\extracolsep{5pt}}lcccccc}\n",
      "\\\\[-1.8ex]\\hline\n",
      "\\hline \\\\[-1.8ex]\n",
      "& \\multicolumn{6}{c}{\\textit{Dependent variable:}} \\\n",
      "\\cr \\cline{6-7}\n",
      "\\\\[-1.8ex] & \\multicolumn{1}{c}{Model 1} & \\multicolumn{1}{c}{Model 2} & \\multicolumn{1}{c}{Model 3} & \\multicolumn{1}{c}{Model 4} & \\multicolumn{1}{c}{Model 5} & \\multicolumn{1}{c}{Model 6}  \\\\\n",
      "\\hline \\\\[-1.8ex]\n",
      " Skill Complexity & -0.043$^{***}$ & & & -0.034$^{***}$ & & \\\\\n",
      "  & (0.002) & & & (0.002) & & \\\\\n",
      " Log Annual Pay & & -0.025$^{***}$ & & & -0.023$^{***}$ & \\\\\n",
      "  & & (0.004) & & & (0.003) & \\\\\n",
      " Education & & & -0.004$^{***}$ & & & -0.004$^{***}$ \\\\\n",
      "  & & & (0.001) & & & (0.001) \\\\\n",
      " Sq. Emp. Concentr. & & & & 0.070$^{***}$ & 0.109$^{***}$ & 0.111$^{***}$ \\\\\n",
      "  & & & & (0.005) & (0.006) & (0.006) \\\\\n",
      "\\hline \\\\[-1.8ex]\n",
      " Observations & 1,824 & 1,824 & 1,824 & 1,824 & 1,824 & 1,824 \\\\\n",
      " $R^2$ & 0.263 & 0.023 & 0.019 & 0.324 & 0.196 & 0.197 \\\\\n",
      " Adjusted $R^2$ & 0.262 & 0.023 & 0.018 & 0.323 & 0.195 & 0.196 \\\\\n",
      " Residual Std. Error & 0.054(df = 1822) & 0.062(df = 1822) & 0.062(df = 1822) & 0.052(df = 1821) & 0.056(df = 1821) & 0.056(df = 1821)  \\\\\n",
      " F Statistic & 649.854$^{***}$ (df = 1.0; 1822.0) & 43.328$^{***}$ (df = 1.0; 1822.0) & 35.102$^{***}$ (df = 1.0; 1822.0) & 435.946$^{***}$ (df = 2.0; 1821.0) & 221.279$^{***}$ (df = 2.0; 1821.0) & 223.380$^{***}$ (df = 2.0; 1821.0) \\\\\n",
      "\\hline\n",
      "\\hline \\\\[-1.8ex]\n",
      "\\textit{Note:} & \\multicolumn{6}{r}{$^{*}$p$<$0.05; $^{**}$p$<$0.01; $^{***}$p$<$0.001} \\\\\n",
      "\\end{tabular}\n",
      "\\end{table}\n"
     ]
    }
   ],
   "source": [
    "print(stargazer.render_latex())"
   ]
  },
  {
   "cell_type": "code",
   "execution_count": 23,
   "metadata": {},
   "outputs": [
    {
     "data": {
      "text/html": [
       "Explaining Job Skill Change Variation with Employer and Market size<br><table style=\"text-align:center\"><tr><td colspan=\"7\" style=\"border-bottom: 1px solid black\"></td></tr><tr><td style=\"text-align:left\"></td><td colspan=\"6\"><em>Dependent variable:SkillChange</em></td></tr><tr><td style=\"text-align:left\"></td><tr><td></td><td colspan=\"1\">Model 1</td><td colspan=\"1\">Model 2</td><td colspan=\"1\">Model 3</td><td colspan=\"1\">Model 4</td><td colspan=\"1\">Model 5</td><td colspan=\"1\">Model 6</td></tr><tr><td colspan=\"7\" style=\"border-bottom: 1px solid black\"></td></tr><tr><td style=\"text-align:left\">Large Employer</td><td>-0.018<sup>***</sup></td><td></td><td>-0.024<sup>***</sup></td><td>-0.066<sup>***</sup></td><td></td><td>-0.117<sup>***</sup></td></tr><tr><td style=\"text-align:left\"></td><td>(0.002)</td><td></td><td>(0.002)</td><td>(0.017)</td><td></td><td>(0.015)</td></tr><tr><td style=\"text-align:left\">Large Market</td><td></td><td>-0.036<sup>***</sup></td><td>-0.077<sup>***</sup></td><td></td><td>-0.109<sup>***</sup></td><td>-0.144<sup>***</sup></td></tr><tr><td style=\"text-align:left\"></td><td></td><td>(0.002)</td><td>(0.008)</td><td></td><td>(0.015)</td><td>(0.015)</td></tr><tr><td style=\"text-align:left\">LE * SC</td><td></td><td></td><td></td><td>0.011<sup>**</sup></td><td></td><td>0.020<sup>***</sup></td></tr><tr><td style=\"text-align:left\"></td><td></td><td></td><td></td><td>(0.004)</td><td></td><td>(0.003)</td></tr><tr><td style=\"text-align:left\">LM * SC</td><td></td><td></td><td></td><td></td><td>0.016<sup>***</sup></td><td>0.023<sup>***</sup></td></tr><tr><td style=\"text-align:left\"></td><td></td><td></td><td></td><td></td><td>(0.003)</td><td>(0.005)</td></tr><tr><td style=\"text-align:left\">Sq. Emp. Concentr.</td><td></td><td></td><td>-0.086<sup>***</sup></td><td></td><td></td><td>0.004<sup></sup></td></tr><tr><td style=\"text-align:left\"></td><td></td><td></td><td>(0.019)</td><td></td><td></td><td>(0.028)</td></tr><tr><td style=\"text-align: left\">Occ. FE</td><td>Yes</td><td>Yes</td><td>Yes</td><td>Yes</td><td>Yes</td><td>Yes</td></tr><td colspan=\"7\" style=\"border-bottom: 1px solid black\"></td></tr><tr><td style=\"text-align: left\">Observations</td><td>1,824</td><td>1,824</td><td>1,824</td><td>1,824</td><td>1,824</td><td>1,824</td></tr><tr><td style=\"text-align: left\">R<sup>2</sup></td><td>0.652</td><td>0.705</td><td>0.738</td><td>0.654</td><td>0.711</td><td>0.751</td></tr><tr><td style=\"text-align: left\">Adjusted R<sup>2</sup></td><td>0.459</td><td>0.542</td><td>0.593</td><td>0.462</td><td>0.551</td><td>0.612</td></tr><tr><td style=\"text-align: left\">Residual Std. Error</td><td>0.046 (df=1174)</td><td>0.042 (df=1174)</td><td>0.040 (df=1172)</td><td>0.046 (df=1173)</td><td>0.042 (df=1173)</td><td>0.039 (df=1170)</td></tr><tr><td style=\"text-align: left\">F Statistic</td><td>3.382<sup>***</sup> (df=649; 1174)</td><td>4.327<sup>***</sup> (df=649; 1174)</td><td>5.081<sup>***</sup> (df=651; 1172)</td><td>3.411<sup>***</sup> (df=650; 1173)</td><td>4.436<sup>***</sup> (df=650; 1173)</td><td>5.408<sup>***</sup> (df=653; 1170)</td></tr><tr><td colspan=\"7\" style=\"border-bottom: 1px solid black\"></td></tr><tr><td style=\"text-align: left\">Note:</td>\n",
       " <td colspan=\"6\" style=\"text-align: right\">\n",
       "  <sup>*</sup>p&lt;0.05;\n",
       "  <sup>**</sup>p&lt;0.01;\n",
       "  <sup>***</sup>p&lt;0.001\n",
       " </td></tr><tr><td></td><td colspan=\"6\" style=\"text-align: right\">LE refers to Large Employer dummy. LM refers to Large Market dummy. SC refers to Skill Complexity of job, which is measured by the log number of top 5\\% core skills. Sq. Emp. Concentr. refers to squared employer concentration.</td></tr></table>"
      ],
      "text/plain": [
       "<stargazer.stargazer.Stargazer at 0x1ff97280af0>"
      ]
     },
     "execution_count": 23,
     "metadata": {},
     "output_type": "execute_result"
    }
   ],
   "source": [
    "resf1 =  smf.ols(\"SkillChange ~ LargeEmployer + C(Occupation)\", data=reg_df).fit()\n",
    "resf2 =  smf.ols(\"SkillChange ~ LargeMarket + C(Occupation)\", data=reg_df).fit()\n",
    "resf3 =  smf.ols(\"SkillChange ~ LargeEmployer + LargeMarket + C(Occupation)+ EmployerConcentration\", data=reg_df).fit()\n",
    "resf4 =  smf.ols(\"SkillChange ~ LargeEmployer + LargeEmployer_LogSkillNAll + C(Occupation)\", data=reg_df).fit()\n",
    "resf5 =  smf.ols(\"SkillChange ~ LargeMarket + LargeMarket_LogSkillNAll + C(Occupation)\", data=reg_df).fit()\n",
    "resf6 =  smf.ols(\"SkillChange ~ LargeEmployer + LargeMarket + LargeEmployer_LogSkillNAll + LargeMarket_LogSkillNAll + C(Occupation)+ EmployerConcentration\", \n",
    "                 data=reg_df).fit()\n",
    "\n",
    "stargazerf = Stargazer([resf1, resf2, resf3, resf4, resf5, resf6])\n",
    "\n",
    "stargazerf.title('Explaining Job Skill Change Variation with Employer and Market size')\n",
    "stargazerf.custom_columns(['Model 1', 'Model 2', 'Model 3', 'Model 4', 'Model 5', 'Model 6'], [1, 1, 1, 1, 1, 1])\n",
    "stargazerf.show_model_numbers(False)\n",
    "stargazerf.covariate_order(['LargeEmployer[T.1]', 'LargeMarket[T.1]', 'LargeEmployer_LogSkillNAll', 'LargeMarket_LogSkillNAll',\n",
    "                            'EmployerConcentration'])\n",
    "stargazerf.rename_covariates({'LargeEmployer[T.1]': 'Large Employer', 'LargeMarket[T.1]': 'Large Market', \n",
    "    'LargeEmployer_LogSkillNAll': 'LE * SC', 'LargeMarket_LogSkillNAll': 'LM * SC', 'EmployerConcentration': 'Sq. Emp. Concentr.'})\n",
    "stargazerf.significance_levels([0.05, 0.01, 0.001])\n",
    "stargazerf.add_line('Occ. FE', ['Yes', 'Yes', 'Yes', 'Yes', 'Yes', 'Yes'])\n",
    "stargazerf.add_custom_notes(['LE refers to Large Employer dummy. LM refers to Large Market dummy. SC refers to Skill Complexity of job, which is measured by the log number of top 5\\% core skills. Sq. Emp. Concentr. refers to squared employer concentration.'])\n",
    "stargazerf"
   ]
  },
  {
   "cell_type": "code",
   "execution_count": 24,
   "metadata": {},
   "outputs": [
    {
     "name": "stdout",
     "output_type": "stream",
     "text": [
      "\\begin{table}[!htbp] \\centering\n",
      "  \\caption{Explaining Job Skill Change Variation with Employer and Market size}\n",
      "\\begin{tabular}{@{\\extracolsep{5pt}}lcccccc}\n",
      "\\\\[-1.8ex]\\hline\n",
      "\\hline \\\\[-1.8ex]\n",
      "& \\multicolumn{6}{c}{\\textit{Dependent variable:}} \\\n",
      "\\cr \\cline{6-7}\n",
      "\\\\[-1.8ex] & \\multicolumn{1}{c}{Model 1} & \\multicolumn{1}{c}{Model 2} & \\multicolumn{1}{c}{Model 3} & \\multicolumn{1}{c}{Model 4} & \\multicolumn{1}{c}{Model 5} & \\multicolumn{1}{c}{Model 6}  \\\\\n",
      "\\hline \\\\[-1.8ex]\n",
      " Large Employer & -0.018$^{***}$ & & -0.024$^{***}$ & -0.066$^{***}$ & & -0.117$^{***}$ \\\\\n",
      "  & (0.002) & & (0.002) & (0.017) & & (0.015) \\\\\n",
      " Large Market & & -0.036$^{***}$ & -0.077$^{***}$ & & -0.109$^{***}$ & -0.144$^{***}$ \\\\\n",
      "  & & (0.002) & (0.008) & & (0.015) & (0.015) \\\\\n",
      " LE * SC & & & & 0.011$^{**}$ & & 0.020$^{***}$ \\\\\n",
      "  & & & & (0.004) & & (0.003) \\\\\n",
      " LM * SC & & & & & 0.016$^{***}$ & 0.023$^{***}$ \\\\\n",
      "  & & & & & (0.003) & (0.005) \\\\\n",
      " Sq. Emp. Concentr. & & & -0.086$^{***}$ & & & 0.004$^{}$ \\\\\n",
      "  & & & (0.019) & & & (0.028) \\\\\n",
      " Occ. FE & Yes & Yes & Yes & Yes & Yes & Yes \\\\\n",
      "\\hline \\\\[-1.8ex]\n",
      " Observations & 1,824 & 1,824 & 1,824 & 1,824 & 1,824 & 1,824 \\\\\n",
      " $R^2$ & 0.652 & 0.705 & 0.738 & 0.654 & 0.711 & 0.751 \\\\\n",
      " Adjusted $R^2$ & 0.459 & 0.542 & 0.593 & 0.462 & 0.551 & 0.612 \\\\\n",
      " Residual Std. Error & 0.046(df = 1174) & 0.042(df = 1174) & 0.040(df = 1172) & 0.046(df = 1173) & 0.042(df = 1173) & 0.039(df = 1170)  \\\\\n",
      " F Statistic & 3.382$^{***}$ (df = 649.0; 1174.0) & 4.327$^{***}$ (df = 649.0; 1174.0) & 5.081$^{***}$ (df = 651.0; 1172.0) & 3.411$^{***}$ (df = 650.0; 1173.0) & 4.436$^{***}$ (df = 650.0; 1173.0) & 5.408$^{***}$ (df = 653.0; 1170.0) \\\\\n",
      "\\hline\n",
      "\\hline \\\\[-1.8ex]\n",
      "\\textit{Note:} & \\multicolumn{6}{r}{$^{*}$p$<$0.05; $^{**}$p$<$0.01; $^{***}$p$<$0.001} \\\\\n",
      " & \\multicolumn{6}{r}\\textit{LE refers to Large Employer dummy. LM refers to Large Market dummy. SC refers to Skill Complexity of job, which is measured by the log number of top 5\\% core skills. Sq. Emp. Concentr. refers to squared employer concentration.} \\\\\n",
      "\\end{tabular}\n",
      "\\end{table}\n"
     ]
    }
   ],
   "source": [
    "print(stargazerf.render_latex())"
   ]
  },
  {
   "cell_type": "code",
   "execution_count": null,
   "metadata": {},
   "outputs": [],
   "source": [
    "# correlation and coefficients for main analyses\n",
    "\n",
    "# main analysis coefficients for three measurements\n",
    "\n",
    "# # skill number and our transformation pressures\n",
    "# sn_tr = {}\n",
    "# for j in osn:\n",
    "#     if j in jtr:\n",
    "#         sn_tr[j] = (osn[j], jtr[j])\n",
    "# x,y = zip(*list(sn_tr.values()))\n",
    "# print(\"skill # and transformation\", pearsonr(x,y))\n",
    "# X = sm.add_constant(x)\n",
    "# results = sm.OLS(y,X).fit()\n",
    "# print(results.summary())\n",
    "# print(\"\\n\")\n",
    "\n",
    "# # skill number and Deming's original measurement\n",
    "# sn_trD = {}\n",
    "# for j in osn:\n",
    "#     if j in SOCR:\n",
    "#         sn_trD[j] = (osn[j], SOCR[j])\n",
    "# x,y = zip(*list(sn_trD.values()))\n",
    "# print(\"skill # and Deming's original measurement\", pearsonr(x,y))\n",
    "# X = sm.add_constant(x)\n",
    "# results = sm.OLS(y,X).fit()\n",
    "# print(results.summary())\n",
    "# print(\"\\n\")\n",
    "\n",
    "# # skill number and replicated Deming's measurement 19-07\n",
    "# sn_tr97 = {}\n",
    "# for j in osn:\n",
    "#     if j in occsc97:\n",
    "#         sn_tr97[j] = (osn[j], occsc97[j])\n",
    "# x,y = zip(*list(sn_tr97.values()))\n",
    "# print(\"skill # and Replicated 19-07 measurment\", pearsonr(x,y))\n",
    "# X = sm.add_constant(x)\n",
    "# results = sm.OLS(y,X).fit()\n",
    "# print(results.summary())\n",
    "# print(\"\\n\")\n",
    "\n",
    "# # skill number and replicated Deming's measurement 18-10\n",
    "# sn_tr80 = {}\n",
    "# for j in osn:\n",
    "#     if j in occsc80:\n",
    "#         sn_tr80[j] = (osn[j], occsc80[j])\n",
    "# x,y = zip(*list(sn_tr80.values()))\n",
    "# print(\"skill # and Replicated 18-10 measurment\", pearsonr(x,y))\n",
    "# X = sm.add_constant(x)\n",
    "# results = sm.OLS(y,X).fit()\n",
    "# print(results.summary())\n",
    "# print(\"\\n\")\n",
    "\n",
    "# education and job transformation\n",
    "# e_tr = {}\n",
    "# for j in jtr:\n",
    "#     if j in oe:\n",
    "#         e_tr[j] = (oe[j], jtr[j])\n",
    "# x,y = zip(*list(e_tr.values()))\n",
    "# print(\"education and transformation\",pearsonr(x,y))\n",
    "# x = sm.add_constant(x)\n",
    "# results = sm.OLS(y,x).fit()\n",
    "# print(results.summary())  \n",
    "# print(\"\\n\")\n",
    "\n",
    "# # pay and job transformation\n",
    "# p_tr = {}\n",
    "# for j in jtr:\n",
    "#     if j in op:\n",
    "#         p_tr[j] = (jtr[j], np.log(op[j]))\n",
    "# m,n = zip(*list(p_tr.values()))\n",
    "# print(\"transformation and pay\", pearsonr(m,n))\n",
    "# m = sm.add_constant(m)\n",
    "# results = sm.OLS(n,m).fit()\n",
    "# print(results.summary()) \n",
    "# print(\"\\n\")"
   ]
  },
  {
   "cell_type": "markdown",
   "metadata": {},
   "source": [
    "### 2. Regression: different job content scope with skill weights"
   ]
  },
  {
   "cell_type": "code",
   "execution_count": 25,
   "metadata": {},
   "outputs": [],
   "source": [
    "# weights for each skill for each job\n",
    "jysw=defaultdict(lambda:defaultdict(lambda:defaultdict(lambda:0)))\n",
    "for yr in yjas:\n",
    "    for j in yjas[yr]:\n",
    "        freqsum=np.sum(list(yjas[yr][j].values()))\n",
    "        for s in yjas[yr][j]:\n",
    "            jysw[j][yr][s] = yjas[yr][j][s] / freqsum        "
   ]
  },
  {
   "cell_type": "code",
   "execution_count": 26,
   "metadata": {},
   "outputs": [],
   "source": [
    "# 200 dimension Job-Year-Vector\n",
    "jyv_w = defaultdict(lambda:defaultdict(lambda:''))\n",
    "for j in jysw:\n",
    "    for y in jysw[j]:\n",
    "        jyv_w[j][y] = np.sum([model.wv[s]*jysw[j][y][s] for s in jysw[j][y].keys() if s in model.wv],axis=0)\n",
    "\n",
    "# job change from 2010 to 2018: 1 - dot product between 2 job vectors\n",
    "jtr_w = {}\n",
    "for j in jyv_w:\n",
    "    if 2010 in jyv_w[j] and 2018 in jyv_w[j]:\n",
    "        if j in jyn:\n",
    "            # retain jobs with more than 100 posts in both 2010 and 2018\n",
    "            if jyn[j][2010] > 100 and jyn[j][2018] > 100:\n",
    "                jtr_w[j] = 1- np.dot(jyv_w[j][2018], jyv_w[j][2010])/(\n",
    "                    np.linalg.norm(jyv_w[j][2018])* np.linalg.norm(jyv_w[j][2010]))\n",
    "\n",
    "jtr_w = dict(sorted(jtr_w.items(), key=operator.itemgetter(1)))"
   ]
  },
  {
   "cell_type": "code",
   "execution_count": 27,
   "metadata": {},
   "outputs": [],
   "source": [
    "def weighted_change_coreskill(dictyjas, quant):\n",
    "    \n",
    "    # filter the defining skills\n",
    "    jys2 = defaultdict(lambda:defaultdict(lambda:[]))\n",
    "    yjas2 = defaultdict(lambda:defaultdict(lambda:defaultdict(lambda:0)))\n",
    "    for year in dictyjas:\n",
    "        for job in dictyjas[year]:\n",
    "            threshold = np.quantile(list(dictyjas[year][job].values()), [quant])\n",
    "            for skill in yjas[year][job]:\n",
    "                if dictyjas[year][job][skill] >= threshold:\n",
    "                    jys2[job][year].append(skill)\n",
    "                    yjas2[year][job][skill]+= dictyjas[year][job][skill]\n",
    "            if len(jys2[job][year]) < 5:\n",
    "                #print(job, year)\n",
    "                del jys2[job][year]\n",
    "\n",
    "    jycsw = defaultdict(lambda:defaultdict(lambda:defaultdict(lambda:0)))\n",
    "    for yr in yjas2:\n",
    "        for j in yjas2[yr]:\n",
    "            freqsum=np.sum(list(yjas2[yr][j].values()))\n",
    "            for s in yjas2[yr][j]:\n",
    "                jycsw[j][yr][s] = yjas2[yr][j][s] / freqsum   \n",
    "                \n",
    "    # 200 dimension Job-Year-Vector\n",
    "    jyv_w2 = defaultdict(lambda:defaultdict(lambda:''))\n",
    "    for j in jycsw:\n",
    "        for y in jycsw[j]:\n",
    "            jyv_w2[j][y] = np.sum([model.wv[s]*jycsw[j][y][s] for s in jycsw[j][y].keys() if s in model.wv],axis=0)\n",
    "\n",
    "    # job change from 2010 to 2018: 1 - dot product between 2 job vectors\n",
    "    jtr_w2 = {}\n",
    "    for j in jyv_w2:\n",
    "        if 2010 in jyv_w2[j] and 2018 in jyv_w2[j]:\n",
    "            if j in jyn:\n",
    "                # retain jobs with more than 100 posts in both 2010 and 2018\n",
    "                if jyn[j][2010] > 100 and jyn[j][2018] > 100:\n",
    "                    jtr_w2[j] = 1- np.dot(jyv_w2[j][2018], jyv_w2[j][2010])/(\n",
    "                        np.linalg.norm(jyv_w2[j][2018])* np.linalg.norm(jyv_w2[j][2010]))\n",
    "\n",
    "    jtr_w2 = dict(sorted(jtr_w2.items(), key=operator.itemgetter(1)))\n",
    "    \n",
    "    return jtr_w2"
   ]
  },
  {
   "cell_type": "code",
   "execution_count": 28,
   "metadata": {},
   "outputs": [],
   "source": [
    "def reg_dataframe(lcllocjtrwa, lcslocjtrwa, scllocjtrwa, scslocjtrwa):\n",
    "    # put variables in a dataframe\n",
    "    reg_df2=pd.DataFrame(columns = ['Occupation','SkillChange', 'LogSkillN', 'LogSkillNAll', 'Education', 'LogPay', 'LargeEmployer', 'LargeMarket',\n",
    "                                  'EmployerConcentration', 'LargeEmployer_LogSkillN', 'LargeMarket_LogSkillN',\n",
    "                                   'LargeEmployer_LogSkillNAll', 'LargeMarket_LogSkillNAll',\n",
    "                        'LargeEmployer_LogPay', 'LargeMarket_LogPay', 'LargeEmployer_Education', 'LargeMarket_Education'])\n",
    "\n",
    "    for j in lcllocjtrwa:\n",
    "        if j in lcllocosn and j in oe and j in op and j in Lloc_OCCEC:\n",
    "            reg_df2=reg_df2.append({'Occupation': j, 'SkillChange': lcllocjtrwa[j], 'LogSkillN': np.log(lcllocosn[j]),\n",
    "                'LogSkillNAll': np.log(osn[j]),'Education': oe[j], 'LogPay': np.log(op[j]), 'LargeEmployer': 1, \n",
    "                                    'LargeMarket': 1,'EmployerConcentration': Lloc_OCCEC[j]**2, \n",
    "                    'LargeEmployer_LogSkillN': 1*np.log(lcllocosn[j]), 'LargeMarket_LogSkillN': 1*np.log(lcllocosn[j]),\n",
    "                    'LargeEmployer_LogSkillNAll': 1*np.log(osn[j]), 'LargeMarket_LogSkillNAll': 1*np.log(osn[j]),\n",
    "                    'LargeEmployer_LogPay':1*np.log(op[j]), 'LargeMarket_LogPay': 1*np.log(op[j]), \n",
    "                    'LargeEmployer_Education': 1*oe[j], 'LargeMarket_Education': 1*oe[j]}, ignore_index = True)\n",
    "\n",
    "    for j in  lcslocjtrwa:\n",
    "        if j in lcslocosn and j in oe and j in op and j in Sloc_OCCEC:\n",
    "            reg_df2=reg_df2.append({'Occupation': j, 'SkillChange':  lcslocjtrwa[j], 'LogSkillN': np.log(lcslocosn[j]), \n",
    "                                    'LogSkillNAll': np.log(osn[j]), 'Education': oe[j], 'LogPay': np.log(op[j]), \n",
    "                                    'LargeEmployer': 1, 'LargeMarket': 0,'EmployerConcentration': Sloc_OCCEC[j]**2, \n",
    "                    'LargeEmployer_LogSkillN': 1*np.log(lcslocosn[j]), 'LargeMarket_LogSkillN': 0*np.log(lcslocosn[j]),\n",
    "                    'LargeEmployer_LogSkillNAll': 1*np.log(osn[j]), 'LargeMarket_LogSkillNAll': 0*np.log(osn[j]),\n",
    "                    'LargeEmployer_LogPay':1*np.log(op[j]), 'LargeMarket_LogPay': 0*np.log(op[j]), \n",
    "                    'LargeEmployer_Education': 1*oe[j], 'LargeMarket_Education': 0*oe[j]}, ignore_index = True)\n",
    "\n",
    "    for j in scllocjtrwa:\n",
    "        if j in scllocosn and j in oe and j in op and j in Lloc_OCCEC:\n",
    "            reg_df2=reg_df2.append({'Occupation': j, 'SkillChange':scllocjtrwa[j], 'LogSkillN': np.log(scllocosn[j]), \n",
    "                                    'LogSkillNAll': np.log(osn[j]),  'Education': oe[j], 'LogPay': np.log(op[j]), \n",
    "                                    'LargeEmployer': 0, 'LargeMarket': 1,'EmployerConcentration': Lloc_OCCEC[j]**2, \n",
    "                    'LargeEmployer_LogSkillN': 0*np.log(scllocosn[j]), 'LargeMarket_LogSkillN': 1*np.log(scllocosn[j]),\n",
    "                    'LargeEmployer_LogSkillNAll': 0*np.log(osn[j]), 'LargeMarket_LogSkillNAll': 1*np.log(osn[j]),\n",
    "                    'LargeEmployer_LogPay':0*np.log(op[j]), 'LargeMarket_LogPay': 1*np.log(op[j]), \n",
    "                    'LargeEmployer_Education': 0*oe[j], 'LargeMarket_Education': 1*oe[j]}, ignore_index = True)\n",
    "\n",
    "    for j in scslocjtrwa:\n",
    "        if j in scslocosn and j in oe and j in op and j in Sloc_OCCEC:\n",
    "            reg_df2=reg_df2.append({'Occupation': j, 'SkillChange': scslocjtrwa[j], 'LogSkillN': np.log(scslocosn[j]), \n",
    "                                    'LogSkillNAll': np.log(osn[j]), 'Education': oe[j], 'LogPay': np.log(op[j]),\n",
    "                                    'LargeEmployer': 0, 'LargeMarket': 0,'EmployerConcentration': Sloc_OCCEC[j]**2, \n",
    "                    'LargeEmployer_LogSkillN': 0*np.log(scslocosn[j]), 'LargeMarket_LogSkillN': 0*np.log(scslocosn[j]),\n",
    "                    'LargeEmployer_LogSkillNAll': 0*np.log(osn[j]), 'LargeMarket_LogSkillNAll': 0*np.log(osn[j]),\n",
    "                    'LargeEmployer_LogPay':0*np.log(op[j]), 'LargeMarket_LogPay': 0*np.log(op[j]), \n",
    "                    'LargeEmployer_Education': 0*oe[j], 'LargeMarket_Education': 0*oe[j]}, ignore_index = True)\n",
    "            \n",
    "    return reg_df2"
   ]
  },
  {
   "cell_type": "code",
   "execution_count": 29,
   "metadata": {},
   "outputs": [],
   "source": [
    "lcllocjtrwa = weighted_change_coreskill(lcllocyjas, 0)\n",
    "lcslocjtrwa = weighted_change_coreskill(lcslocyjas, 0)\n",
    "scllocjtrwa = weighted_change_coreskill(scllocyjas, 0)\n",
    "scslocjtrwa = weighted_change_coreskill(scslocyjas, 0)\n",
    "reg_df_was = reg_dataframe(lcllocjtrwa, lcslocjtrwa, scllocjtrwa, scslocjtrwa)"
   ]
  },
  {
   "cell_type": "code",
   "execution_count": 30,
   "metadata": {},
   "outputs": [],
   "source": [
    "lcllocjtrw50 = weighted_change_coreskill(lcllocyjas, 0.5)\n",
    "lcslocjtrw50 = weighted_change_coreskill(lcslocyjas,  0.5)\n",
    "scllocjtrw50 = weighted_change_coreskill(scllocyjas,  0.5)\n",
    "scslocjtrw50 = weighted_change_coreskill(scslocyjas,  0.5)\n",
    "reg_df_w50 = reg_dataframe(lcllocjtrw50, lcslocjtrw50, scllocjtrw50, scslocjtrw50)"
   ]
  },
  {
   "cell_type": "code",
   "execution_count": 31,
   "metadata": {},
   "outputs": [],
   "source": [
    "lcllocjtrw75 = weighted_change_coreskill(lcllocyjas, 0.75)\n",
    "lcslocjtrw75 = weighted_change_coreskill(lcslocyjas,  0.75)\n",
    "scllocjtrw75 = weighted_change_coreskill(scllocyjas,  0.75)\n",
    "scslocjtrw75 = weighted_change_coreskill(scslocyjas,  0.75)\n",
    "reg_df_w75 = reg_dataframe(lcllocjtrw75, lcslocjtrw75, scllocjtrw75, scslocjtrw75)"
   ]
  },
  {
   "cell_type": "code",
   "execution_count": 32,
   "metadata": {},
   "outputs": [
    {
     "data": {
      "text/html": [
       "Explaining Job Skill Change Variation with Skill Complexity, Different Job Content Scope and Skill Weights<br><table style=\"text-align:center\"><tr><td colspan=\"4\" style=\"border-bottom: 1px solid black\"></td></tr><tr><td style=\"text-align:left\"></td><td colspan=\"3\"><em>Dependent variable:SkillChange</em></td></tr><tr><td style=\"text-align:left\"></td><tr><td></td><td colspan=\"1\">All Skills</td><td colspan=\"1\">Top 50\\% Skills</td><td colspan=\"1\">Top 75\\% Skills</td></tr><tr><td colspan=\"4\" style=\"border-bottom: 1px solid black\"></td></tr><tr><td style=\"text-align:left\">Skill Complexity</td><td>-0.020<sup>***</sup></td><td>-0.020<sup>***</sup></td><td>-0.021<sup>***</sup></td></tr><tr><td style=\"text-align:left\"></td><td>(0.001)</td><td>(0.001)</td><td>(0.001)</td></tr><tr><td style=\"text-align:left\">Sq. Emp. Concentr.</td><td>0.028<sup>***</sup></td><td>0.028<sup>***</sup></td><td>0.026<sup>***</sup></td></tr><tr><td style=\"text-align:left\"></td><td>(0.004)</td><td>(0.004)</td><td>(0.004)</td></tr><td colspan=\"4\" style=\"border-bottom: 1px solid black\"></td></tr><tr><td style=\"text-align: left\">Observations</td><td>2,390</td><td>2,390</td><td>2,390</td></tr><tr><td style=\"text-align: left\">R<sup>2</sup></td><td>0.196</td><td>0.196</td><td>0.202</td></tr><tr><td style=\"text-align: left\">Adjusted R<sup>2</sup></td><td>0.195</td><td>0.195</td><td>0.202</td></tr><tr><td style=\"text-align: left\">Residual Std. Error</td><td>0.042 (df=2387)</td><td>0.042 (df=2387)</td><td>0.044 (df=2387)</td></tr><tr><td style=\"text-align: left\">F Statistic</td><td>290.175<sup>***</sup> (df=2; 2387)</td><td>291.110<sup>***</sup> (df=2; 2387)</td><td>302.718<sup>***</sup> (df=2; 2387)</td></tr><tr><td colspan=\"4\" style=\"border-bottom: 1px solid black\"></td></tr><tr><td style=\"text-align: left\">Note:</td>\n",
       " <td colspan=\"3\" style=\"text-align: right\">\n",
       "  <sup>*</sup>p&lt;0.05;\n",
       "  <sup>**</sup>p&lt;0.01;\n",
       "  <sup>***</sup>p&lt;0.001\n",
       " </td></tr><tr><td></td><td colspan=\"3\" style=\"text-align: right\">Sq. Emp. Concentr. refers to squared employer concentration.</td></tr></table>"
      ],
      "text/plain": [
       "<stargazer.stargazer.Stargazer at 0x1ffd47b5af0>"
      ]
     },
     "execution_count": 32,
     "metadata": {},
     "output_type": "execute_result"
    }
   ],
   "source": [
    "mod5= smf.ols('SkillChange ~ LogSkillNAll + EmployerConcentration', data=reg_df_was)\n",
    "res5 = mod5.fit()\n",
    "\n",
    "mod6= smf.ols('SkillChange ~ LogSkillNAll + EmployerConcentration', data=reg_df_w50)\n",
    "res6 = mod6.fit()\n",
    "\n",
    "mod7= smf.ols('SkillChange ~ LogSkillNAll + EmployerConcentration', data=reg_df_w75)\n",
    "res7 = mod7.fit()\n",
    "\n",
    "stargazer = Stargazer([res5, res6, res7])\n",
    "\n",
    "stargazer.title('Explaining Job Skill Change Variation with Skill Complexity, Different Job Content Scope and Skill Weights')\n",
    "stargazer.custom_columns(['All Skills', 'Top 50\\% Skills', 'Top 75\\% Skills'], [1, 1, 1])\n",
    "stargazer.show_model_numbers(False)\n",
    "stargazer.covariate_order(['LogSkillNAll', 'EmployerConcentration'])\n",
    "\n",
    "stargazer.rename_covariates({'LogSkillNAll': 'Skill Complexity', 'LogPay': 'Log Annual Pay', \n",
    "    'Education': 'Education', 'EmployerConcentration': 'Sq. Emp. Concentr.'})\n",
    "stargazer.significance_levels([0.05, 0.01, 0.001])\n",
    "stargazer.add_custom_notes(['Sq. Emp. Concentr. refers to squared employer concentration.'])\n",
    "stargazer"
   ]
  },
  {
   "cell_type": "code",
   "execution_count": 33,
   "metadata": {},
   "outputs": [
    {
     "name": "stdout",
     "output_type": "stream",
     "text": [
      "\\begin{table}[!htbp] \\centering\n",
      "  \\caption{Explaining Job Skill Change Variation with Skill Complexity, Different Job Content Scope and Skill Weights}\n",
      "\\begin{tabular}{@{\\extracolsep{5pt}}lccc}\n",
      "\\\\[-1.8ex]\\hline\n",
      "\\hline \\\\[-1.8ex]\n",
      "& \\multicolumn{3}{c}{\\textit{Dependent variable:}} \\\n",
      "\\cr \\cline{3-4}\n",
      "\\\\[-1.8ex] & \\multicolumn{1}{c}{All Skills} & \\multicolumn{1}{c}{Top 50\\% Skills} & \\multicolumn{1}{c}{Top 75\\% Skills}  \\\\\n",
      "\\hline \\\\[-1.8ex]\n",
      " Skill Complexity & -0.020$^{***}$ & -0.020$^{***}$ & -0.021$^{***}$ \\\\\n",
      "  & (0.001) & (0.001) & (0.001) \\\\\n",
      " Sq. Emp. Concentr. & 0.028$^{***}$ & 0.028$^{***}$ & 0.026$^{***}$ \\\\\n",
      "  & (0.004) & (0.004) & (0.004) \\\\\n",
      "\\hline \\\\[-1.8ex]\n",
      " Observations & 2,390 & 2,390 & 2,390 \\\\\n",
      " $R^2$ & 0.196 & 0.196 & 0.202 \\\\\n",
      " Adjusted $R^2$ & 0.195 & 0.195 & 0.202 \\\\\n",
      " Residual Std. Error & 0.042(df = 2387) & 0.042(df = 2387) & 0.044(df = 2387)  \\\\\n",
      " F Statistic & 290.175$^{***}$ (df = 2.0; 2387.0) & 291.110$^{***}$ (df = 2.0; 2387.0) & 302.718$^{***}$ (df = 2.0; 2387.0) \\\\\n",
      "\\hline\n",
      "\\hline \\\\[-1.8ex]\n",
      "\\textit{Note:} & \\multicolumn{3}{r}{$^{*}$p$<$0.05; $^{**}$p$<$0.01; $^{***}$p$<$0.001} \\\\\n",
      " & \\multicolumn{3}{r}\\textit{Sq. Emp. Concentr. refers to squared employer concentration.} \\\\\n",
      "\\end{tabular}\n",
      "\\end{table}\n"
     ]
    }
   ],
   "source": [
    "print(stargazer.render_latex())"
   ]
  },
  {
   "cell_type": "code",
   "execution_count": 34,
   "metadata": {},
   "outputs": [
    {
     "data": {
      "text/html": [
       "Explaining Job Skill Change Variation with Organization and Local Market Size, Different Job Content Scope and Skill Weights<br><table style=\"text-align:center\"><tr><td colspan=\"4\" style=\"border-bottom: 1px solid black\"></td></tr><tr><td style=\"text-align:left\"></td><td colspan=\"3\"><em>Dependent variable:SkillChange</em></td></tr><tr><td style=\"text-align:left\"></td><tr><td></td><td colspan=\"1\">All Skills</td><td colspan=\"1\">Top 50\\% Skills</td><td colspan=\"1\">Top 75\\% Skills</td></tr><tr><td colspan=\"4\" style=\"border-bottom: 1px solid black\"></td></tr><tr><td style=\"text-align:left\">Large Employer</td><td>-0.031<sup>***</sup></td><td>-0.031<sup>***</sup></td><td>-0.021<sup>**</sup></td></tr><tr><td style=\"text-align:left\"></td><td>(0.007)</td><td>(0.007)</td><td>(0.007)</td></tr><tr><td style=\"text-align:left\">Large Market</td><td>-0.045<sup>***</sup></td><td>-0.045<sup>***</sup></td><td>-0.038<sup>***</sup></td></tr><tr><td style=\"text-align:left\"></td><td>(0.009)</td><td>(0.009)</td><td>(0.009)</td></tr><tr><td style=\"text-align:left\">LE * SC</td><td>0.006<sup>***</sup></td><td>0.006<sup>***</sup></td><td>0.004<sup>*</sup></td></tr><tr><td style=\"text-align:left\"></td><td>(0.002)</td><td>(0.002)</td><td>(0.002)</td></tr><tr><td style=\"text-align:left\">LM * SC</td><td>0.008<sup>*</sup></td><td>0.008<sup>*</sup></td><td>0.008<sup>*</sup></td></tr><tr><td style=\"text-align:left\"></td><td>(0.003)</td><td>(0.003)</td><td>(0.003)</td></tr><tr><td style=\"text-align:left\">Sq. Emp. Concentr.</td><td>0.013<sup></sup></td><td>0.014<sup></sup></td><td>0.021<sup></sup></td></tr><tr><td style=\"text-align:left\"></td><td>(0.019)</td><td>(0.019)</td><td>(0.019)</td></tr><tr><td style=\"text-align: left\">Occ. FE</td><td>Yes</td><td>Yes</td><td>Yes</td></tr><td colspan=\"4\" style=\"border-bottom: 1px solid black\"></td></tr><tr><td style=\"text-align: left\">Observations</td><td>2,390</td><td>2,390</td><td>2,390</td></tr><tr><td style=\"text-align: left\">R<sup>2</sup></td><td>0.670</td><td>0.670</td><td>0.678</td></tr><tr><td style=\"text-align: left\">Adjusted R<sup>2</sup></td><td>0.523</td><td>0.524</td><td>0.535</td></tr><tr><td style=\"text-align: left\">Residual Std. Error</td><td>0.033 (df=1655)</td><td>0.033 (df=1655)</td><td>0.033 (df=1655)</td></tr><tr><td style=\"text-align: left\">F Statistic</td><td>4.573<sup>***</sup> (df=734; 1655)</td><td>4.583<sup>***</sup> (df=734; 1655)</td><td>4.738<sup>***</sup> (df=734; 1655)</td></tr><tr><td colspan=\"4\" style=\"border-bottom: 1px solid black\"></td></tr><tr><td style=\"text-align: left\">Note:</td>\n",
       " <td colspan=\"3\" style=\"text-align: right\">\n",
       "  <sup>*</sup>p&lt;0.05;\n",
       "  <sup>**</sup>p&lt;0.01;\n",
       "  <sup>***</sup>p&lt;0.001\n",
       " </td></tr><tr><td></td><td colspan=\"3\" style=\"text-align: right\">LE refers to Large Employer dummy. LM refers to Large Market dummy. SC refers to Skill Complexity of job, which is measured by the log number of top 5\\% core skills. Sq. Emp. Concentr. refers to squared employer concentration.</td></tr></table>"
      ],
      "text/plain": [
       "<stargazer.stargazer.Stargazer at 0x1ffec7a97f0>"
      ]
     },
     "execution_count": 34,
     "metadata": {},
     "output_type": "execute_result"
    }
   ],
   "source": [
    "resfrc1 =  smf.ols(\"SkillChange ~ LargeEmployer + LargeMarket + LargeEmployer_LogSkillNAll + LargeMarket_LogSkillNAll + C(Occupation)+ EmployerConcentration\", \n",
    "                 data=reg_df_was).fit()\n",
    "resfrc2 =  smf.ols(\"SkillChange ~ LargeEmployer + LargeMarket + LargeEmployer_LogSkillNAll + LargeMarket_LogSkillNAll + C(Occupation)+ EmployerConcentration\", \n",
    "                 data=reg_df_w50).fit()\n",
    "resfrc3 =  smf.ols(\"SkillChange ~ LargeEmployer + LargeMarket + LargeEmployer_LogSkillNAll + LargeMarket_LogSkillNAll + C(Occupation)+ EmployerConcentration\", \n",
    "                 data=reg_df_w75).fit()\n",
    "\n",
    "stargazer_rc = Stargazer([resfrc1, resfrc2, resfrc3])\n",
    "\n",
    "stargazer_rc.title('Explaining Job Skill Change Variation with Organization and Local Market Size, Different Job Content Scope and Skill Weights')\n",
    "stargazer_rc.custom_columns(['All Skills', 'Top 50\\% Skills', 'Top 75\\% Skills'], [1, 1, 1])\n",
    "stargazer_rc.show_model_numbers(False)\n",
    "stargazer_rc.covariate_order(['LargeEmployer[T.1]', 'LargeMarket[T.1]', 'LargeEmployer_LogSkillNAll', 'LargeMarket_LogSkillNAll',\n",
    "                            'EmployerConcentration'])\n",
    "stargazer_rc.rename_covariates({'LargeEmployer[T.1]': 'Large Employer', 'LargeMarket[T.1]': 'Large Market', \n",
    "    'LargeEmployer_LogSkillNAll': 'LE * SC', 'LargeMarket_LogSkillNAll': 'LM * SC', 'EmployerConcentration': 'Sq. Emp. Concentr.'})\n",
    "stargazer_rc.significance_levels([0.05, 0.01, 0.001])\n",
    "stargazer_rc.add_line('Occ. FE', ['Yes', 'Yes', 'Yes'])\n",
    "stargazer_rc.add_custom_notes(['LE refers to Large Employer dummy. LM refers to Large Market dummy. SC refers to Skill Complexity of job, which is measured by the log number of top 5\\% core skills. Sq. Emp. Concentr. refers to squared employer concentration.'])\n",
    "stargazer_rc"
   ]
  },
  {
   "cell_type": "code",
   "execution_count": 35,
   "metadata": {},
   "outputs": [
    {
     "name": "stdout",
     "output_type": "stream",
     "text": [
      "\\begin{table}[!htbp] \\centering\n",
      "  \\caption{Explaining Job Skill Change Variation with Organization and Local Market Size, Different Job Content Scope and Skill Weights}\n",
      "\\begin{tabular}{@{\\extracolsep{5pt}}lccc}\n",
      "\\\\[-1.8ex]\\hline\n",
      "\\hline \\\\[-1.8ex]\n",
      "& \\multicolumn{3}{c}{\\textit{Dependent variable:}} \\\n",
      "\\cr \\cline{3-4}\n",
      "\\\\[-1.8ex] & \\multicolumn{1}{c}{All Skills} & \\multicolumn{1}{c}{Top 50\\% Skills} & \\multicolumn{1}{c}{Top 75\\% Skills}  \\\\\n",
      "\\hline \\\\[-1.8ex]\n",
      " Large Employer & -0.031$^{***}$ & -0.031$^{***}$ & -0.021$^{**}$ \\\\\n",
      "  & (0.007) & (0.007) & (0.007) \\\\\n",
      " Large Market & -0.045$^{***}$ & -0.045$^{***}$ & -0.038$^{***}$ \\\\\n",
      "  & (0.009) & (0.009) & (0.009) \\\\\n",
      " LE * SC & 0.006$^{***}$ & 0.006$^{***}$ & 0.004$^{*}$ \\\\\n",
      "  & (0.002) & (0.002) & (0.002) \\\\\n",
      " LM * SC & 0.008$^{*}$ & 0.008$^{*}$ & 0.008$^{*}$ \\\\\n",
      "  & (0.003) & (0.003) & (0.003) \\\\\n",
      " Sq. Emp. Concentr. & 0.013$^{}$ & 0.014$^{}$ & 0.021$^{}$ \\\\\n",
      "  & (0.019) & (0.019) & (0.019) \\\\\n",
      " Occ. FE & Yes & Yes & Yes \\\\\n",
      "\\hline \\\\[-1.8ex]\n",
      " Observations & 2,390 & 2,390 & 2,390 \\\\\n",
      " $R^2$ & 0.670 & 0.670 & 0.678 \\\\\n",
      " Adjusted $R^2$ & 0.523 & 0.524 & 0.535 \\\\\n",
      " Residual Std. Error & 0.033(df = 1655) & 0.033(df = 1655) & 0.033(df = 1655)  \\\\\n",
      " F Statistic & 4.573$^{***}$ (df = 734.0; 1655.0) & 4.583$^{***}$ (df = 734.0; 1655.0) & 4.738$^{***}$ (df = 734.0; 1655.0) \\\\\n",
      "\\hline\n",
      "\\hline \\\\[-1.8ex]\n",
      "\\textit{Note:} & \\multicolumn{3}{r}{$^{*}$p$<$0.05; $^{**}$p$<$0.01; $^{***}$p$<$0.001} \\\\\n",
      " & \\multicolumn{3}{r}\\textit{LE refers to Large Employer dummy. LM refers to Large Market dummy. SC refers to Skill Complexity of job, which is measured by the log number of top 5\\% core skills. Sq. Emp. Concentr. refers to squared employer concentration.} \\\\\n",
      "\\end{tabular}\n",
      "\\end{table}\n"
     ]
    }
   ],
   "source": [
    "print(stargazer_rc.render_latex())"
   ]
  }
 ],
 "metadata": {
  "kernelspec": {
   "display_name": "Python 3",
   "language": "python",
   "name": "python3"
  },
  "language_info": {
   "codemirror_mode": {
    "name": "ipython",
    "version": 3
   },
   "file_extension": ".py",
   "mimetype": "text/x-python",
   "name": "python",
   "nbconvert_exporter": "python",
   "pygments_lexer": "ipython3",
   "version": "3.8.5"
  }
 },
 "nbformat": 4,
 "nbformat_minor": 4
}
